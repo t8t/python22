{
 "cells": [
  {
   "cell_type": "code",
   "execution_count": 9,
   "id": "313963f4",
   "metadata": {
    "scrolled": true
   },
   "outputs": [
    {
     "name": "stdout",
     "output_type": "stream",
     "text": [
      "300\n",
      "10\n",
      "3\n"
     ]
    }
   ],
   "source": [
    "print(100 * 3); print(10); print(3)"
   ]
  },
  {
   "cell_type": "code",
   "execution_count": 10,
   "id": "d4c597b9",
   "metadata": {
    "scrolled": true
   },
   "outputs": [
    {
     "name": "stdout",
     "output_type": "stream",
     "text": [
      "0\n",
      "1\n",
      "2\n",
      "실행종료\n"
     ]
    }
   ],
   "source": [
    "for i in range(3):\n",
    "    print(i)\n",
    "print(\"실행종료\")"
   ]
  },
  {
   "cell_type": "code",
   "execution_count": 13,
   "id": "c6680858",
   "metadata": {},
   "outputs": [
    {
     "name": "stdout",
     "output_type": "stream",
     "text": [
      "15\n",
      "5\n",
      "2.0\n",
      "50\n",
      "1\n",
      "3\n",
      "100\n",
      "1000\n"
     ]
    }
   ],
   "source": [
    "# 연산자 (+, -, *, /, %, //, **)\n",
    "print(10 + 5)\n",
    "print(10 - 5)\n",
    "print(10 / 5)\n",
    "print(10 * 5)\n",
    "print(10 % 3) # 나머지\n",
    "print(10 // 3) # 몫\n",
    "print(10 ** 2) # 제곱승\n",
    "print(10 ** 3)\n",
    "\n",
    "# 리터럴 : 자연어(숫자: 정수 리터널, 실수 리터럴)\n",
    "\n",
    "# 문자 리터널 : '', \"\", \"\"\", ''' 사용하여 정의\n",
    "# 문자열 연산자 : +, *"
   ]
  },
  {
   "cell_type": "code",
   "execution_count": 17,
   "id": "f66a8bad",
   "metadata": {},
   "outputs": [
    {
     "name": "stdout",
     "output_type": "stream",
     "text": [
      "Life is too short, You need python\n",
      "Life is too short, You need python\n"
     ]
    }
   ],
   "source": [
    "print(\"Life is too short, You need python\")\n",
    "\n",
    "str1 = \"Life is too short, You need python\"\n",
    "print(str1)"
   ]
  },
  {
   "cell_type": "code",
   "execution_count": 20,
   "id": "4cdca74a",
   "metadata": {},
   "outputs": [
    {
     "name": "stdout",
     "output_type": "stream",
     "text": [
      "Life is too short, \n",
      "      You need python\n"
     ]
    }
   ],
   "source": [
    "print('''Life is too short, \n",
    "      You need python''')"
   ]
  },
  {
   "cell_type": "code",
   "execution_count": 25,
   "id": "072d285e",
   "metadata": {},
   "outputs": [
    {
     "name": "stdout",
     "output_type": "stream",
     "text": [
      "==============================\n",
      "Python is fun\n",
      "Python Python Python \n",
      "==============================\n"
     ]
    }
   ],
   "source": [
    "head = \"Python \"\n",
    "tail = \"is fun\"\n",
    "print(\"=\" * 30)\n",
    "print(head + tail) # 연결연산자\n",
    "print(head * 3)\n",
    "print(\"=\" * 30)"
   ]
  },
  {
   "cell_type": "code",
   "execution_count": 47,
   "id": "db2bb5e5",
   "metadata": {},
   "outputs": [
    {
     "name": "stdout",
     "output_type": "stream",
     "text": [
      "f\n",
      "t\n",
      "17\n",
      "t\n",
      "t\n",
      "f\n",
      "L i f e\n",
      "Life\n",
      "Life\n",
      "short\n",
      "short\n"
     ]
    }
   ],
   "source": [
    "# Indexing\n",
    "a = \"Life is too short\"\n",
    "#    01234567890123456  # 문자열의 문자마다 순번이 이것을 index 라고 함\n",
    "#              1\n",
    "#    76543210987654321  -\n",
    "#           1\n",
    "print(a[2])\n",
    "print(a[16])\n",
    "print(len(a))\n",
    "print(a[len(a)-1])\n",
    "print(a[-1]) # print(a[16])\n",
    "print(a[-15]) # print(a[2])\n",
    "\n",
    "# Life 가져오기\n",
    "print(a[0], a[1], a[2], a[3])\n",
    "print(a[0] + a[1] + a[2] + a[3])\n",
    "\n",
    "# Slicing\n",
    "print(a[0:4]) # 0번부터 4번 이전\n",
    "print(a[12:12+5])\n",
    "print(a[-5:])"
   ]
  },
  {
   "cell_type": "code",
   "execution_count": 51,
   "id": "e8d335dd",
   "metadata": {},
   "outputs": [
    {
     "name": "stdout",
     "output_type": "stream",
     "text": [
      "20010331\n",
      "Rainy\n",
      "2001\n",
      "03\n",
      "31\n"
     ]
    }
   ],
   "source": [
    "a = \"20010331Rainy\"\n",
    "birth = a[:8]\n",
    "name = a[8:]\n",
    "print(birth)\n",
    "print(name)\n",
    "year = a[:4]\n",
    "print(year)\n",
    "month = a[4:4+2]\n",
    "print(month)\n",
    "day = a[6:6+2]\n",
    "print(day)"
   ]
  },
  {
   "cell_type": "code",
   "execution_count": 62,
   "id": "3a18b176",
   "metadata": {
    "scrolled": true
   },
   "outputs": [
    {
     "name": "stdout",
     "output_type": "stream",
     "text": [
      "TONY의 계좌번호 1111에는 100원이 들어 있습니다.\n",
      "TONY의 계좌번호 1111에는 100원이 들어 있습니다.\n",
      "TONY의 나이는 40살이구요 키는 177.100000 입니다.\n",
      "TONY의 나이는 40살이구요 키는 177.1 입니다.\n",
      "TONY의 나이는         40살이구요 키는 177.1 입니다.\n",
      "TONY의 나이는 40        살이구요 키는 177.1 입니다.\n",
      "      TONY의 나이는         40살이구요 키는 177.1 입니다.\n",
      "TONY      의 나이는 40        살이구요 키는 177.1 입니다.\n"
     ]
    }
   ],
   "source": [
    "# TONY의 계좌번호 1111에는 100원이 들어 있습니다.\n",
    "name = \"TONY\"\n",
    "account = \"1111\"\n",
    "money = 100\n",
    "\n",
    "# 문자열 포맷팅\n",
    "# print(name + \"의 계좌번호 \" + account + \"에는 \" + money + \"원이 들어 있습니다.\")# 숫자리터럴에서 연결 오류 발생\n",
    "print(\"%s의 계좌번호 %s에는 %d원이 들어 있습니다.\" %(name, account, money))\n",
    "print(\"{}의 계좌번호 {}에는 {}원이 들어 있습니다.\".format(name, account, money))\n",
    "\n",
    "# TONY의 나이는 40살이구요 키는 177.1 입니다.\n",
    "age = 40\n",
    "height = 177.1\n",
    "print(\"%s의 나이는 %d살이구요 키는 %f 입니다.\" % (name, age, height)) # Float 소숫점 6자리가 기본\n",
    "print(\"%s의 나이는 %d살이구요 키는 %.1f 입니다.\" % (name, age, height))\n",
    "print(\"%s의 나이는 %10d살이구요 키는 %.1f 입니다.\" % (name, age, height)) # 숫자 10자리 우측정렬\n",
    "print(\"%s의 나이는 %-10d살이구요 키는 %.1f 입니다.\" % (name, age, height)) # 숫자 10자리 좌측정렬\n",
    "print(\"%10s의 나이는 %10d살이구요 키는 %.1f 입니다.\" % (name, age, height))\n",
    "print(\"%-10s의 나이는 %-10d살이구요 키는 %.1f 입니다.\" % (name, age, height)) "
   ]
  },
  {
   "cell_type": "code",
   "execution_count": 67,
   "id": "345aad45",
   "metadata": {},
   "outputs": [
    {
     "name": "stdout",
     "output_type": "stream",
     "text": [
      "TONY의 계좌번호 1111에는 100원이 들어 있습니다.\n",
      "TONY의 계좌번호 1111에는 100원이 들어 있습니다.\n"
     ]
    }
   ],
   "source": [
    "# format 함수를 사용한 포매팅\n",
    "name = \"TONY\"\n",
    "account = \"1111\"\n",
    "money = 100\n",
    "\n",
    "print(\"%s의 계좌번호 %s에는 %d원이 들어 있습니다.\" % (name, account, money))\n",
    "print(\"{1}의 계좌번호 {0}에는 {2}원이 들어 있습니다.\".format(account, name, money))"
   ]
  },
  {
   "cell_type": "code",
   "execution_count": 68,
   "id": "786181d0",
   "metadata": {},
   "outputs": [
    {
     "name": "stdout",
     "output_type": "stream",
     "text": [
      "TONY의 나이는 40살이구요 키는 177.1입니다.\n"
     ]
    }
   ],
   "source": [
    "name = \"TONY\"\n",
    "age = 40\n",
    "height = 177.1\n",
    "\n",
    "# TONY의 나이는 40살이구요 키는 177.1 입니다.\n",
    "a = \"{0}의 나이는 {a}살이구요 키는 {h}입니다.\".format(name, a = age, h = height)\n",
    "print(a)"
   ]
  },
  {
   "cell_type": "code",
   "execution_count": 69,
   "id": "3d75c924",
   "metadata": {},
   "outputs": [
    {
     "name": "stdout",
     "output_type": "stream",
     "text": [
      "TONY의 계좌번호 1111에는 100원이 들어 있습니다.\n"
     ]
    }
   ],
   "source": [
    "# TONY의 계좌번호 1111에는 100원이 들어 있습니다.\n",
    "name = \"TONY\"\n",
    "account = \"1111\"\n",
    "money = 100\n",
    "\n",
    "a = f\"{name}의 계좌번호 {account}에는 {money}원이 들어 있습니다.\"\n",
    "print(a)"
   ]
  },
  {
   "cell_type": "code",
   "execution_count": 84,
   "id": "f71695f1",
   "metadata": {},
   "outputs": [
    {
     "name": "stdout",
     "output_type": "stream",
     "text": [
      "5\n",
      "23\n",
      "need\n",
      "need\n",
      "23\n",
      "12\n",
      "-1\n",
      "23\n",
      "23\n",
      "12\n",
      "33\n"
     ]
    }
   ],
   "source": [
    "# 문자열을 가공하기 위한 문자열 함수\n",
    "a = 'Life is too short, You need python'\n",
    "print(a.count('o')) # 문자 'o' 갯수\n",
    "print(a.find('n')) # 문자 'n' 의 위치\n",
    "print(a[a.find('n'): a.find('n') + 4])\n",
    "print(a[23: 23 + 4])\n",
    "print(a.find('need'))\n",
    "print(a.find('s', 7)) # index 7 이후의 s 를 찾는다\n",
    "print(a.find('x')) # -1\n",
    "print(a.index('n'))\n",
    "print(a.index('need'))\n",
    "print(a.index('s', 7))\n",
    "#print(a.index('x')) # index 는 찾지 못하면 에러발생\n",
    "print(a.rindex('n')) # 오른쪽에서부터 찾기\n",
    "print(a.rfind('n')) # 오른쪽에서부터 찾기"
   ]
  },
  {
   "cell_type": "code",
   "execution_count": 106,
   "id": "040607e9",
   "metadata": {},
   "outputs": [
    {
     "name": "stdout",
     "output_type": "stream",
     "text": [
      "Life is too short, You need python\n",
      "life is too short, you need python\n",
      "LIFE IS TOO SHORT, YOU NEED PYTHON\n",
      "['Life', 'is', 'too', 'short,', 'You', 'need', 'python']\n",
      "['Life', 'is', 'too', 'short,', 'You', 'need', 'python']\n",
      "abcd\n",
      "    abcd  \n",
      "abcd\n",
      "    ab cd  \n",
      "ab cd\n",
      "    ab cd\n",
      "ab cd  \n",
      " cd\n",
      "Life is too short, You need python\n",
      "Your leg is too short, You need python\n",
      "True\n",
      "False\n",
      "True\n",
      "False\n",
      "False\n",
      "False\n"
     ]
    }
   ],
   "source": [
    "a = 'Life is too short, You need python'\n",
    "print(a)\n",
    "print(a.lower())\n",
    "print(a.upper())\n",
    "l = a.split() # 공백문자로 구분\n",
    "print(l) # 리스트\n",
    "\n",
    "s = \"Life:is:too:short,:You:need:python\"\n",
    "l = s.split(\":\") # : 문자로 구분\n",
    "print(l)\n",
    "print(\"abcd\")\n",
    "s = \"    abcd  \"\n",
    "print(s)\n",
    "print(s.strip())\n",
    "s = \"    ab cd  \"\n",
    "print(s)\n",
    "print(s.strip())\n",
    "print(s.rstrip())\n",
    "print(s.lstrip())\n",
    "s = \"ab cd\"\n",
    "print(s.strip(\"ab\"))\n",
    "a = \"Life is too short, You need python\"\n",
    "print(a) # Your leg is too short, You need python\n",
    "print(a.replace(\"Life\", \"Your leg\"))\n",
    "digit = \"01046137044\"\n",
    "print(digit.isdigit()) # True\n",
    "digit = \"010-4613-7044\"\n",
    "print(digit.isdigit()) # False\n",
    "alpha = \"abcd\"\n",
    "print(alpha.isalpha())# True\n",
    "alpha = \"ab cd\"\n",
    "print(alpha.isalpha()) # False\n",
    "print(a.islower())\n",
    "print(a.isupper())"
   ]
  },
  {
   "cell_type": "code",
   "execution_count": 114,
   "id": "70058458",
   "metadata": {},
   "outputs": [
    {
     "name": "stdout",
     "output_type": "stream",
     "text": [
      "['TONY', 'FREDDIE', 'KIM']\n",
      "<class 'int'>\n",
      "<class 'str'>\n",
      "<class 'list'>\n",
      "<class 'list'>\n"
     ]
    }
   ],
   "source": [
    "# 숫자 리터럴 : 정수, 실수\n",
    "# 문자 리터럴 : \"a\", 'a', '''a''', \"\"\"a\"\"\", \"10\", a:변수 : 영어, 한국어, 중국어\n",
    "# 리스트 자료형 : []\n",
    "l = [\"TONY\", \"FREDDIE\", \"KIM\"] # 문자열이 있는 리스트\n",
    "print(l)\n",
    "# 각각의 자료형 확인\n",
    "i = 10\n",
    "str1 = \"TONY\"\n",
    "print(type(i))\n",
    "print(type(str1))\n",
    "print(type(l))\n",
    "\n",
    "l = [\"TONY\", 100, 10.5] # 혼합형 리스트\n",
    "print(type(l))"
   ]
  },
  {
   "cell_type": "code",
   "execution_count": 116,
   "id": "6b39a649",
   "metadata": {},
   "outputs": [
    {
     "name": "stdout",
     "output_type": "stream",
     "text": [
      "['TONY', 40, 171.1, [1, 2, 3]]\n",
      "[[1, 2, 3], [4, 5, 6]]\n",
      "[]\n",
      "['Life', 'is', 'too', 'short']\n"
     ]
    }
   ],
   "source": [
    "a = [\"TONY\", 40, 171.1, [1,2,3]] # 리스트 포함한 혼합형 리스트\n",
    "print(a)\n",
    "a = [[1,2,3], [4,5,6]] # 리스트를 포함한 리스트\n",
    "print(a)\n",
    "a = [] # 빈리스트\n",
    "print(a)\n",
    "a = \"Life:is:too:short\"\n",
    "c = a.split(\":\")\n",
    "print(c)"
   ]
  },
  {
   "cell_type": "code",
   "execution_count": 126,
   "id": "cc5a1c93",
   "metadata": {},
   "outputs": [
    {
     "name": "stdout",
     "output_type": "stream",
     "text": [
      "Life is too short\n",
      "t\n",
      "too\n",
      "<class 'str'>\n",
      "o\n",
      "istoo\n",
      "too\n"
     ]
    }
   ],
   "source": [
    "a = \"Life is too short\"\n",
    "#    01234567890123456\n",
    "#              1\n",
    "print(a)\n",
    "print(a[8])\n",
    "l = ['Life', 'is', 'too', 'short']\n",
    "#     0       1     2      3\n",
    "print(l[2])\n",
    "s = l[2]\n",
    "print(type(s)) # 문자열 : too\n",
    "#                         012\n",
    "print(l[2][1])\n",
    "print(l[1] + l[2]) # 'is' + 'too'\n",
    "print(l[-2])"
   ]
  },
  {
   "cell_type": "code",
   "execution_count": 127,
   "id": "df9bd825",
   "metadata": {},
   "outputs": [
    {
     "name": "stdout",
     "output_type": "stream",
     "text": [
      "b\n"
     ]
    }
   ],
   "source": [
    "a = [1, 2, 3, ['a', 'b', 'c']]\n",
    "#    0  1  2   3\n",
    "#               0    1    2\n",
    "print(a[3][1]) # b"
   ]
  },
  {
   "cell_type": "code",
   "execution_count": 133,
   "id": "8a1e94a1",
   "metadata": {},
   "outputs": [
    {
     "name": "stdout",
     "output_type": "stream",
     "text": [
      "too\n",
      "['is', 'too']\n",
      "['is']\n",
      "is\n",
      "['Your leg', 'is', 'too', 'short']\n"
     ]
    }
   ],
   "source": [
    "a = \"Life is too short\"\n",
    "#    01234567890123456\n",
    "#              1\n",
    "print(a[8:8+3]) # slicing\n",
    "l = [\"Life\", \"is\", \"too\", \"short\"]\n",
    "#    0       1     2      3\n",
    "#    4       3     2      1\n",
    "print(l[1:1+2])\n",
    "print(l[-3:-3+1])\n",
    "print(l[1])\n",
    "l[0] = \"Your leg\"\n",
    "print(l)"
   ]
  },
  {
   "cell_type": "code",
   "execution_count": 135,
   "id": "b59b4f0d",
   "metadata": {},
   "outputs": [
    {
     "name": "stdout",
     "output_type": "stream",
     "text": [
      "['Life', 'is', 'short']\n",
      "['short']\n"
     ]
    }
   ],
   "source": [
    "# 리스트 함수\n",
    "l = [\"Life\", \"is\", \"too\", \"short\"]\n",
    "del l[2] # ['Life', 'is', 'short']\n",
    "print(l)\n",
    "del l[0:0+2] # slicing 을 이용한 삭제\n",
    "print(l)"
   ]
  },
  {
   "cell_type": "code",
   "execution_count": 138,
   "id": "970c8f7b",
   "metadata": {},
   "outputs": [
    {
     "name": "stdout",
     "output_type": "stream",
     "text": [
      "['Life']\n",
      "['Life', 'is']\n",
      "['Life', 'is', 'too']\n",
      "['Life', 'is', 'too', 'short']\n"
     ]
    }
   ],
   "source": [
    "l = [\"Life\", \"is\", \"too\", \"short\"]\n",
    "del l[1:]\n",
    "print(l)\n",
    "l.append('is')\n",
    "print(l)\n",
    "l.append('too')\n",
    "print(l)\n",
    "l.append('short')\n",
    "print(l)"
   ]
  },
  {
   "cell_type": "code",
   "execution_count": 152,
   "id": "8843daf1",
   "metadata": {},
   "outputs": [
    {
     "name": "stdout",
     "output_type": "stream",
     "text": [
      "[1, 2, 3, 4]\n",
      "[3, 2, 4, 1]\n",
      "0\n",
      "[3, 2, 4, 1]\n",
      "[3, 2, 6, 4, 1]\n",
      "[3, 2, 6, 1]\n",
      "[3, 2, 6, 1, 6]\n",
      "[3, 2, 1, 6]\n",
      "[3, 2, 1, 6, 6]\n",
      "2\n"
     ]
    }
   ],
   "source": [
    "# 데이터 정렬\n",
    "a = [1, 4, 2, 3]\n",
    "a.sort() # 데이터 원본을 변경하기 때문에 print 에서 출력할 수 없다.\n",
    "print(a)\n",
    "a = [1, 4, 2, 3]\n",
    "a.reverse()\n",
    "print(a)\n",
    "print(a.index(3))\n",
    "# print(a.find(3)) # 리스트에는 find 가 없다. 문자열 함수\n",
    "print(a)\n",
    "a.insert(2, 6)\n",
    "print(a)\n",
    "a.remove(4)\n",
    "print(a)\n",
    "a.append(6)\n",
    "print(a)\n",
    "a.remove(6)\n",
    "print(a)\n",
    "a.append(6)\n",
    "print(a)\n",
    "print(a.count(6))"
   ]
  },
  {
   "cell_type": "code",
   "execution_count": 161,
   "id": "e8bb4932",
   "metadata": {},
   "outputs": [
    {
     "name": "stdout",
     "output_type": "stream",
     "text": [
      "[1, 4, 2, 5, 3]\n",
      "[1, 4, 2, 5]\n",
      "[1, 4, 2]\n",
      "5\n",
      "4\n"
     ]
    }
   ],
   "source": [
    "a = [1, 4, 2, 5, 4, 3]\n",
    "del a[4] # 인덱스로 삭제\n",
    "print(a)\n",
    "a.remove(3) # 값으로 삭제\n",
    "print(a) # [1, 4, 2, 5]\n",
    "b = a.pop() # 마지막 데이터를 가져오고 삭제\n",
    "print(a) # [1, 4, 2]\n",
    "print(b) \n",
    "b = a.pop(1) # 인덱스로 pop\n",
    "print(b)"
   ]
  },
  {
   "cell_type": "code",
   "execution_count": 166,
   "id": "256b2134",
   "metadata": {},
   "outputs": [
    {
     "name": "stdout",
     "output_type": "stream",
     "text": [
      "[5, 4, 4, 3, 2, 1]\n",
      "[1, 2, 3, 4, 5, 6]\n",
      "[1, 2, 3, 1, 2, 3, 1, 2, 3]\n",
      "[1, 2, 3, 9, 8, 7]\n"
     ]
    }
   ],
   "source": [
    "a = [1, 4, 2, 5, 4, 3]\n",
    "a.sort(reverse=True) # 내림차순 정렬\n",
    "print(a)\n",
    "a = [1, 2, 3]\n",
    "b = [4, 5, 6]\n",
    "c = a + b # 연결 연산자\n",
    "print(c)\n",
    "print(a * 3) # 반복 연산자\n",
    "a.extend([9,8,7])\n",
    "print(a)"
   ]
  },
  {
   "cell_type": "code",
   "execution_count": 169,
   "id": "e0907950",
   "metadata": {},
   "outputs": [
    {
     "name": "stdout",
     "output_type": "stream",
     "text": [
      "6\n",
      "[6, 6, 5, 4, 4, 2, 1]\n",
      "Life is too short\n",
      "2\n"
     ]
    }
   ],
   "source": [
    "a = [1, 4, 2, 5, 4, 3]\n",
    "# 크기\n",
    "print(len(a))\n",
    "# 삭제\n",
    "del a[1]\n",
    "a.remove(4)\n",
    "a.pop()\n",
    "a.pop(2)\n",
    "# 추가 및 삽입 그리고 확장\n",
    "a.append(4)\n",
    "a.insert(3, 6)\n",
    "a.extend([4,5,6])\n",
    "# 정렬\n",
    "a.sort()\n",
    "a.reverse()\n",
    "a.sort(reverse=True)\n",
    "print(a)\n",
    "c = ['Life', 'is', 'too', 'short']\n",
    "d = \" \".join(c) # 리스트를 문자열로 변환\n",
    "print(d)\n",
    "# 요소 번호 찾기\n",
    "print(a.index(5))"
   ]
  },
  {
   "cell_type": "code",
   "execution_count": 170,
   "id": "a44478a3",
   "metadata": {},
   "outputs": [
    {
     "name": "stdout",
     "output_type": "stream",
     "text": [
      "[1, 2, 3]\n",
      "1\n"
     ]
    }
   ],
   "source": [
    "# 숫자 자료형 : 10, 10.5\n",
    "# 문자 자료혈 : '', \"\", \"\"\" \"\"\", ''' '''\n",
    "# 리스트 자료형 : []\n",
    "# 튜플 자료형 : ()\n",
    "l = [1,2,3,4]\n",
    "t = (1,2,3,4)\n",
    "t1 = (\"TONY\", 12, [1,2,3], (4,5,6))\n",
    "#     0       1   2        3\n",
    "print(t1[2])\n",
    "print(t1.index(12))\n",
    "l[1] = 10\n",
    "print(l)\n",
    "# t[1] = 10 # 튜플은 요소값 변경을 못한다"
   ]
  },
  {
   "cell_type": "code",
   "execution_count": 171,
   "id": "159581d1",
   "metadata": {},
   "outputs": [
    {
     "name": "stdout",
     "output_type": "stream",
     "text": [
      "1\n",
      "20\n"
     ]
    }
   ],
   "source": [
    "l = []\n",
    "t = ()\n",
    "l1 = [1]\n",
    "t1 = (1,) # (1) 은 연산자로 처리되므로 ,를 추가하여 튜플로 생성한다\n",
    "l2 = (1,2)\n",
    "t2 = (1,2)\n",
    "print(t1)\n",
    "print( (4) * 5)"
   ]
  },
  {
   "cell_type": "code",
   "execution_count": 174,
   "id": "3c9a33f4",
   "metadata": {},
   "outputs": [
    {
     "name": "stdout",
     "output_type": "stream",
     "text": [
      "TONY\n",
      "40\n",
      "{'name': 'FREDDIE', 'age': 40, 'height': 177.1}\n",
      "[1, 2, 3, 10]\n",
      "{'name': 'FREDDIE', 'age': 40, 'height': 177.1, 'add': '성남'}\n",
      "{1: 'FREDDIE'}\n"
     ]
    }
   ],
   "source": [
    "# 딕셔너리 : 키와 값이 하나의 쌍으로 되어 있는 자료형\n",
    "# {Key:Value1, Key2:Value2, Key3:Value, ...}\n",
    "# html : json 자료형과 같다...\n",
    "name = \"TONY\"\n",
    "age = 40\n",
    "height = 177.1\n",
    "dic = {'name': 'TONY', 'age': 40, 'height': 177.1}\n",
    "# 딕셔너리는 index 가 없다\n",
    "print(dic['name'])\n",
    "print(dic['age'])\n",
    "dic['name'] = 'FREDDIE'\n",
    "print(dic)\n",
    "l = [1,2,3,4]\n",
    "#    0 1 2 3\n",
    "l[3] = 10\n",
    "print(l)\n",
    "#l[4] = 20\n",
    "dic['add'] = '성남' # 키가 없으면 추가\n",
    "print(dic)\n",
    "d = {1: 'TONY', 1: 'FREDDIE'} # 키 중복을 허용하지 않는다\n",
    "print(d)"
   ]
  },
  {
   "cell_type": "code",
   "execution_count": 177,
   "id": "a2ff1725",
   "metadata": {},
   "outputs": [
    {
     "name": "stdout",
     "output_type": "stream",
     "text": [
      "{'name': 'TONY', 'age': 40, 'height': 177.1, 'add': '성남'}\n",
      "{'name': 'TONY', 'age': 40, 'height': 177.1}\n"
     ]
    }
   ],
   "source": [
    "dic = {'name': 'TONY', 'age': 40, 'height': 177.1}\n",
    "dic['add'] = '성남' # 키가 없으면 추가\n",
    "print(dic)\n",
    "del dic['add']\n",
    "print(dic)"
   ]
  },
  {
   "cell_type": "code",
   "execution_count": 188,
   "id": "85aababf",
   "metadata": {},
   "outputs": [
    {
     "name": "stdout",
     "output_type": "stream",
     "text": [
      "{'name': 'pey', 'phone': '0119993323', 'birth': '19991118'}\n",
      "1999\n",
      "11\n",
      "18\n",
      "dict_keys(['name', 'phone', 'birth'])\n",
      "dict_values(['pey', '0119993323', '19991118'])\n",
      "dict_items([('name', 'pey'), ('phone', '0119993323'), ('birth', '19991118')])\n",
      "pey\n",
      "pey\n",
      "None\n"
     ]
    }
   ],
   "source": [
    "dic = {'name': 'pey', 'phone': '0119993323', 'birth': '19991118'}\n",
    "# pey라는 사람의 년도, 월, 일을 따로 출력\n",
    "print(dic)\n",
    "print(dic['birth'][:4])\n",
    "print(dic['birth'][4:4+2])\n",
    "print(dic['birth'][6:])\n",
    "print(dic.keys())\n",
    "print(dic.values())\n",
    "print(dic.items())\n",
    "print(dic['name'])\n",
    "print(dic.get('name'))\n",
    "#print(dic['money'])\n",
    "print(dic.get('money'))"
   ]
  },
  {
   "cell_type": "code",
   "execution_count": 195,
   "id": "9168dd87",
   "metadata": {},
   "outputs": [
    {
     "name": "stdout",
     "output_type": "stream",
     "text": [
      "1000\n",
      "100\n"
     ]
    }
   ],
   "source": [
    "dic1 = {'classic' : 500, \"pop\" : 600}\n",
    "dic2 = {'classic' : 500, \"pop\" : 600, \"money\" : 100}\n",
    "print(dic1['classic'] + dic2['classic'])\n",
    "# print(dic1['money'] + dic2['money']) # Key 없음 에러\n",
    "# print(dic1.get('money') + dic2.get('money')) # None + 100 으로 에러\n",
    "print(dic1.get('money',0) + dic2.get('money'))"
   ]
  },
  {
   "cell_type": "code",
   "execution_count": 198,
   "id": "ede4a7ba",
   "metadata": {},
   "outputs": [
    {
     "name": "stdout",
     "output_type": "stream",
     "text": [
      "<class 'bool'>\n",
      "<class 'bool'>\n",
      "<class 'str'>\n",
      "<class 'dict'>\n"
     ]
    }
   ],
   "source": [
    "# 부울타입 / True / False\n",
    "a = True  # 참\n",
    "b = False # 거짓\n",
    "i = 10\n",
    "s1 = \"10\"\n",
    "s = \"True\"\n",
    "dic = {'name' : 'TONY', 'age': 40, 'height': 177.1}\n",
    "print(type(a))\n",
    "print(type(b))\n",
    "print(type(s))\n",
    "print(type(dic))"
   ]
  },
  {
   "cell_type": "code",
   "execution_count": 212,
   "id": "de2c8305",
   "metadata": {},
   "outputs": [
    {
     "name": "stdout",
     "output_type": "stream",
     "text": [
      "True\n",
      "False\n",
      "True\n",
      "False\n",
      "True\n",
      "True\n"
     ]
    }
   ],
   "source": [
    "x = 10; y = 20 ; z = 30\n",
    "a = x < y\n",
    "print(a)\n",
    "# 비교 연산자의 결과값은 부울타입\n",
    "a = x > y\n",
    "print(a)\n",
    "\n",
    "\n",
    "# 부울과 부울 타입끼리 연산 : 논리 연산\n",
    "a = x > y or x < z\n",
    "print(a)\n",
    "\n",
    "a = x > y and x < z # 논리 연산은 비교연산자와 함께 사용한다(비교연산자의 결과값이 부울타입)\n",
    "print(a)\n",
    "\n",
    "a = 'TONY' and x < z\n",
    "print(a)\n",
    "\n",
    "a = [1,2,3,4] and x < z\n",
    "print(a)"
   ]
  },
  {
   "cell_type": "code",
   "execution_count": 213,
   "id": "6ca76181",
   "metadata": {
    "scrolled": true
   },
   "outputs": [
    {
     "name": "stdout",
     "output_type": "stream",
     "text": [
      "True\n",
      "False\n",
      "True\n",
      "False\n",
      "True\n",
      "False\n",
      "False\n",
      "True\n",
      "True\n",
      "False\n",
      "False\n"
     ]
    }
   ],
   "source": [
    "print(bool('TONY')) # True\n",
    "print(bool(\"\")) # False\n",
    "print(bool([1,2,3,4])) # True\n",
    "print(bool([])) # False\n",
    "print(bool((1,2,3,4))) # true\n",
    "print(bool(())) # False\n",
    "\n",
    "print(bool(0)) # False\n",
    "print(bool(-1)) # True\n",
    "print(bool(1)) # True\n",
    "print(bool(None)) # False\n",
    "print(bool({})) # False"
   ]
  },
  {
   "cell_type": "code",
   "execution_count": 220,
   "id": "f6e55660",
   "metadata": {},
   "outputs": [
    {
     "name": "stdout",
     "output_type": "stream",
     "text": [
      "False\n",
      "평년\n"
     ]
    }
   ],
   "source": [
    "# 2200 년은 윤년일까요(True)? 평년일까요(False)>\n",
    "# 4년마다 윤년이지만 100년마다는 윤년이 아니다 그렇지만 400년마다는 윤년이다\n",
    "\n",
    "year = 2200\n",
    "a = year % 4 == 0 and year % 100 != 0 or year % 400 == 0\n",
    "print(a)\n",
    "\n",
    "if year % 4 == 0 and year % 100 != 0 or year % 400 == 0 :\n",
    "    print(\"윤년\")\n",
    "else:\n",
    "    print(\"평년\")"
   ]
  },
  {
   "cell_type": "code",
   "execution_count": 231,
   "id": "3e10f3fb",
   "metadata": {},
   "outputs": [
    {
     "name": "stdout",
     "output_type": "stream",
     "text": [
      "0 0 0\n",
      "python life\n",
      "python life\n",
      "python life\n",
      "[1, 2, 3, 4] life\n",
      "[1, 2, 3, 4] life\n",
      "[1, 2, 3, 4] life [3, 4, 5]\n"
     ]
    }
   ],
   "source": [
    "# 파이썬 변수 선언법\n",
    "a = b = c = 0 # 다른 언어에서의 변수 선언\n",
    "print(a, b, c)\n",
    "a, b = 'python', 'life'\n",
    "print(a, b)\n",
    "a, b = ('python', 'life') # 튜플로 선언\n",
    "print(a, b)\n",
    "(a, b) = 'python', 'life' # 튜플에 값 선언\n",
    "print(a, b)\n",
    "(a, b) = ([1,2,3,4], 'life')\n",
    "print(a, b)\n",
    "(a, b) = [[1,2,3,4], 'life']\n",
    "print(a, b)\n",
    "(a, b, c) = [[1,2,3,4], 'life', [3,4,5]]\n",
    "print(a, b, c)"
   ]
  },
  {
   "cell_type": "code",
   "execution_count": 230,
   "id": "0e7d64f8",
   "metadata": {},
   "outputs": [
    {
     "name": "stdout",
     "output_type": "stream",
     "text": [
      "4 3\n"
     ]
    }
   ],
   "source": [
    "# 값바꾸기. 파이썬에서는 안하는 방법\n",
    "a = 3\n",
    "b = 4\n",
    "\n",
    "c = a\n",
    "a = b\n",
    "a = c\n",
    "\n",
    "print(a, b)\n",
    "\n",
    "# 파이썬에서 값 바꾸기\n",
    "a = 3\n",
    "b = 4\n",
    "a, b = b, a\n",
    "print(a, b)\n"
   ]
  },
  {
   "cell_type": "markdown",
   "id": "4e527240",
   "metadata": {},
   "source": [
    "파이썬 자료형에는<br />\n",
    "숫자, 문자열, 리스트, 튜플, 딕셔너리, 부울, 집합"
   ]
  },
  {
   "cell_type": "code",
   "execution_count": 233,
   "id": "6e4542f0",
   "metadata": {},
   "outputs": [
    {
     "name": "stdout",
     "output_type": "stream",
     "text": [
      "버스를 타고 가세요\n",
      "명령문 끝\n"
     ]
    }
   ],
   "source": [
    "# 제어문\n",
    "# bool 타입을 이용해서 원하는 결과를 얻어 오는 것을 말한다.\n",
    "# 조건문 : 여러개의 명령문 중 하나를 선택하는 것\n",
    "# 조건식을 사용한다\n",
    "# 조건식 뒤에는 \":\"를 꼭 적어준다\n",
    "# 조건식에 맞는 명령문이 실행되기 위해서는 들여쓰기가 되어야 한다.\n",
    "# 들여쓰기는 탭이나 공백을 사용하는데 둘 다 사용하면 에러발생(보통 탭을 사용)\n",
    "\n",
    "# 단일 조건문\n",
    "'''\n",
    "if 조건식 : # 부울 타입\n",
    "    명령어1\n",
    "    명령어2\n",
    "    ...\n",
    "명령어\n",
    "'''\n",
    "\n",
    "# 2900원 이상 돈이 있으면 버스를 타고 가세요.\n",
    "money = 3000\n",
    "\n",
    "if money >= 2900:\n",
    "    print(\"버스를 타고 가세요\")\n",
    "print(\"명령문 끝\")"
   ]
  },
  {
   "cell_type": "code",
   "execution_count": 234,
   "id": "ed8a8f81",
   "metadata": {},
   "outputs": [
    {
     "name": "stdout",
     "output_type": "stream",
     "text": [
      "명령문 끝\n"
     ]
    }
   ],
   "source": [
    "# 2900원 이상 돈이 있으면 버스를 타고 가세요.\n",
    "money = 2800\n",
    "\n",
    "if money >= 2900:\n",
    "    print(\"버스를 타고 가세요\")\n",
    "print(\"명령문 끝\")"
   ]
  },
  {
   "cell_type": "code",
   "execution_count": 236,
   "id": "0fa78cc2",
   "metadata": {},
   "outputs": [
    {
     "name": "stdout",
     "output_type": "stream",
     "text": [
      "걸어가시오\n",
      "명령문 끝\n"
     ]
    }
   ],
   "source": [
    "# if ~ else\n",
    "# 2900원 이상 돈이 있으면 버스를 타고 가세요.\n",
    "money = 2800\n",
    "\n",
    "if money >= 2900: # True\n",
    "    print(\"버스를 타고 가세요\")\n",
    "else: # False\n",
    "    print(\"걸어가시오\")\n",
    "print(\"명령문 끝\")"
   ]
  },
  {
   "cell_type": "code",
   "execution_count": null,
   "id": "9c3b3f59",
   "metadata": {},
   "outputs": [],
   "source": []
  }
 ],
 "metadata": {
  "kernelspec": {
   "display_name": "Python 3 (ipykernel)",
   "language": "python",
   "name": "python3"
  },
  "language_info": {
   "codemirror_mode": {
    "name": "ipython",
    "version": 3
   },
   "file_extension": ".py",
   "mimetype": "text/x-python",
   "name": "python",
   "nbconvert_exporter": "python",
   "pygments_lexer": "ipython3",
   "version": "3.10.4"
  }
 },
 "nbformat": 4,
 "nbformat_minor": 5
}
