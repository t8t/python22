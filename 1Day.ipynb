{
 "cells": [
  {
   "cell_type": "code",
   "execution_count": 9,
   "id": "9894a50f",
   "metadata": {
    "scrolled": true
   },
   "outputs": [
    {
     "name": "stdout",
     "output_type": "stream",
     "text": [
      "300\n",
      "10\n",
      "3\n"
     ]
    }
   ],
   "source": [
    "print(100 * 3); print(10); print(3)"
   ]
  },
  {
   "cell_type": "code",
   "execution_count": 10,
   "id": "512d73d5",
   "metadata": {
    "scrolled": true
   },
   "outputs": [
    {
     "name": "stdout",
     "output_type": "stream",
     "text": [
      "0\n",
      "1\n",
      "2\n",
      "실행종료\n"
     ]
    }
   ],
   "source": [
    "for i in range(3):\n",
    "    print(i)\n",
    "print(\"실행종료\")"
   ]
  },
  {
   "cell_type": "code",
   "execution_count": 13,
   "id": "3bd6a0a0",
   "metadata": {},
   "outputs": [
    {
     "name": "stdout",
     "output_type": "stream",
     "text": [
      "15\n",
      "5\n",
      "2.0\n",
      "50\n",
      "1\n",
      "3\n",
      "100\n",
      "1000\n"
     ]
    }
   ],
   "source": [
    "# 연산자 (+, -, *, /, %, //, **)\n",
    "print(10 + 5)\n",
    "print(10 - 5)\n",
    "print(10 / 5)\n",
    "print(10 * 5)\n",
    "print(10 % 3) # 나머지\n",
    "print(10 // 3) # 몫\n",
    "print(10 ** 2) # 제곱승\n",
    "print(10 ** 3)\n",
    "\n",
    "# 리터럴 : 자연어(숫자: 정수 리터널, 실수 리터럴)\n",
    "\n",
    "# 문자 리터널 : '', \"\", \"\"\", ''' 사용하여 정의\n",
    "# 문자열 연산자 : +, *"
   ]
  },
  {
   "cell_type": "code",
   "execution_count": 17,
   "id": "e654a6e0",
   "metadata": {},
   "outputs": [
    {
     "name": "stdout",
     "output_type": "stream",
     "text": [
      "Life is too short, You need python\n",
      "Life is too short, You need python\n"
     ]
    }
   ],
   "source": [
    "print(\"Life is too short, You need python\")\n",
    "\n",
    "str1 = \"Life is too short, You need python\"\n",
    "print(str1)"
   ]
  },
  {
   "cell_type": "code",
   "execution_count": 20,
   "id": "d3a5268c",
   "metadata": {},
   "outputs": [
    {
     "name": "stdout",
     "output_type": "stream",
     "text": [
      "Life is too short, \n",
      "      You need python\n"
     ]
    }
   ],
   "source": [
    "print('''Life is too short, \n",
    "      You need python''')"
   ]
  },
  {
   "cell_type": "code",
   "execution_count": 25,
   "id": "1e19e976",
   "metadata": {},
   "outputs": [
    {
     "name": "stdout",
     "output_type": "stream",
     "text": [
      "==============================\n",
      "Python is fun\n",
      "Python Python Python \n",
      "==============================\n"
     ]
    }
   ],
   "source": [
    "head = \"Python \"\n",
    "tail = \"is fun\"\n",
    "print(\"=\" * 30)\n",
    "print(head + tail) # 연결연산자\n",
    "print(head * 3)\n",
    "print(\"=\" * 30)"
   ]
  },
  {
   "cell_type": "code",
   "execution_count": 47,
   "id": "0b55e7d1",
   "metadata": {},
   "outputs": [
    {
     "name": "stdout",
     "output_type": "stream",
     "text": [
      "f\n",
      "t\n",
      "17\n",
      "t\n",
      "t\n",
      "f\n",
      "L i f e\n",
      "Life\n",
      "Life\n",
      "short\n",
      "short\n"
     ]
    }
   ],
   "source": [
    "# Indexing\n",
    "a = \"Life is too short\"\n",
    "#    01234567890123456  # 문자열의 문자마다 순번이 이것을 index 라고 함\n",
    "#              1\n",
    "#    76543210987654321  -\n",
    "#           1\n",
    "print(a[2])\n",
    "print(a[16])\n",
    "print(len(a))\n",
    "print(a[len(a)-1])\n",
    "print(a[-1]) # print(a[16])\n",
    "print(a[-15]) # print(a[2])\n",
    "\n",
    "# Life 가져오기\n",
    "print(a[0], a[1], a[2], a[3])\n",
    "print(a[0] + a[1] + a[2] + a[3])\n",
    "\n",
    "# Slicing\n",
    "print(a[0:4]) # 0번부터 4번 이전\n",
    "print(a[12:12+5])\n",
    "print(a[-5:])"
   ]
  },
  {
   "cell_type": "code",
   "execution_count": 51,
   "id": "f4526830",
   "metadata": {},
   "outputs": [
    {
     "name": "stdout",
     "output_type": "stream",
     "text": [
      "20010331\n",
      "Rainy\n",
      "2001\n",
      "03\n",
      "31\n"
     ]
    }
   ],
   "source": [
    "a = \"20010331Rainy\"\n",
    "birth = a[:8]\n",
    "name = a[8:]\n",
    "print(birth)\n",
    "print(name)\n",
    "year = a[:4]\n",
    "print(year)\n",
    "month = a[4:4+2]\n",
    "print(month)\n",
    "day = a[6:6+2]\n",
    "print(day)"
   ]
  },
  {
   "cell_type": "code",
   "execution_count": 62,
   "id": "5c6f5c34",
   "metadata": {
    "scrolled": true
   },
   "outputs": [
    {
     "name": "stdout",
     "output_type": "stream",
     "text": [
      "TONY의 계좌번호 1111에는 100원이 들어 있습니다.\n",
      "TONY의 계좌번호 1111에는 100원이 들어 있습니다.\n",
      "TONY의 나이는 40살이구요 키는 177.100000 입니다.\n",
      "TONY의 나이는 40살이구요 키는 177.1 입니다.\n",
      "TONY의 나이는         40살이구요 키는 177.1 입니다.\n",
      "TONY의 나이는 40        살이구요 키는 177.1 입니다.\n",
      "      TONY의 나이는         40살이구요 키는 177.1 입니다.\n",
      "TONY      의 나이는 40        살이구요 키는 177.1 입니다.\n"
     ]
    }
   ],
   "source": [
    "# TONY의 계좌번호 1111에는 100원이 들어 있습니다.\n",
    "name = \"TONY\"\n",
    "account = \"1111\"\n",
    "money = 100\n",
    "\n",
    "# 문자열 포맷팅\n",
    "# print(name + \"의 계좌번호 \" + account + \"에는 \" + money + \"원이 들어 있습니다.\")# 숫자리터럴에서 연결 오류 발생\n",
    "print(\"%s의 계좌번호 %s에는 %d원이 들어 있습니다.\" %(name, account, money))\n",
    "print(\"{}의 계좌번호 {}에는 {}원이 들어 있습니다.\".format(name, account, money))\n",
    "\n",
    "# TONY의 나이는 40살이구요 키는 177.1 입니다.\n",
    "age = 40\n",
    "height = 177.1\n",
    "print(\"%s의 나이는 %d살이구요 키는 %f 입니다.\" % (name, age, height)) # Float 소숫점 6자리가 기본\n",
    "print(\"%s의 나이는 %d살이구요 키는 %.1f 입니다.\" % (name, age, height))\n",
    "print(\"%s의 나이는 %10d살이구요 키는 %.1f 입니다.\" % (name, age, height)) # 숫자 10자리 우측정렬\n",
    "print(\"%s의 나이는 %-10d살이구요 키는 %.1f 입니다.\" % (name, age, height)) # 숫자 10자리 좌측정렬\n",
    "print(\"%10s의 나이는 %10d살이구요 키는 %.1f 입니다.\" % (name, age, height))\n",
    "print(\"%-10s의 나이는 %-10d살이구요 키는 %.1f 입니다.\" % (name, age, height)) "
   ]
  },
  {
   "cell_type": "code",
   "execution_count": 67,
   "id": "682c0871",
   "metadata": {},
   "outputs": [
    {
     "name": "stdout",
     "output_type": "stream",
     "text": [
      "TONY의 계좌번호 1111에는 100원이 들어 있습니다.\n",
      "TONY의 계좌번호 1111에는 100원이 들어 있습니다.\n"
     ]
    }
   ],
   "source": [
    "# format 함수를 사용한 포매팅\n",
    "name = \"TONY\"\n",
    "account = \"1111\"\n",
    "money = 100\n",
    "\n",
    "print(\"%s의 계좌번호 %s에는 %d원이 들어 있습니다.\" % (name, account, money))\n",
    "print(\"{1}의 계좌번호 {0}에는 {2}원이 들어 있습니다.\".format(account, name, money))"
   ]
  },
  {
   "cell_type": "code",
   "execution_count": 68,
   "id": "57e85618",
   "metadata": {},
   "outputs": [
    {
     "name": "stdout",
     "output_type": "stream",
     "text": [
      "TONY의 나이는 40살이구요 키는 177.1입니다.\n"
     ]
    }
   ],
   "source": [
    "name = \"TONY\"\n",
    "age = 40\n",
    "height = 177.1\n",
    "\n",
    "# TONY의 나이는 40살이구요 키는 177.1 입니다.\n",
    "a = \"{0}의 나이는 {a}살이구요 키는 {h}입니다.\".format(name, a = age, h = height)\n",
    "print(a)"
   ]
  },
  {
   "cell_type": "code",
   "execution_count": 69,
   "id": "3e4ed4b1",
   "metadata": {},
   "outputs": [
    {
     "name": "stdout",
     "output_type": "stream",
     "text": [
      "TONY의 계좌번호 1111에는 100원이 들어 있습니다.\n"
     ]
    }
   ],
   "source": [
    "# TONY의 계좌번호 1111에는 100원이 들어 있습니다.\n",
    "name = \"TONY\"\n",
    "account = \"1111\"\n",
    "money = 100\n",
    "\n",
    "a = f\"{name}의 계좌번호 {account}에는 {money}원이 들어 있습니다.\"\n",
    "print(a)"
   ]
  },
  {
   "cell_type": "code",
   "execution_count": 84,
   "id": "45ad08de",
   "metadata": {},
   "outputs": [
    {
     "name": "stdout",
     "output_type": "stream",
     "text": [
      "5\n",
      "23\n",
      "need\n",
      "need\n",
      "23\n",
      "12\n",
      "-1\n",
      "23\n",
      "23\n",
      "12\n",
      "33\n"
     ]
    }
   ],
   "source": [
    "# 문자열을 가공하기 위한 문자열 함수\n",
    "a = 'Life is too short, You need python'\n",
    "print(a.count('o')) # 문자 'o' 갯수\n",
    "print(a.find('n')) # 문자 'n' 의 위치\n",
    "print(a[a.find('n'): a.find('n') + 4])\n",
    "print(a[23: 23 + 4])\n",
    "print(a.find('need'))\n",
    "print(a.find('s', 7)) # index 7 이후의 s 를 찾는다\n",
    "print(a.find('x')) # -1\n",
    "print(a.index('n'))\n",
    "print(a.index('need'))\n",
    "print(a.index('s', 7))\n",
    "#print(a.index('x')) # index 는 찾지 못하면 에러발생\n",
    "print(a.rindex('n')) # 오른쪽에서부터 찾기\n",
    "print(a.rfind('n')) # 오른쪽에서부터 찾기"
   ]
  },
  {
   "cell_type": "code",
   "execution_count": 106,
   "id": "702515c8",
   "metadata": {},
   "outputs": [
    {
     "name": "stdout",
     "output_type": "stream",
     "text": [
      "Life is too short, You need python\n",
      "life is too short, you need python\n",
      "LIFE IS TOO SHORT, YOU NEED PYTHON\n",
      "['Life', 'is', 'too', 'short,', 'You', 'need', 'python']\n",
      "['Life', 'is', 'too', 'short,', 'You', 'need', 'python']\n",
      "abcd\n",
      "    abcd  \n",
      "abcd\n",
      "    ab cd  \n",
      "ab cd\n",
      "    ab cd\n",
      "ab cd  \n",
      " cd\n",
      "Life is too short, You need python\n",
      "Your leg is too short, You need python\n",
      "True\n",
      "False\n",
      "True\n",
      "False\n",
      "False\n",
      "False\n"
     ]
    }
   ],
   "source": [
    "a = 'Life is too short, You need python'\n",
    "print(a)\n",
    "print(a.lower())\n",
    "print(a.upper())\n",
    "l = a.split() # 공백문자로 구분\n",
    "print(l) # 리스트\n",
    "\n",
    "s = \"Life:is:too:short,:You:need:python\"\n",
    "l = s.split(\":\") # : 문자로 구분\n",
    "print(l)\n",
    "print(\"abcd\")\n",
    "s = \"    abcd  \"\n",
    "print(s)\n",
    "print(s.strip())\n",
    "s = \"    ab cd  \"\n",
    "print(s)\n",
    "print(s.strip())\n",
    "print(s.rstrip())\n",
    "print(s.lstrip())\n",
    "s = \"ab cd\"\n",
    "print(s.strip(\"ab\"))\n",
    "a = \"Life is too short, You need python\"\n",
    "print(a) # Your leg is too short, You need python\n",
    "print(a.replace(\"Life\", \"Your leg\"))\n",
    "digit = \"01046137044\"\n",
    "print(digit.isdigit()) # True\n",
    "digit = \"010-4613-7044\"\n",
    "print(digit.isdigit()) # False\n",
    "alpha = \"abcd\"\n",
    "print(alpha.isalpha())# True\n",
    "alpha = \"ab cd\"\n",
    "print(alpha.isalpha()) # False\n",
    "print(a.islower())\n",
    "print(a.isupper())"
   ]
  },
  {
   "cell_type": "code",
   "execution_count": 114,
   "id": "62f833e7",
   "metadata": {},
   "outputs": [
    {
     "name": "stdout",
     "output_type": "stream",
     "text": [
      "['TONY', 'FREDDIE', 'KIM']\n",
      "<class 'int'>\n",
      "<class 'str'>\n",
      "<class 'list'>\n",
      "<class 'list'>\n"
     ]
    }
   ],
   "source": [
    "# 숫자 리터럴 : 정수, 실수\n",
    "# 문자 리터럴 : \"a\", 'a', '''a''', \"\"\"a\"\"\", \"10\", a:변수 : 영어, 한국어, 중국어\n",
    "# 리스트 자료형 : []\n",
    "l = [\"TONY\", \"FREDDIE\", \"KIM\"] # 문자열이 있는 리스트\n",
    "print(l)\n",
    "# 각각의 자료형 확인\n",
    "i = 10\n",
    "str1 = \"TONY\"\n",
    "print(type(i))\n",
    "print(type(str1))\n",
    "print(type(l))\n",
    "\n",
    "l = [\"TONY\", 100, 10.5] # 혼합형 리스트\n",
    "print(type(l))"
   ]
  },
  {
   "cell_type": "code",
   "execution_count": 116,
   "id": "a2ead855",
   "metadata": {},
   "outputs": [
    {
     "name": "stdout",
     "output_type": "stream",
     "text": [
      "['TONY', 40, 171.1, [1, 2, 3]]\n",
      "[[1, 2, 3], [4, 5, 6]]\n",
      "[]\n",
      "['Life', 'is', 'too', 'short']\n"
     ]
    }
   ],
   "source": [
    "a = [\"TONY\", 40, 171.1, [1,2,3]] # 리스트 포함한 혼합형 리스트\n",
    "print(a)\n",
    "a = [[1,2,3], [4,5,6]] # 리스트를 포함한 리스트\n",
    "print(a)\n",
    "a = [] # 빈리스트\n",
    "print(a)\n",
    "a = \"Life:is:too:short\"\n",
    "c = a.split(\":\")\n",
    "print(c)"
   ]
  },
  {
   "cell_type": "code",
   "execution_count": 126,
   "id": "fa7c4990",
   "metadata": {},
   "outputs": [
    {
     "name": "stdout",
     "output_type": "stream",
     "text": [
      "Life is too short\n",
      "t\n",
      "too\n",
      "<class 'str'>\n",
      "o\n",
      "istoo\n",
      "too\n"
     ]
    }
   ],
   "source": [
    "a = \"Life is too short\"\n",
    "#    01234567890123456\n",
    "#              1\n",
    "print(a)\n",
    "print(a[8])\n",
    "l = ['Life', 'is', 'too', 'short']\n",
    "#     0       1     2      3\n",
    "print(l[2])\n",
    "s = l[2]\n",
    "print(type(s)) # 문자열 : too\n",
    "#                         012\n",
    "print(l[2][1])\n",
    "print(l[1] + l[2]) # 'is' + 'too'\n",
    "print(l[-2])"
   ]
  },
  {
   "cell_type": "code",
   "execution_count": 127,
   "id": "86e9ed97",
   "metadata": {},
   "outputs": [
    {
     "name": "stdout",
     "output_type": "stream",
     "text": [
      "b\n"
     ]
    }
   ],
   "source": [
    "a = [1, 2, 3, ['a', 'b', 'c']]\n",
    "#    0  1  2   3\n",
    "#               0    1    2\n",
    "print(a[3][1]) # b"
   ]
  },
  {
   "cell_type": "code",
   "execution_count": 133,
   "id": "2a6febfd",
   "metadata": {},
   "outputs": [
    {
     "name": "stdout",
     "output_type": "stream",
     "text": [
      "too\n",
      "['is', 'too']\n",
      "['is']\n",
      "is\n",
      "['Your leg', 'is', 'too', 'short']\n"
     ]
    }
   ],
   "source": [
    "a = \"Life is too short\"\n",
    "#    01234567890123456\n",
    "#              1\n",
    "print(a[8:8+3]) # slicing\n",
    "l = [\"Life\", \"is\", \"too\", \"short\"]\n",
    "#    0       1     2      3\n",
    "#    4       3     2      1\n",
    "print(l[1:1+2])\n",
    "print(l[-3:-3+1])\n",
    "print(l[1])\n",
    "l[0] = \"Your leg\"\n",
    "print(l)"
   ]
  },
  {
   "cell_type": "code",
   "execution_count": 135,
   "id": "4281bd8d",
   "metadata": {},
   "outputs": [
    {
     "name": "stdout",
     "output_type": "stream",
     "text": [
      "['Life', 'is', 'short']\n",
      "['short']\n"
     ]
    }
   ],
   "source": [
    "# 리스트 함수\n",
    "l = [\"Life\", \"is\", \"too\", \"short\"]\n",
    "del l[2] # ['Life', 'is', 'short']\n",
    "print(l)\n",
    "del l[0:0+2] # slicing 을 이용한 삭제\n",
    "print(l)"
   ]
  },
  {
   "cell_type": "code",
   "execution_count": 138,
   "id": "7b2ab4fc",
   "metadata": {},
   "outputs": [
    {
     "name": "stdout",
     "output_type": "stream",
     "text": [
      "['Life']\n",
      "['Life', 'is']\n",
      "['Life', 'is', 'too']\n",
      "['Life', 'is', 'too', 'short']\n"
     ]
    }
   ],
   "source": [
    "l = [\"Life\", \"is\", \"too\", \"short\"]\n",
    "del l[1:]\n",
    "print(l)\n",
    "l.append('is')\n",
    "print(l)\n",
    "l.append('too')\n",
    "print(l)\n",
    "l.append('short')\n",
    "print(l)"
   ]
  },
  {
   "cell_type": "code",
   "execution_count": 152,
   "id": "5c7c05b9",
   "metadata": {},
   "outputs": [
    {
     "name": "stdout",
     "output_type": "stream",
     "text": [
      "[1, 2, 3, 4]\n",
      "[3, 2, 4, 1]\n",
      "0\n",
      "[3, 2, 4, 1]\n",
      "[3, 2, 6, 4, 1]\n",
      "[3, 2, 6, 1]\n",
      "[3, 2, 6, 1, 6]\n",
      "[3, 2, 1, 6]\n",
      "[3, 2, 1, 6, 6]\n",
      "2\n"
     ]
    }
   ],
   "source": [
    "# 데이터 정렬\n",
    "a = [1, 4, 2, 3]\n",
    "a.sort() # 데이터 원본을 변경하기 때문에 print 에서 출력할 수 없다.\n",
    "print(a)\n",
    "a = [1, 4, 2, 3]\n",
    "a.reverse()\n",
    "print(a)\n",
    "print(a.index(3))\n",
    "# print(a.find(3)) # 리스트에는 find 가 없다. 문자열 함수\n",
    "print(a)\n",
    "a.insert(2, 6)\n",
    "print(a)\n",
    "a.remove(4)\n",
    "print(a)\n",
    "a.append(6)\n",
    "print(a)\n",
    "a.remove(6)\n",
    "print(a)\n",
    "a.append(6)\n",
    "print(a)\n",
    "print(a.count(6))"
   ]
  },
  {
   "cell_type": "code",
   "execution_count": 161,
   "id": "64f76dd0",
   "metadata": {},
   "outputs": [
    {
     "name": "stdout",
     "output_type": "stream",
     "text": [
      "[1, 4, 2, 5, 3]\n",
      "[1, 4, 2, 5]\n",
      "[1, 4, 2]\n",
      "5\n",
      "4\n"
     ]
    }
   ],
   "source": [
    "a = [1, 4, 2, 5, 4, 3]\n",
    "del a[4] # 인덱스로 삭제\n",
    "print(a)\n",
    "a.remove(3) # 값으로 삭제\n",
    "print(a) # [1, 4, 2, 5]\n",
    "b = a.pop() # 마지막 데이터를 가져오고 삭제\n",
    "print(a) # [1, 4, 2]\n",
    "print(b) \n",
    "b = a.pop(1) # 인덱스로 pop\n",
    "print(b)"
   ]
  },
  {
   "cell_type": "code",
   "execution_count": 166,
   "id": "bcbc8ad0",
   "metadata": {},
   "outputs": [
    {
     "name": "stdout",
     "output_type": "stream",
     "text": [
      "[5, 4, 4, 3, 2, 1]\n",
      "[1, 2, 3, 4, 5, 6]\n",
      "[1, 2, 3, 1, 2, 3, 1, 2, 3]\n",
      "[1, 2, 3, 9, 8, 7]\n"
     ]
    }
   ],
   "source": [
    "a = [1, 4, 2, 5, 4, 3]\n",
    "a.sort(reverse=True) # 내림차순 정렬\n",
    "print(a)\n",
    "a = [1, 2, 3]\n",
    "b = [4, 5, 6]\n",
    "c = a + b # 연결 연산자\n",
    "print(c)\n",
    "print(a * 3) # 반복 연산자\n",
    "a.extend([9,8,7])\n",
    "print(a)"
   ]
  },
  {
   "cell_type": "code",
   "execution_count": 169,
   "id": "85f0a53a",
   "metadata": {},
   "outputs": [
    {
     "name": "stdout",
     "output_type": "stream",
     "text": [
      "6\n",
      "[6, 6, 5, 4, 4, 2, 1]\n",
      "Life is too short\n",
      "2\n"
     ]
    }
   ],
   "source": [
    "a = [1, 4, 2, 5, 4, 3]\n",
    "# 크기\n",
    "print(len(a))\n",
    "# 삭제\n",
    "del a[1]\n",
    "a.remove(4)\n",
    "a.pop()\n",
    "a.pop(2)\n",
    "# 추가 및 삽입 그리고 확장\n",
    "a.append(4)\n",
    "a.insert(3, 6)\n",
    "a.extend([4,5,6])\n",
    "# 정렬\n",
    "a.sort()\n",
    "a.reverse()\n",
    "a.sort(reverse=True)\n",
    "print(a)\n",
    "c = ['Life', 'is', 'too', 'short']\n",
    "d = \" \".join(c) # 리스트를 문자열로 변환\n",
    "print(d)\n",
    "# 요소 번호 찾기\n",
    "print(a.index(5))"
   ]
  },
  {
   "cell_type": "code",
   "execution_count": 170,
   "id": "44f37a74",
   "metadata": {},
   "outputs": [
    {
     "name": "stdout",
     "output_type": "stream",
     "text": [
      "[1, 2, 3]\n",
      "1\n"
     ]
    }
   ],
   "source": [
    "# 숫자 자료형 : 10, 10.5\n",
    "# 문자 자료혈 : '', \"\", \"\"\" \"\"\", ''' '''\n",
    "# 리스트 자료형 : []\n",
    "# 튜플 자료형 : ()\n",
    "l = [1,2,3,4]\n",
    "t = (1,2,3,4)\n",
    "t1 = (\"TONY\", 12, [1,2,3], (4,5,6))\n",
    "#     0       1   2        3\n",
    "print(t1[2])\n",
    "print(t1.index(12))\n",
    "l[1] = 10\n",
    "print(l)\n",
    "# t[1] = 10 # 튜플은 요소값 변경을 못한다"
   ]
  },
  {
   "cell_type": "code",
   "execution_count": 171,
   "id": "0e29cb33",
   "metadata": {},
   "outputs": [
    {
     "name": "stdout",
     "output_type": "stream",
     "text": [
      "1\n",
      "20\n"
     ]
    }
   ],
   "source": [
    "l = []\n",
    "t = ()\n",
    "l1 = [1]\n",
    "t1 = (1,) # (1) 은 연산자로 처리되므로 ,를 추가하여 튜플로 생성한다\n",
    "l2 = (1,2)\n",
    "t2 = (1,2)\n",
    "print(t1)\n",
    "print( (4) * 5)"
   ]
  },
  {
   "cell_type": "code",
   "execution_count": null,
   "id": "b71f6d1d",
   "metadata": {},
   "outputs": [],
   "source": [
    "# 딕셔너리 : 키와 값이 하나의 쌍으로 되어 있는 자료형\n",
    "# {Key:Value1, Key2:Value2, Key3:Value, ...}\n",
    "# html : json 자료형과 같다..."
   ]
  }
 ],
 "metadata": {
  "kernelspec": {
   "display_name": "Python 3 (ipykernel)",
   "language": "python",
   "name": "python3"
  },
  "language_info": {
   "codemirror_mode": {
    "name": "ipython",
    "version": 3
   },
   "file_extension": ".py",
   "mimetype": "text/x-python",
   "name": "python",
   "nbconvert_exporter": "python",
   "pygments_lexer": "ipython3",
   "version": "3.10.4"
  }
 },
 "nbformat": 4,
 "nbformat_minor": 5
}
