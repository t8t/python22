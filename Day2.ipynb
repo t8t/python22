{
 "cells": [
  {
   "cell_type": "code",
   "execution_count": null,
   "id": "d3413234",
   "metadata": {},
   "outputs": [],
   "source": [
    "제어문 : 조건식 if, if ~ else, if ~ elif ~ else\n",
    "         반복문 while, for\n",
    "함수"
   ]
  },
  {
   "cell_type": "code",
   "execution_count": null,
   "id": "5c28bf21",
   "metadata": {},
   "outputs": [],
   "source": [
    "print(\"나무를 1번 찍었습니다.\")\n",
    "print(\"나무를 2번 찍었습니다.\")\n",
    "print(\"나무를 3번 찍었습니다.\")\n",
    "print(\"나무를 4번 찍었습니다.\")\n",
    "print(\"나무를 5번 찍었습니다.\")\n",
    "print(\"나무를 6번 찍었습니다.\")\n",
    "print(\"나무를 7번 찍었습니다.\")\n",
    "print(\"나무를 8번 찍었습니다.\")\n",
    "print(\"나무를 9번 찍었습니다.\")\n",
    "print(\"나무를 10번 찍었습니다.\")\n",
    "print(\"나무가 넘어갑니다.\")"
   ]
  },
  {
   "cell_type": "code",
   "execution_count": 8,
   "id": "f42ded74",
   "metadata": {},
   "outputs": [
    {
     "name": "stdout",
     "output_type": "stream",
     "text": [
      "나무를 1번 찍었습니다.\n",
      "나무를 2번 찍었습니다.\n",
      "나무를 3번 찍었습니다.\n",
      "나무를 4번 찍었습니다.\n",
      "나무를 5번 찍었습니다.\n",
      "나무를 6번 찍었습니다.\n",
      "나무를 7번 찍었습니다.\n",
      "나무를 8번 찍었습니다.\n",
      "나무를 9번 찍었습니다.\n",
      "나무를 10번 찍었습니다.\n",
      "나무가 넘어갑니다.\n"
     ]
    }
   ],
   "source": [
    "i = 1 \n",
    "while i <= 10: # 1\n",
    "    #print(f\"나무를 {i}번 찍었습니다.\") # 2\n",
    "    #print(\"나무를 {0}번 찍었습니다.\".format(i))\n",
    "    print(\"나무를 %d번 찍었습니다.\" % (i))\n",
    "    # 3\n",
    "    i = i + 1 # i = 1 + 1, i = 2 + 1, ... i = 10 + 1\n",
    "    # 1 - 2 - 3 - 1 - 2 - 3 - ... - 1\n",
    "print(\"나무가 넘어갑니다.\")"
   ]
  },
  {
   "cell_type": "code",
   "execution_count": 1,
   "id": "8f8b9981",
   "metadata": {},
   "outputs": [
    {
     "name": "stdout",
     "output_type": "stream",
     "text": [
      "8 * 1 = 8\n",
      "8 * 2 = 16\n",
      "8 * 3 = 24\n",
      "8 * 4 = 32\n",
      "8 * 5 = 40\n",
      "8 * 6 = 48\n",
      "8 * 7 = 56\n",
      "8 * 8 = 64\n",
      "8 * 9 = 72\n",
      "==============================\n",
      "8 * 1 = 8\n",
      "8 * 2 = 16\n",
      "8 * 3 = 24\n",
      "8 * 4 = 32\n",
      "8 * 5 = 40\n",
      "8 * 6 = 48\n",
      "8 * 7 = 56\n",
      "8 * 8 = 64\n",
      "8 * 9 = 72\n"
     ]
    }
   ],
   "source": [
    "# 8단 출력\n",
    "print(f\"8 * 1 = {8 * 1}\")\n",
    "print(f\"8 * 2 = {8 * 2}\")\n",
    "print(f\"8 * 3 = {8 * 3}\")\n",
    "print(f\"8 * 4 = {8 * 4}\")\n",
    "print(f\"8 * 5 = {8 * 5}\")\n",
    "print(f\"8 * 6 = {8 * 6}\")\n",
    "print(f\"8 * 7 = {8 * 7}\")\n",
    "print(f\"8 * 8 = {8 * 8}\")\n",
    "print(f\"8 * 9 = {8 * 9}\")\n",
    "\n",
    "print(\"=\" * 30)\n",
    "\n",
    "i = 1\n",
    "while i <= 9:\n",
    "    print(f\"8 * {i} = {8 * i}\")\n",
    "    #i = i + 1\n",
    "    i += 1"
   ]
  },
  {
   "cell_type": "code",
   "execution_count": 4,
   "id": "590874f7",
   "metadata": {},
   "outputs": [
    {
     "name": "stdout",
     "output_type": "stream",
     "text": [
      "단을 입력하세요.5\n",
      "5 * 1 = 5\n",
      "5 * 2 = 10\n",
      "5 * 3 = 15\n",
      "5 * 4 = 20\n",
      "5 * 5 = 25\n",
      "5 * 6 = 30\n",
      "5 * 7 = 35\n",
      "5 * 8 = 40\n",
      "5 * 9 = 45\n"
     ]
    }
   ],
   "source": [
    "dan = int(input(\"단을 입력하세요.\"))\n",
    "\n",
    "i = 1\n",
    "while i <= 9:\n",
    "    print(f\"{dan} * {i} = {dan * i}\")\n",
    "    i += 1"
   ]
  },
  {
   "cell_type": "code",
   "execution_count": 7,
   "id": "8faa2578",
   "metadata": {},
   "outputs": [
    {
     "name": "stdout",
     "output_type": "stream",
     "text": [
      "5 * 1 = 5\n",
      "5 * 2 = 10\n",
      "5 * 3 = 15\n",
      "5 * 4 = 20\n",
      "5 * 5 = 25\n",
      "5 * 6 = 30\n",
      "5 * 7 = 35\n",
      "5 * 8 = 40\n",
      "5 * 9 = 45\n",
      "==============================\n",
      "6 * 1 = 6\n",
      "6 * 2 = 12\n",
      "6 * 3 = 18\n",
      "6 * 4 = 24\n",
      "6 * 5 = 30\n",
      "6 * 6 = 36\n",
      "6 * 7 = 42\n",
      "6 * 8 = 48\n",
      "6 * 9 = 54\n",
      "==============================\n",
      "7 * 1 = 7\n",
      "7 * 2 = 14\n",
      "7 * 3 = 21\n",
      "7 * 4 = 28\n",
      "7 * 5 = 35\n",
      "7 * 6 = 42\n",
      "7 * 7 = 49\n",
      "7 * 8 = 56\n",
      "7 * 9 = 63\n"
     ]
    }
   ],
   "source": [
    "# 5단 출력\n",
    "i = 1\n",
    "while i <= 9:\n",
    "    print(f\"5 * {i} = {5 * i}\")\n",
    "    i += 1\n",
    "\n",
    "print(\"=\" * 30)\n",
    "\n",
    "# 6단 출력\n",
    "i = 1\n",
    "while i <= 9:\n",
    "    print(f\"6 * {i} = {6 * i}\")\n",
    "    i += 1\n",
    "\n",
    "print(\"=\" * 30)\n",
    "\n",
    "# 7단 출력\n",
    "i = 1\n",
    "while i <= 9:\n",
    "    print(f\"7 * {i} = {7 * i}\")\n",
    "    i += 1"
   ]
  },
  {
   "cell_type": "code",
   "execution_count": 11,
   "id": "ec8b5005",
   "metadata": {},
   "outputs": [
    {
     "name": "stdout",
     "output_type": "stream",
     "text": [
      "5 * 1 =  5\n",
      "5 * 2 = 10\n",
      "5 * 3 = 15\n",
      "5 * 4 = 20\n",
      "5 * 5 = 25\n",
      "5 * 6 = 30\n",
      "5 * 7 = 35\n",
      "5 * 8 = 40\n",
      "5 * 9 = 45\n",
      "==============================\n",
      "6 * 1 =  6\n",
      "6 * 2 = 12\n",
      "6 * 3 = 18\n",
      "6 * 4 = 24\n",
      "6 * 5 = 30\n",
      "6 * 6 = 36\n",
      "6 * 7 = 42\n",
      "6 * 8 = 48\n",
      "6 * 9 = 54\n",
      "==============================\n",
      "7 * 1 =  7\n",
      "7 * 2 = 14\n",
      "7 * 3 = 21\n",
      "7 * 4 = 28\n",
      "7 * 5 = 35\n",
      "7 * 6 = 42\n",
      "7 * 7 = 49\n",
      "7 * 8 = 56\n",
      "7 * 9 = 63\n",
      "==============================\n"
     ]
    }
   ],
   "source": [
    "dan = 5\n",
    "while dan <= 7:\n",
    "    i = 1\n",
    "    while i <= 9:\n",
    "        print(f\"{dan} * {i} = {dan * i:>2}\")\n",
    "        i += 1\n",
    "    print(\"=\" * 30)\n",
    "    dan += 1"
   ]
  },
  {
   "cell_type": "code",
   "execution_count": 12,
   "id": "ff30971a",
   "metadata": {},
   "outputs": [
    {
     "name": "stdout",
     "output_type": "stream",
     "text": [
      "시작단을 입력하세요3\n",
      "마지막단을 입력하세요5\n",
      "시작곱을 입력하세요4\n",
      "마지막곱을 입력하세요8\n",
      "3 * 4 = 12\n",
      "3 * 5 = 15\n",
      "3 * 6 = 18\n",
      "3 * 7 = 21\n",
      "3 * 8 = 24\n",
      "==============================\n",
      "4 * 4 = 16\n",
      "4 * 5 = 20\n",
      "4 * 6 = 24\n",
      "4 * 7 = 28\n",
      "4 * 8 = 32\n",
      "==============================\n",
      "5 * 4 = 20\n",
      "5 * 5 = 25\n",
      "5 * 6 = 30\n",
      "5 * 7 = 35\n",
      "5 * 8 = 40\n",
      "==============================\n"
     ]
    }
   ],
   "source": [
    "startDan = int(input(\"시작단을 입력하세요\"))\n",
    "endDan = int(input(\"마지막단을 입력하세요\"))\n",
    "\n",
    "startGop = int(input(\"시작곱을 입력하세요\"))\n",
    "endGop = int(input(\"마지막곱을 입력하세요\"))\n",
    "\n",
    "dan = startDan\n",
    "while dan <= endDan:\n",
    "    i = startGop\n",
    "    while i <= endGop:\n",
    "        print(f\"{dan} * {i} = {dan * i:>2}\")\n",
    "        i += 1\n",
    "    print(\"=\" * 30)\n",
    "    dan += 1"
   ]
  },
  {
   "cell_type": "code",
   "execution_count": 35,
   "id": "7e5dd4d6",
   "metadata": {},
   "outputs": [
    {
     "name": "stdout",
     "output_type": "stream",
     "text": [
      "[1, 2, 3, 4, 5, 6, 7, 8, 9, 10, 11, 12, 13, 14, 15, 16, 17, 18, 19, 20, 21, 22, 23, 24, 25, 26, 27, 28, 29, 30, 31, 32, 33, 34, 35, 36, 37, 38, 39, 40, 41, 42, 43, 44, 45]\n",
      "10,26,20,41,25,28,"
     ]
    }
   ],
   "source": [
    "import random\n",
    "\n",
    "lotto = [] # 빈 리스트\n",
    "i = 1\n",
    "\n",
    "while i <= 45:\n",
    "    lotto.append(i)\n",
    "    i += 1\n",
    "\n",
    "print(lotto)\n",
    "\n",
    "# rnd = random.randint(0, 44)\n",
    "# print(rnd)\n",
    "# print(lotto[rnd])\n",
    "\n",
    "lottosize = len(lotto)\n",
    "i = 1\n",
    "while i <= 6:\n",
    "    lottosize -= 1\n",
    "    idx = random.randint(0, lottosize)\n",
    "    lottonum = lotto.pop(idx)\n",
    "    print(lottonum, end = \",\")\n",
    "    i += 1"
   ]
  },
  {
   "cell_type": "code",
   "execution_count": 44,
   "id": "2e37fe40",
   "metadata": {},
   "outputs": [
    {
     "name": "stdout",
     "output_type": "stream",
     "text": [
      "구매 수량을 입력하세요5\n",
      "44, 22, 13, 17, 36,  8, \n",
      "28, 25, 40,  6, 39, 10, \n",
      " 4, 11, 41, 20, 27, 26, \n",
      "24, 11, 19, 13, 36, 28, \n",
      " 3, 18, 16, 23, 20,  1, \n"
     ]
    }
   ],
   "source": [
    "import random\n",
    "\n",
    "icnt = int(input(\"구매 수량을 입력하세요\"))\n",
    "j = 1\n",
    "while j <= icnt:\n",
    "    lotto = [] # 빈 리스트\n",
    "    l = 1\n",
    "    while l <= 45:\n",
    "        lotto.append(l)\n",
    "        l += 1\n",
    "    lottosize = len(lotto)\n",
    "    i = 1\n",
    "    while i <= 6:\n",
    "        lottosize -= 1\n",
    "        idx = random.randint(0, lottosize)\n",
    "        lottonum = lotto.pop(idx)\n",
    "        print(f\"{lottonum:>2}\", end = \", \")\n",
    "        i += 1\n",
    "    print()\n",
    "    j += 1"
   ]
  },
  {
   "cell_type": "code",
   "execution_count": 45,
   "id": "3b7da24c",
   "metadata": {},
   "outputs": [
    {
     "name": "stdout",
     "output_type": "stream",
     "text": [
      "5050\n"
     ]
    }
   ],
   "source": [
    "# 1 ~ 100까지 합을 구하시오\n",
    "\n",
    "i = 1\n",
    "sum = 0\n",
    "\n",
    "while i <= 100:\n",
    "    sum += i\n",
    "    i += 1\n",
    "\n",
    "print(sum)"
   ]
  },
  {
   "cell_type": "code",
   "execution_count": 47,
   "id": "8bb99e93",
   "metadata": {},
   "outputs": [
    {
     "name": "stdout",
     "output_type": "stream",
     "text": [
      "5050\n"
     ]
    }
   ],
   "source": [
    "# 1 ~ 100까지 합을 구하시오\n",
    "\n",
    "i = 1\n",
    "sum = 0\n",
    "\n",
    "while True:\n",
    "    if i > 100:\n",
    "        break\n",
    "    sum += i\n",
    "    i += 1\n",
    "\n",
    "print(sum)"
   ]
  },
  {
   "cell_type": "code",
   "execution_count": 51,
   "id": "08e09dce",
   "metadata": {},
   "outputs": [
    {
     "name": "stdout",
     "output_type": "stream",
     "text": [
      "2\n",
      "4\n",
      "6\n",
      "8\n",
      "10\n",
      "12\n",
      "14\n",
      "16\n",
      "18\n",
      "20\n"
     ]
    }
   ],
   "source": [
    "# 1  20중 찍수만 출력하시오.\n",
    "\n",
    "i = 0\n",
    "\n",
    "while i < 20:\n",
    "    i += 1\n",
    "    if i % 2 != 0:\n",
    "        continue\n",
    "    print(i)"
   ]
  },
  {
   "cell_type": "code",
   "execution_count": 54,
   "id": "96e98d44",
   "metadata": {},
   "outputs": [
    {
     "name": "stdout",
     "output_type": "stream",
     "text": [
      "2500\n"
     ]
    }
   ],
   "source": [
    "# 1 ~ 100중 홀수의 합을 구하시오.\n",
    "\n",
    "i = 0\n",
    "sum = 0\n",
    "while i < 100:\n",
    "    i += 1\n",
    "    if i % 2 == 0:\n",
    "        continue\n",
    "    sum += i\n",
    "\n",
    "print(sum)"
   ]
  },
  {
   "cell_type": "code",
   "execution_count": 55,
   "id": "82ad22e5",
   "metadata": {},
   "outputs": [
    {
     "name": "stdout",
     "output_type": "stream",
     "text": [
      "2500\n"
     ]
    }
   ],
   "source": [
    "# 1 ~ 100중 홀수의 합을 구하시오.\n",
    "\n",
    "i = 1\n",
    "sum = 0\n",
    "while i <= 100:\n",
    "    if i % 2 != 0:\n",
    "        sum += i\n",
    "    i += 1\n",
    "print(sum)"
   ]
  },
  {
   "cell_type": "code",
   "execution_count": 56,
   "id": "37a39d99",
   "metadata": {},
   "outputs": [
    {
     "name": "stdout",
     "output_type": "stream",
     "text": [
      "2500\n"
     ]
    }
   ],
   "source": [
    "# 1 ~ 100중 홀수의 합을 구하시오.\n",
    "\n",
    "i = 1\n",
    "sum = 0\n",
    "while True:\n",
    "    if i > 100:\n",
    "        break\n",
    "    if i % 2 != 0:\n",
    "        sum += i\n",
    "    i += 1\n",
    "print(sum)"
   ]
  },
  {
   "cell_type": "code",
   "execution_count": 62,
   "id": "1800fbb9",
   "metadata": {},
   "outputs": [
    {
     "name": "stdout",
     "output_type": "stream",
     "text": [
      "105\n",
      "105\n",
      "105\n"
     ]
    }
   ],
   "source": [
    "# 리스트에 있는 합을 구하시오\n",
    "l = [1,43,5,56]\n",
    "idx = 0\n",
    "listsize = len(l)\n",
    "sum = 0\n",
    "\n",
    "while idx < listsize:\n",
    "    sum += l[idx]\n",
    "    idx += 1\n",
    "\n",
    "print(sum)\n",
    "\n",
    "# for 문으로 변경\n",
    "sum = 0\n",
    "\n",
    "for num in l:\n",
    "    sum += num\n",
    "print(sum)\n",
    "\n",
    "t = (1,43,5,56)\n",
    "sum = 0\n",
    "for num in t:\n",
    "    sum += num\n",
    "print(sum)"
   ]
  },
  {
   "cell_type": "code",
   "execution_count": 66,
   "id": "b04031d0",
   "metadata": {},
   "outputs": [
    {
     "name": "stdout",
     "output_type": "stream",
     "text": [
      "(1, 2)\n",
      "(3, 4)\n",
      "(5, 6)\n",
      "1 2\n",
      "3\n",
      "3 4\n",
      "7\n",
      "5 6\n",
      "11\n"
     ]
    }
   ],
   "source": [
    "l1 = [(1,2), (3,4), (5,6)]\n",
    "\n",
    "for num in l1:\n",
    "    print(num)\n",
    "\n",
    "for (a, b) in l1:\n",
    "    print(a, b)\n",
    "    print(a + b)"
   ]
  },
  {
   "cell_type": "code",
   "execution_count": 67,
   "id": "cc1b2a80",
   "metadata": {},
   "outputs": [
    {
     "name": "stdout",
     "output_type": "stream",
     "text": [
      "6\n",
      "12\n",
      "18\n"
     ]
    }
   ],
   "source": [
    "l1 = [(1,2,3), (3,4,5), (5,6,7)]\n",
    "\n",
    "for (a, b, c) in l1:\n",
    "    print(a + b + c)"
   ]
  },
  {
   "cell_type": "code",
   "execution_count": 68,
   "id": "021571ee",
   "metadata": {},
   "outputs": [
    {
     "ename": "ValueError",
     "evalue": "too many values to unpack (expected 2)",
     "output_type": "error",
     "traceback": [
      "\u001b[1;31m---------------------------------------------------------------------------\u001b[0m",
      "\u001b[1;31mValueError\u001b[0m                                Traceback (most recent call last)",
      "Input \u001b[1;32mIn [68]\u001b[0m, in \u001b[0;36m<cell line: 3>\u001b[1;34m()\u001b[0m\n\u001b[0;32m      1\u001b[0m l1 \u001b[38;5;241m=\u001b[39m [(\u001b[38;5;241m1\u001b[39m,\u001b[38;5;241m2\u001b[39m,\u001b[38;5;241m3\u001b[39m), (\u001b[38;5;241m3\u001b[39m,\u001b[38;5;241m4\u001b[39m), (\u001b[38;5;241m5\u001b[39m,\u001b[38;5;241m6\u001b[39m,\u001b[38;5;241m7\u001b[39m)]\n\u001b[1;32m----> 3\u001b[0m \u001b[38;5;28;01mfor\u001b[39;00m (a, b) \u001b[38;5;129;01min\u001b[39;00m l1:\n\u001b[0;32m      4\u001b[0m     \u001b[38;5;28mprint\u001b[39m(a \u001b[38;5;241m+\u001b[39m b \u001b[38;5;241m+\u001b[39m c)\n",
      "\u001b[1;31mValueError\u001b[0m: too many values to unpack (expected 2)"
     ]
    }
   ],
   "source": [
    "l1 = [(1,2,3), (3,4), (5,6,7)]\n",
    "\n",
    "for (a, b) in l1:\n",
    "    print(a + b + c)"
   ]
  },
  {
   "cell_type": "code",
   "execution_count": 72,
   "id": "6d017725",
   "metadata": {},
   "outputs": [
    {
     "name": "stdout",
     "output_type": "stream",
     "text": [
      "5050\n",
      "5050\n",
      "2550\n"
     ]
    }
   ],
   "source": [
    "i = 1\n",
    "sum = 0\n",
    "while i <= 100:\n",
    "    sum += i\n",
    "    i += 1\n",
    "print(sum)\n",
    "\n",
    "sum = 0\n",
    "for num in range(1, 1 + 100):\n",
    "    sum += num\n",
    "print(sum)\n",
    "\n",
    "# 1 ~ 100 중 짝수만 더하시오. for 문\n",
    "sum = 0\n",
    "for num in range(1, 1 + 100):\n",
    "    if num % 2 != 0:\n",
    "        continue\n",
    "    sum += num\n",
    "print(sum)"
   ]
  },
  {
   "cell_type": "code",
   "execution_count": 75,
   "id": "5f61f654",
   "metadata": {},
   "outputs": [
    {
     "name": "stdout",
     "output_type": "stream",
     "text": [
      "[3, 6, 9, 12]\n",
      "==============================\n",
      "[3, 6, 9, 12]\n"
     ]
    }
   ],
   "source": [
    "# a튜플에 있는 값에 3을 더한 값을 빈 리스트에 저장하시오.\n",
    "a = (1,2,3,4)\n",
    "result = []\n",
    "\n",
    "for num in a:\n",
    "    result.append(num * 3)\n",
    "print(result)\n",
    "\n",
    "print(\"=\" * 30)\n",
    "result = [num * 3 for num in a]\n",
    "print(result)"
   ]
  },
  {
   "cell_type": "code",
   "execution_count": 78,
   "id": "b8a102ed",
   "metadata": {},
   "outputs": [
    {
     "name": "stdout",
     "output_type": "stream",
     "text": [
      "[6, 12]\n",
      "==============================\n",
      "[6, 12]\n"
     ]
    }
   ],
   "source": [
    "# a튜플에서 값이 짝수인 것만 3을 곱한 값을 리스트에 추가하시오.\n",
    "a = (1,2,3,4)\n",
    "result = []\n",
    "\n",
    "for num in a:\n",
    "    if num % 2 == 0:\n",
    "        result.append(num * 3)\n",
    "print(result)\n",
    "\n",
    "print(\"=\" * 30)\n",
    "result = [num * 3 for num in a if num % 2 == 0]\n",
    "print(result)"
   ]
  },
  {
   "cell_type": "code",
   "execution_count": 81,
   "id": "60670358",
   "metadata": {},
   "outputs": [
    {
     "name": "stdout",
     "output_type": "stream",
     "text": [
      "18\n",
      "34\n"
     ]
    }
   ],
   "source": [
    "# 함수\n",
    "# f(x, y) = 2x + 3y \n",
    "# z = f(3,4)\n",
    "def f(x, y):\n",
    "    return 2*x + 3*y\n",
    "\n",
    "z = f(3,4)\n",
    "print(z)\n",
    "\n",
    "z = f(5,8)\n",
    "print(z)"
   ]
  },
  {
   "cell_type": "code",
   "execution_count": 91,
   "id": "a19a25e7",
   "metadata": {},
   "outputs": [
    {
     "name": "stdout",
     "output_type": "stream",
     "text": [
      "5 * 1 =  5\n",
      "5 * 2 = 10\n",
      "5 * 3 = 15\n",
      "5 * 4 = 20\n",
      "5 * 5 = 25\n",
      "5 * 6 = 30\n",
      "5 * 7 = 35\n",
      "5 * 8 = 40\n",
      "5 * 9 = 45\n",
      "==============================\n",
      "3 * 1 =  3\n",
      "3 * 2 =  6\n",
      "3 * 3 =  9\n",
      "3 * 4 = 12\n",
      "3 * 5 = 15\n",
      "3 * 6 = 18\n",
      "3 * 7 = 21\n",
      "3 * 8 = 24\n",
      "3 * 9 = 27\n",
      "==============================\n",
      "5 * 1 =  5\n",
      "5 * 2 = 10\n",
      "5 * 3 = 15\n",
      "5 * 4 = 20\n",
      "5 * 5 = 25\n",
      "5 * 6 = 30\n",
      "5 * 7 = 35\n",
      "5 * 8 = 40\n",
      "5 * 9 = 45\n",
      "==============================\n",
      "9 * 1 =  9\n",
      "9 * 2 = 18\n",
      "9 * 3 = 27\n",
      "9 * 4 = 36\n",
      "9 * 5 = 45\n",
      "9 * 6 = 54\n",
      "9 * 7 = 63\n",
      "9 * 8 = 72\n",
      "9 * 9 = 81\n"
     ]
    }
   ],
   "source": [
    "# 3단\n",
    "# 5단\n",
    "# 9단\n",
    "\n",
    "for gop in range(1, 10):\n",
    "    print(f\"5 * {gop} = {5 * gop:>2}\")\n",
    "print(\"=\" * 30)\n",
    "\n",
    "def guguDan(dan):\n",
    "    for gop in range(1, 10):\n",
    "        print(f\"{dan} * {gop} = {dan * gop:>2}\")\n",
    "\n",
    "guguDan(3)\n",
    "print(\"=\" * 30)\n",
    "guguDan(5)\n",
    "print(\"=\" * 30)\n",
    "guguDan(9)"
   ]
  },
  {
   "cell_type": "code",
   "execution_count": 94,
   "id": "ec1e2dbb",
   "metadata": {},
   "outputs": [
    {
     "name": "stdout",
     "output_type": "stream",
     "text": [
      "3 * 1 =  3\n",
      "3 * 2 =  6\n",
      "3 * 3 =  9\n",
      "3 * 4 = 12\n",
      "3 * 5 = 15\n",
      "3 * 6 = 18\n",
      "3 * 7 = 21\n",
      "3 * 8 = 24\n",
      "3 * 9 = 27\n",
      "8 * 1 =  8\n",
      "8 * 2 = 16\n",
      "8 * 3 = 24\n",
      "8 * 4 = 32\n",
      "8 * 5 = 40\n",
      "8 * 6 = 48\n",
      "8 * 7 = 56\n",
      "8 * 8 = 64\n",
      "8 * 9 = 72\n"
     ]
    }
   ],
   "source": [
    "# 3단출력\n",
    "def dan3():\n",
    "    for gop in range(1, 10):\n",
    "        print(f\"3 * {gop} = {3 * gop:>2}\")\n",
    "def dan8():\n",
    "    for gop in range(1, 10):\n",
    "        print(f\"8 * {gop} = {8 * gop:>2}\")\n",
    "\n",
    "dan3()\n",
    "dan8()"
   ]
  },
  {
   "cell_type": "code",
   "execution_count": null,
   "id": "6f4d3472",
   "metadata": {},
   "outputs": [],
   "source": [
    "# 함수를 만드는 4가지 형식\n",
    "# def 함수명(매개변수):\n",
    "#     명령어1\n",
    "#     명령어2\n",
    "#     ...\n",
    "#     return 결과값\n",
    "\n",
    "# 함수명(argument) : 인자, 인수 : 실제 값을 가지고 있는것"
   ]
  },
  {
   "cell_type": "code",
   "execution_count": 96,
   "id": "bf920434",
   "metadata": {},
   "outputs": [
    {
     "name": "stdout",
     "output_type": "stream",
     "text": [
      "28\n"
     ]
    }
   ],
   "source": [
    "'''1. 일반적인 함수 : parameter도 있고 결과값이 있다.'''\n",
    "\n",
    "def f(x): # 피호출함수\n",
    "    return 3 + x *5 # return은 결과값을 호출함수에게 전달\n",
    "\n",
    "z= f(5) # 호출함수\n",
    "print(z)"
   ]
  },
  {
   "cell_type": "code",
   "execution_count": 98,
   "id": "0625eac1",
   "metadata": {},
   "outputs": [
    {
     "name": "stdout",
     "output_type": "stream",
     "text": [
      "7\n"
     ]
    }
   ],
   "source": [
    "def add(x, y):\n",
    "    return x + y\n",
    "\n",
    "z = add(3, 4)\n",
    "\n",
    "print(z)"
   ]
  },
  {
   "cell_type": "code",
   "execution_count": 101,
   "id": "1fb3282e",
   "metadata": {},
   "outputs": [
    {
     "name": "stdout",
     "output_type": "stream",
     "text": [
      "40\n"
     ]
    }
   ],
   "source": [
    "'''2. 입력값은 없지만, 결과값이 있다.'''\n",
    "def add():\n",
    "    x = 10\n",
    "    y = 30\n",
    "    return x + y\n",
    "\n",
    "z = add()\n",
    "print(z)"
   ]
  },
  {
   "cell_type": "code",
   "execution_count": 103,
   "id": "7c954e71",
   "metadata": {},
   "outputs": [
    {
     "name": "stdout",
     "output_type": "stream",
     "text": [
      "숫자를 입력해 주세요.30\n",
      "숫자를 입력해 주세요.30\n",
      "60\n"
     ]
    }
   ],
   "source": [
    "def add():\n",
    "    x = int(input(\"숫자를 입력해 주세요.\"))\n",
    "    y = int(input(\"숫자를 입력해 주세요.\"))\n",
    "    return x + y\n",
    "\n",
    "z = add()\n",
    "print(z)"
   ]
  },
  {
   "cell_type": "code",
   "execution_count": 105,
   "id": "1778b9f1",
   "metadata": {},
   "outputs": [
    {
     "name": "stdout",
     "output_type": "stream",
     "text": [
      "50\n",
      "None\n"
     ]
    }
   ],
   "source": [
    "'''3. 입력값은 있으나 결과값이 없다.'''\n",
    "\n",
    "def add2(x, y):\n",
    "    result = x + y\n",
    "    print(result)\n",
    "    \n",
    "z = add2(30, 20)\n",
    "print(z)"
   ]
  },
  {
   "cell_type": "code",
   "execution_count": 107,
   "id": "a70bdba8",
   "metadata": {},
   "outputs": [
    {
     "name": "stdout",
     "output_type": "stream",
     "text": [
      "숫자를 입력해 주세요30\n",
      "숫자를 입력해 주세요20\n",
      "50\n",
      "None\n"
     ]
    }
   ],
   "source": [
    "'''4. 입력값도 없고 결과값도 없다'''\n",
    "def add3():\n",
    "    x = int(input(\"숫자를 입력해 주세요\"))\n",
    "    y = int(input(\"숫자를 입력해 주세요\"))\n",
    "    print(x + y)\n",
    "\n",
    "z = add3()\n",
    "print(z)"
   ]
  },
  {
   "cell_type": "code",
   "execution_count": 111,
   "id": "7ee03af7",
   "metadata": {},
   "outputs": [
    {
     "name": "stdout",
     "output_type": "stream",
     "text": [
      "39, 17, 31, 28, 22, 33, "
     ]
    }
   ],
   "source": [
    "import random\n",
    "\n",
    "lotto = []\n",
    "for n in range(1, 1+45):\n",
    "    lotto.append(n)\n",
    "# print(lotto)\n",
    "\n",
    "lottosize = len(lotto)\n",
    "j = 1\n",
    "while j <= 6:\n",
    "    lottosize -= 1\n",
    "    idx = random.randint(0, lottosize)\n",
    "    num = lotto.pop(idx)\n",
    "    print(num, end=\", \")\n",
    "    j += 1"
   ]
  },
  {
   "cell_type": "code",
   "execution_count": 121,
   "id": "d8045dae",
   "metadata": {},
   "outputs": [],
   "source": [
    "import random\n",
    "\n",
    "def lottoFnc():\n",
    "    lotto = []\n",
    "    for n in range(1, 1+45):\n",
    "        lotto.append(n)\n",
    "    # print(lotto)\n",
    "\n",
    "    lottosize = len(lotto)\n",
    "    j = 1\n",
    "    while j <= 6:\n",
    "        lottosize -= 1\n",
    "        idx = random.randint(0, lottosize)\n",
    "        num = lotto.pop(idx)\n",
    "        print(f\"{num:>2}\", end=\", \")\n",
    "        j += 1"
   ]
  },
  {
   "cell_type": "code",
   "execution_count": 125,
   "id": "35b07a7b",
   "metadata": {},
   "outputs": [
    {
     "name": "stdout",
     "output_type": "stream",
     "text": [
      "수량을 입력하세요.5\n",
      "16, 15, 36, 40, 18, 4 , \n",
      "33, 22, 11, 36, 43, 40, \n",
      "26, 34, 7 , 16, 10, 22, \n",
      "26, 32, 43, 11, 22, 36, \n",
      "39, 33, 18, 22, 44, 20, \n"
     ]
    }
   ],
   "source": [
    "num = int(input(\"수량을 입력하세요.\"))\n",
    "i = 1\n",
    "while i <= num:\n",
    "    lottoFnc()\n",
    "    print()\n",
    "    i += 1"
   ]
  },
  {
   "cell_type": "code",
   "execution_count": 128,
   "id": "9b8c4f32",
   "metadata": {},
   "outputs": [
    {
     "name": "stdout",
     "output_type": "stream",
     "text": [
      "5050\n"
     ]
    }
   ],
   "source": [
    "# 1~100, 1~1000, 50~1000 에 해당하는 합계 값을 구하시오.\n",
    "sum = 0\n",
    "for i in range(1, 1+100):\n",
    "    sum += i\n",
    "print(sum)"
   ]
  },
  {
   "cell_type": "code",
   "execution_count": 135,
   "id": "9c299a77",
   "metadata": {},
   "outputs": [],
   "source": [
    "def sum1(start, end):\n",
    "    sum = 0\n",
    "    for i in range(start, 1 + end):\n",
    "        sum += i\n",
    "    print(sum)"
   ]
  },
  {
   "cell_type": "code",
   "execution_count": 137,
   "id": "9a1d499c",
   "metadata": {},
   "outputs": [
    {
     "name": "stdout",
     "output_type": "stream",
     "text": [
      "5050\n",
      "500500\n",
      "499275\n"
     ]
    }
   ],
   "source": [
    "sum1(1, 100)\n",
    "sum1(1, 1000)\n",
    "sum1(50, 1000)"
   ]
  },
  {
   "cell_type": "code",
   "execution_count": 140,
   "id": "bdb913ff",
   "metadata": {},
   "outputs": [],
   "source": [
    "def sum1(start, end):\n",
    "    sum = 0\n",
    "    for i in range(start, 1 + end):\n",
    "        sum += i\n",
    "    return sum"
   ]
  },
  {
   "cell_type": "code",
   "execution_count": 141,
   "id": "4218e87e",
   "metadata": {},
   "outputs": [
    {
     "name": "stdout",
     "output_type": "stream",
     "text": [
      "500455\n"
     ]
    }
   ],
   "source": [
    "z = sum1(10, 1000)\n",
    "print(z)"
   ]
  },
  {
   "cell_type": "code",
   "execution_count": 142,
   "id": "86154393",
   "metadata": {},
   "outputs": [
    {
     "name": "stdout",
     "output_type": "stream",
     "text": [
      "500500\n"
     ]
    }
   ],
   "source": [
    "z = sum1(end = 1000, start = 1)\n",
    "print(z)"
   ]
  },
  {
   "cell_type": "code",
   "execution_count": 144,
   "id": "01e17560",
   "metadata": {},
   "outputs": [
    {
     "name": "stdout",
     "output_type": "stream",
     "text": [
      "4\n",
      "7\n",
      "11\n",
      "56\n"
     ]
    }
   ],
   "source": [
    "def sum11(*para):\n",
    "    sum = 1\n",
    "    for num in para:\n",
    "        sum += num\n",
    "    print(sum)\n",
    "\n",
    "sum11(1, 2)\n",
    "sum11(1, 2, 3)\n",
    "sum11(1, 2, 3, 4)\n",
    "sum11(1,2,3,4,5,6,7,8,9,10)"
   ]
  },
  {
   "cell_type": "code",
   "execution_count": 161,
   "id": "13b01285",
   "metadata": {},
   "outputs": [],
   "source": [
    "def sum11(opt, *para):\n",
    "    sum = 0\n",
    "    if opt == \"add\":\n",
    "        for num in para:\n",
    "            sum += num\n",
    "    elif opt == \"mul\":\n",
    "         for num in para:\n",
    "            sum *= num\n",
    "    print(sum)"
   ]
  },
  {
   "cell_type": "code",
   "execution_count": 163,
   "id": "23827c25",
   "metadata": {},
   "outputs": [
    {
     "name": "stdout",
     "output_type": "stream",
     "text": [
      "10\n",
      "0\n"
     ]
    }
   ],
   "source": [
    "sum11(\"add\", 1,2,3,4)\n",
    "sum11(\"mul\", 1,2,3,4,45,5,5)"
   ]
  },
  {
   "cell_type": "code",
   "execution_count": 164,
   "id": "32dc2ccf",
   "metadata": {},
   "outputs": [
    {
     "name": "stdout",
     "output_type": "stream",
     "text": [
      "10 20\n"
     ]
    }
   ],
   "source": [
    "a, b = (10, 20)\n",
    "print(a, b)"
   ]
  },
  {
   "cell_type": "code",
   "execution_count": 165,
   "id": "d0dd05d4",
   "metadata": {},
   "outputs": [],
   "source": [
    "# return문에 의해 전달 되는 값은 오로지 하나이다.\n",
    "def add_mul(x, y):\n",
    "    i = x + y\n",
    "    j = x * y\n",
    "    return i, j"
   ]
  },
  {
   "cell_type": "code",
   "execution_count": 168,
   "id": "7b6d97c9",
   "metadata": {},
   "outputs": [
    {
     "name": "stdout",
     "output_type": "stream",
     "text": [
      "(50, 600)\n",
      "70 1000\n"
     ]
    }
   ],
   "source": [
    "z = add_mul(20, 30)\n",
    "print(z)\n",
    "\n",
    "x, y = add_mul(20, 50)\n",
    "print(x, y)"
   ]
  },
  {
   "cell_type": "code",
   "execution_count": 169,
   "id": "22dcc860",
   "metadata": {},
   "outputs": [],
   "source": [
    "def add_mul(x, y):\n",
    "    i = x + y\n",
    "    j = x * y\n",
    "    return i # return은 함수 종료\n",
    "    return j"
   ]
  },
  {
   "cell_type": "code",
   "execution_count": 170,
   "id": "54297db5",
   "metadata": {},
   "outputs": [],
   "source": [
    "# 매개변수에 초기값 미리 설정하기\n",
    "def say_myself(name, old, man = True):\n",
    "    print(\"나의 이름은 %s입니다.\" % name)\n",
    "    print(\"나이는 %d살입니다.\" % old)\n",
    "    if man:\n",
    "        print(\"남자입니다\")\n",
    "    else:\n",
    "        print(\"여자입니다\")"
   ]
  },
  {
   "cell_type": "code",
   "execution_count": 172,
   "id": "331c6ef9",
   "metadata": {},
   "outputs": [
    {
     "name": "stdout",
     "output_type": "stream",
     "text": [
      "나의 이름은 TONY입니다.\n",
      "나이는 40살입니다.\n",
      "남자입니다\n",
      "나의 이름은 FREDDIE입니다.\n",
      "나이는 40살입니다.\n",
      "여자입니다\n"
     ]
    }
   ],
   "source": [
    "say_myself(\"TONY\", 40)\n",
    "say_myself(\"FREDDIE\", 40, False)"
   ]
  },
  {
   "cell_type": "code",
   "execution_count": 175,
   "id": "c642e431",
   "metadata": {},
   "outputs": [
    {
     "ename": "SyntaxError",
     "evalue": "non-default argument follows default argument (964291170.py, line 1)",
     "output_type": "error",
     "traceback": [
      "\u001b[1;36m  Input \u001b[1;32mIn [175]\u001b[1;36m\u001b[0m\n\u001b[1;33m    def say_myself(name, old = 25, man):\u001b[0m\n\u001b[1;37m                                   ^\u001b[0m\n\u001b[1;31mSyntaxError\u001b[0m\u001b[1;31m:\u001b[0m non-default argument follows default argument\n"
     ]
    }
   ],
   "source": [
    "def say_myself(name, old = 25, man):\n",
    "    print(\"나의 이름은 %s입니다.\" % name)\n",
    "    print(\"나이는 %d살입니다.\" % old)\n",
    "    if man:\n",
    "        print(\"남자입니다\")\n",
    "    else:\n",
    "        print(\"여자입니다\")\n",
    "\n",
    "say_myself(\"TONY\", False)"
   ]
  },
  {
   "cell_type": "code",
   "execution_count": 182,
   "id": "60186b04",
   "metadata": {
    "scrolled": true
   },
   "outputs": [
    {
     "name": "stdout",
     "output_type": "stream",
     "text": [
      "나의 이름은 TONY입니다.\n",
      "나이는 25살입니다.\n",
      "남자입니다\n",
      "나의 이름은 TONY입니다.\n",
      "나이는 25살입니다.\n",
      "여자입니다\n"
     ]
    }
   ],
   "source": [
    "def say_myself(name, old = 25, man = True):\n",
    "    print(\"나의 이름은 %s입니다.\" % name)\n",
    "    print(\"나이는 %d살입니다.\" % old)\n",
    "    if man:\n",
    "        print(\"남자입니다\")\n",
    "    else:\n",
    "        print(\"여자입니다\")\n",
    "        \n",
    "say_myself(\"TONY\")\n",
    "say_myself(\"TONY\", man = False)"
   ]
  },
  {
   "cell_type": "code",
   "execution_count": null,
   "id": "74e4becf",
   "metadata": {},
   "outputs": [],
   "source": [
    "파이썬 기본 자료형 : 숫자, 문자열, 리스트, 튜플, 딕셔너리, 집합, 부울\n",
    "제어문 : if, if ~ else, if ~ elif ~ else, 조건문\n",
    "         while, for, break, continue : 반복문\n",
    "함수"
   ]
  },
  {
   "cell_type": "code",
   "execution_count": 187,
   "id": "0dbead88",
   "metadata": {},
   "outputs": [
    {
     "name": "stdout",
     "output_type": "stream",
     "text": [
      "[1 4 7 5 4 5]\n"
     ]
    }
   ],
   "source": [
    "# numpy (Numerical Python)\n",
    "import numpy\n",
    "num = numpy.random.randint(10, size = 6)\n",
    "print(num)"
   ]
  },
  {
   "cell_type": "code",
   "execution_count": 188,
   "id": "84eaac2f",
   "metadata": {},
   "outputs": [
    {
     "name": "stdout",
     "output_type": "stream",
     "text": [
      "[1 9 2 4 6 7]\n"
     ]
    }
   ],
   "source": [
    "import numpy as np\n",
    "num = np.random.randint(10, size = 6)\n",
    "print(num)"
   ]
  },
  {
   "cell_type": "code",
   "execution_count": 190,
   "id": "b7269044",
   "metadata": {},
   "outputs": [
    {
     "name": "stdout",
     "output_type": "stream",
     "text": [
      "[1 9 2 4 6 7]\n",
      "[6, 9, 3, 6, 1, 6]\n",
      "9\n",
      "9\n"
     ]
    }
   ],
   "source": [
    "print(num) # 1차원 배열\n",
    "l = [6, 9, 3, 6, 1, 6] \n",
    "print(l)\n",
    "# index\n",
    "print(num[1])\n",
    "print(l[1])"
   ]
  },
  {
   "cell_type": "code",
   "execution_count": 194,
   "id": "6ec845ec",
   "metadata": {},
   "outputs": [
    {
     "name": "stdout",
     "output_type": "stream",
     "text": [
      "[[7 4 1 6]\n",
      " [5 9 3 4]\n",
      " [5 1 6 5]]\n",
      "[[6, 9, 9, 0], [8, 9, 1, 1], [7, 8, 9, 7]]\n"
     ]
    }
   ],
   "source": [
    "num2 = np.random.randint(10, size=(3,4)) # 3행 4열인 2차원 배열\n",
    "print(num2)\n",
    "l2 = [[6, 9, 9, 0], [8, 9, 1, 1], [7, 8, 9, 7]]\n",
    "print(l2)"
   ]
  },
  {
   "cell_type": "code",
   "execution_count": 195,
   "id": "eb8c1042",
   "metadata": {},
   "outputs": [
    {
     "name": "stdout",
     "output_type": "stream",
     "text": [
      "[1 9 2 4 6 7]\n",
      "[[2 1 7 4]]\n"
     ]
    }
   ],
   "source": [
    "num3 = np.random.randint(10, size=(1,4))\n",
    "print(num) # 1차원 배열\n",
    "print(num3) # 차원 배열"
   ]
  },
  {
   "cell_type": "code",
   "execution_count": 197,
   "id": "f729f9db",
   "metadata": {},
   "outputs": [
    {
     "name": "stdout",
     "output_type": "stream",
     "text": [
      "[1 9 2 4 6 7]\n",
      "[6, 9, 3, 6, 1, 6]\n",
      "2\n",
      "3\n",
      "2\n",
      "3\n"
     ]
    }
   ],
   "source": [
    "# 1차원배열과 리스트 비교\n",
    "print(num)\n",
    "print(l)\n",
    "print(num[2])\n",
    "print(l[2])\n",
    "print(num[-4])\n",
    "print(l[-4])"
   ]
  },
  {
   "cell_type": "code",
   "execution_count": 199,
   "id": "e1d7d131",
   "metadata": {},
   "outputs": [
    {
     "name": "stdout",
     "output_type": "stream",
     "text": [
      "[1 9 2 4]\n",
      "[6, 9, 3, 6]\n",
      "[1 9 2 4]\n",
      "[6, 9, 3, 6]\n",
      "[6 7]\n",
      "[1, 6]\n",
      "[6 7]\n",
      "[1, 6]\n"
     ]
    }
   ],
   "source": [
    "# slicing\n",
    "print(num[0:4])\n",
    "print(l[0:4])\n",
    "print(num[:4])\n",
    "print(l[:4])\n",
    "print(num[4: 5+1])\n",
    "print(l[4:len(l)])\n",
    "print(num[4:])\n",
    "print(l[4:])"
   ]
  },
  {
   "cell_type": "code",
   "execution_count": 203,
   "id": "7e21f55a",
   "metadata": {},
   "outputs": [
    {
     "name": "stdout",
     "output_type": "stream",
     "text": [
      "[1 9 2 4 6 7]\n",
      "[6, 9, 3, 6, 1, 6]\n",
      "[1 2 6]\n",
      "[6, 3, 1]\n",
      "[1 4]\n",
      "[6, 6]\n",
      "[2 6]\n",
      "[3, 1]\n",
      "[7 6 4 2 9 1]\n",
      "[6, 1, 6, 3, 9, 6]\n"
     ]
    }
   ],
   "source": [
    "print(num)\n",
    "print(l)\n",
    "print(num[::2])\n",
    "print(l[::2])\n",
    "print(num[::3])\n",
    "print(l[::3])\n",
    "print(num[2:6:2])\n",
    "print(l[2:6:2])\n",
    "\n",
    "print(num[::-1])\n",
    "print(l[::-1])"
   ]
  },
  {
   "cell_type": "code",
   "execution_count": null,
   "id": "765f5c5d",
   "metadata": {},
   "outputs": [],
   "source": []
  },
  {
   "cell_type": "code",
   "execution_count": 206,
   "id": "a79f3226",
   "metadata": {},
   "outputs": [],
   "source": [
    "# num2 = np.random.randint(10, size=(3,4))\n",
    "num2 = np.array([[3,5,1,8],[1,8,4,1],[4,7,7,5]])\n",
    "l2 = [[3,5,1,8],[1,8,4,1],[4,7,7,5]]"
   ]
  },
  {
   "cell_type": "code",
   "execution_count": 212,
   "id": "44d1a204",
   "metadata": {},
   "outputs": [
    {
     "name": "stdout",
     "output_type": "stream",
     "text": [
      "[[3 5 1 8]\n",
      " [1 8 4 1]\n",
      " [4 7 7 5]]\n",
      "[[3, 5, 1, 8], [1, 8, 4, 1], [4, 7, 7, 5]]\n",
      "8\n",
      "8\n",
      "8\n",
      "8\n",
      "8\n",
      "8\n"
     ]
    }
   ],
   "source": [
    "print(num2)\n",
    "#   4 3 2 1 -\n",
    "#   0 1 2 3\n",
    "# [[3 5 1 8]      # 0   3\n",
    "#  [1 8 4 1]      # 1   2\n",
    "#  [4 7 7 5]]     # 2   1 -\n",
    "print(l2)\n",
    "# [[3, 5, 1, 8], [1, 8, 4, 1], [4, 7, 7, 5]]\n",
    "#  0             1             2\n",
    "#  3             2             1         -\n",
    "#   0  1  2  3    0  1  2  3    0  1  2  3\n",
    "\n",
    "print(num2[1][1])\n",
    "print(l2[1][1])\n",
    "print(num2[1, 1]) # num2[행, 열]\n",
    "# print(l2[1, 1])\n",
    "print(num2[-2][-3]) # list style\n",
    "print(l2[-2][-3])\n",
    "print(num2[-2, -3]) # array style"
   ]
  },
  {
   "cell_type": "code",
   "execution_count": 231,
   "id": "0da032d9",
   "metadata": {},
   "outputs": [
    {
     "name": "stdout",
     "output_type": "stream",
     "text": [
      "[[3, 5, 1, 8], [1, 8, 4, 1]]\n",
      "[[3 5 1 8]\n",
      " [1 8 4 1]]\n",
      "[1, 8]\n",
      "[1 8]\n",
      "[1 8]\n",
      "[[3 5]\n",
      " [1 8]]\n",
      "[[3 5 1 8]\n",
      " [1 8 4 1]]\n",
      "[[3 1]\n",
      " [4 7]]\n"
     ]
    }
   ],
   "source": [
    "# slicing\n",
    "\n",
    "#   4 3 2 1 -\n",
    "#   0 1 2 3\n",
    "# [[3 5 1 8]      # 0   3\n",
    "#  [1 8 4 1]      # 1   2\n",
    "#  [4 7 7 5]]     # 2   1 -\n",
    "\n",
    "# [[3, 5, 1, 8], [1, 8, 4, 1], [4, 7, 7, 5]]\n",
    "#  0             1             2\n",
    "#  3             2             1         -\n",
    "#   0  1  2  3    0  1  2  3    0  1  2  3\n",
    "\n",
    "print(l2[0:2])\n",
    "print(num2[0:2])\n",
    "print(l2[1][0:2])\n",
    "print(num2[1][0:2])\n",
    "print(num2[1, 0:2])\n",
    "print(num2[0:2, 0:2]) # 배열에서는 1,2행의 1,2열만 가져오기가 된다.\n",
    "print(num2[0:2][0:2]) # 리스트에서는 열만 가져오기가 안된다. 배열을 써야한다\n",
    "print(num2[::2, ::2]) # 1행, 3행의 1열 3열만 가져오기."
   ]
  },
  {
   "cell_type": "code",
   "execution_count": 239,
   "id": "1d4ebcf5",
   "metadata": {},
   "outputs": [
    {
     "name": "stdout",
     "output_type": "stream",
     "text": [
      "[[3 1]\n",
      " [1 4]\n",
      " [4 7]]\n",
      "[[3 5 1 8]\n",
      " [4 7 7 5]]\n"
     ]
    }
   ],
   "source": [
    "## 열만 한칸씩 건너 띄우기\n",
    "print(num2[:, ::2])\n",
    "print(num2[::2, :])"
   ]
  },
  {
   "cell_type": "code",
   "execution_count": 241,
   "id": "d48d745e",
   "metadata": {},
   "outputs": [
    {
     "name": "stdout",
     "output_type": "stream",
     "text": [
      "[[3 5 1]\n",
      " [1 8 4]]\n"
     ]
    }
   ],
   "source": [
    "# 두개의 행, 세개의 열\n",
    "print(num2[0:2, 0:3])"
   ]
  },
  {
   "cell_type": "code",
   "execution_count": 252,
   "id": "daca396a",
   "metadata": {},
   "outputs": [
    {
     "name": "stdout",
     "output_type": "stream",
     "text": [
      "[[4 7 7 5]\n",
      " [1 8 4 1]\n",
      " [3 5 1 8]]\n",
      "[[8 1 5 3]\n",
      " [1 4 8 1]\n",
      " [5 7 7 4]]\n",
      "[[5 7 7 4]\n",
      " [1 4 8 1]\n",
      " [8 1 5 3]]\n",
      "[3 5 1 8]\n",
      "[3 5 1 8]\n",
      "[3 1 4]\n",
      "[[99  5  1  8]\n",
      " [ 1  8  4  1]\n",
      " [ 4  7  7  5]]\n",
      "[[3 5 1 8]\n",
      " [1 8 4 1]\n",
      " [4 7 7 5]]\n"
     ]
    }
   ],
   "source": [
    "#   4 3 2 1 -\n",
    "#   0 1 2 3\n",
    "# [[3 5 1 8]      # 0   3\n",
    "#  [1 8 4 1]      # 1   2\n",
    "#  [4 7 7 5]]     # 2   1 -\n",
    "print(num2[::-1])\n",
    "print(num2[:, ::-1])\n",
    "print(num2[::-1, ::-1])\n",
    "#첫번째 행만 출력\n",
    "print(num2[0])\n",
    "print(num2[0, :])\n",
    "print(num2[:, 0])\n",
    "# 1행 1열 값을 99로 변경\n",
    "num2[0, 0] = 99\n",
    "print(num2)\n",
    "num2[0, 0] = 3\n",
    "print(num2)"
   ]
  },
  {
   "cell_type": "code",
   "execution_count": 262,
   "id": "2a5acef2",
   "metadata": {},
   "outputs": [
    {
     "name": "stdout",
     "output_type": "stream",
     "text": [
      "[[0 1 2]\n",
      " [3 4 5]\n",
      " [6 7 8]]\n",
      "[[ 0  1  2  3]\n",
      " [ 4  5  6  7]\n",
      " [ 8  9 10 11]]\n",
      "[[ 0  1  2]\n",
      " [ 3  4  5]\n",
      " [ 6  7  8]\n",
      " [ 9 10 11]]\n",
      "[[12 13 14]\n",
      " [15 16 17]\n",
      " [18 19 20]\n",
      " [21 22 23]]\n",
      "[[0 1 2 3]]\n",
      "[1 2 3]\n"
     ]
    }
   ],
   "source": [
    "# 배열을 만드는 다른 방법\n",
    "# 0 ~ 8 까지 9개의 수를 가지는 2차원 배열\n",
    "\n",
    "arr = np.arange(9).reshape(3,3)\n",
    "print(arr)\n",
    "\n",
    "arr1 = np.arange(12).reshape(3,4)\n",
    "print(arr1)\n",
    "\n",
    "arr2 = np.arange(12).reshape(4,3)\n",
    "print(arr2)\n",
    "\n",
    "arr3 = np.arange(12, 12+12).reshape(4,3)\n",
    "print(arr3)\n",
    "\n",
    "arr4 = np.arange(4).reshape(1,4)\n",
    "print(arr4)\n",
    "\n",
    "# 1 ~ 3까지의 수를 가지는 1차원배열\n",
    "arr5 = np.arange(1, 1+3).reshape(3)\n",
    "print(arr5)"
   ]
  },
  {
   "cell_type": "code",
   "execution_count": 271,
   "id": "a45801b4",
   "metadata": {},
   "outputs": [
    {
     "data": {
      "text/plain": [
       "array([[3, 5, 1],\n",
       "       [1, 8, 4],\n",
       "       [4, 7, 7]])"
      ]
     },
     "execution_count": 271,
     "metadata": {},
     "output_type": "execute_result"
    }
   ],
   "source": [
    "arr_copy = num2[:, 0:3]\n",
    "arr_copy"
   ]
  },
  {
   "cell_type": "code",
   "execution_count": 274,
   "id": "f5c10b12",
   "metadata": {},
   "outputs": [
    {
     "name": "stdout",
     "output_type": "stream",
     "text": [
      "6\n"
     ]
    }
   ],
   "source": [
    "# aary함수를 이용한 배열을 만들자.\n",
    "# 2,5,7,을 가지는 1차원 배열을 만드시오.\n",
    "arr5 = np.array([2,5,7])\n",
    "arr5\n",
    "arr6 = np.array([[1,2,3],[4,5,6],[7,8,9]])\n",
    "arr6\n",
    "arr7 = np.array([[[1,2,3],[4,5,6],[7,8,9]], # 0면\n",
    "                [[1,2,3],[4,5,6],[7,8,9]], # 1면\n",
    "                [[1,2,3],[4,5,6],[7,8,9]]]  # 2면\n",
    "               )\n",
    "print(arr7[0, 1, 2]) # 면, 행, 열"
   ]
  },
  {
   "cell_type": "code",
   "execution_count": 283,
   "id": "78b398f1",
   "metadata": {},
   "outputs": [
    {
     "name": "stdout",
     "output_type": "stream",
     "text": [
      "[1 2 3] [3 2 1]\n",
      "[1 2 3 3 2 1]\n",
      "[ 1  2  3  3  2  1 99 99 99]\n",
      "[1 2 3 4 5 6 7 8 9]\n",
      "[1 2 3 4 5 6 7 8 9]\n",
      "[1 2 3 4 7 8]\n"
     ]
    }
   ],
   "source": [
    "x = np.array([1,2,3]) # 1차원 배열\n",
    "y = np.array([3,2,1]) # 1차원 배열\n",
    "print(x, y)\n",
    "z = np.concatenate([x, y])\n",
    "print(z)\n",
    "v = [99,99,99]\n",
    "z = np.concatenate([x,y,v])\n",
    "print(z)\n",
    "l1 = [1,2,3] #리스트\n",
    "l2 = [4,5,6] #리스트\n",
    "l3 = [7,8,9] #리스트\n",
    "z = np.concatenate([l1, l2, l3])\n",
    "print(z)\n",
    "z = np.concatenate([[1,2,3],[4,5,6],[7,8,9]])\n",
    "print(z)\n",
    "z = np.concatenate([[1,2,3],[4], [7,8]])\n",
    "print(z)"
   ]
  },
  {
   "cell_type": "code",
   "execution_count": 282,
   "id": "cc39de03",
   "metadata": {},
   "outputs": [],
   "source": [
    "x2 = np.array([1, 2, 3])\n",
    "grid = np.array([[9, 8, 7],\n",
    "                 [6, 5, 4]])"
   ]
  },
  {
   "cell_type": "code",
   "execution_count": 291,
   "id": "54c2406e",
   "metadata": {
    "scrolled": true
   },
   "outputs": [
    {
     "name": "stdout",
     "output_type": "stream",
     "text": [
      "[[1 2 3]\n",
      " [9 8 7]\n",
      " [6 5 4]]\n",
      "[[9 8 7]\n",
      " [6 5 4]\n",
      " [1 2 3]]\n",
      "[[1]\n",
      " [2]]\n",
      "[[1 9 8 7]\n",
      " [2 6 5 4]]\n"
     ]
    }
   ],
   "source": [
    "# z = np.concatenate([x2, grid])\n",
    "z = np.vstack([x2, grid])\n",
    "print(z)\n",
    "\n",
    "z = np.vstack([grid, x2]) # 행으로 확장하는 경우에는 열의 크기가 같아야 한다.\n",
    "print(z)\n",
    "\n",
    "#z = np.hstack()\n",
    "x3 = np.array([[1], [2]])\n",
    "print(x3)\n",
    "z = np.hstack([x3, grid]) # 열로 확장하는 경우 행의 크기가 같아야 한다\n",
    "print(z)"
   ]
  },
  {
   "cell_type": "code",
   "execution_count": 293,
   "id": "42434751",
   "metadata": {},
   "outputs": [
    {
     "name": "stdout",
     "output_type": "stream",
     "text": [
      "[1 2 3] [99 99  3] [2 1 3]\n",
      "[1 2 3] [99 99] [3 2] [1 3]\n"
     ]
    }
   ],
   "source": [
    "# 배열의 분할(split)\n",
    "x = np.array([1,2,3,99,99,3,2,1,3])\n",
    "#                 3    5    7\n",
    "x1, x2, x3 = np.split(x, 3) # 균등분할\n",
    "print(x1, x2, x3)\n",
    "x1, x2, x3, x4 = np.split(x, [3,5,7]) # 사용자 분할\n",
    "print(x1, x2, x3, x4)\n",
    "# 3번째까지, 5번째까지, 7번째까지, 나머지"
   ]
  },
  {
   "cell_type": "code",
   "execution_count": 297,
   "id": "041a6a78",
   "metadata": {},
   "outputs": [
    {
     "name": "stdout",
     "output_type": "stream",
     "text": [
      "[[ 0  1  2  3]\n",
      " [ 4  5  6  7]\n",
      " [ 8  9 10 11]\n",
      " [12 13 14 15]]\n",
      "[[0 1 2 3]\n",
      " [4 5 6 7]] [[ 8  9 10 11]\n",
      " [12 13 14 15]]\n",
      "[[ 0  1]\n",
      " [ 4  5]\n",
      " [ 8  9]\n",
      " [12 13]] [[ 2  3]\n",
      " [ 6  7]\n",
      " [10 11]\n",
      " [14 15]]\n"
     ]
    }
   ],
   "source": [
    "# 2차원 배열 분할\n",
    "grid = np.arange(16).reshape((4,4))\n",
    "print(grid)\n",
    "# [[ 0  1  2  3]\n",
    "#  [ 4  5  6  7]\n",
    "#  [ 8  9 10 11]\n",
    "#  [12 13 14 15]]\n",
    "\n",
    "y1, y2 = np.vsplit(grid, [2])\n",
    "print(y1, y2)\n",
    "y1, y2 = np.hsplit(grid, [2])\n",
    "print(y1, y2)"
   ]
  },
  {
   "cell_type": "code",
   "execution_count": 359,
   "id": "733d962a",
   "metadata": {},
   "outputs": [
    {
     "name": "stdout",
     "output_type": "stream",
     "text": [
      "[0.15513603 0.11376192 0.11265739]\n",
      "[0.28935195 0.41534381 0.63151229 0.29422429 0.46027387 0.7258026 ]\n",
      "[0.12419984 0.15395266 0.08821017 ... 0.33281235 0.80969251 0.92268327]\n"
     ]
    },
    {
     "ename": "TypeError",
     "evalue": "'int' object is not callable",
     "output_type": "error",
     "traceback": [
      "\u001b[1;31m---------------------------------------------------------------------------\u001b[0m",
      "\u001b[1;31mTypeError\u001b[0m                                 Traceback (most recent call last)",
      "Input \u001b[1;32mIn [359]\u001b[0m, in \u001b[0;36m<cell line: 9>\u001b[1;34m()\u001b[0m\n\u001b[0;32m      7\u001b[0m x \u001b[38;5;241m=\u001b[39m np\u001b[38;5;241m.\u001b[39mrandom\u001b[38;5;241m.\u001b[39mrand(\u001b[38;5;241m1000000\u001b[39m) \u001b[38;5;66;03m# 0 ~ 1사이의 값을 가지는 1차원 배열\u001b[39;00m\n\u001b[0;32m      8\u001b[0m \u001b[38;5;28mprint\u001b[39m(x)\n\u001b[1;32m----> 9\u001b[0m \u001b[43mget_ipython\u001b[49m\u001b[43m(\u001b[49m\u001b[43m)\u001b[49m\u001b[38;5;241;43m.\u001b[39;49m\u001b[43mrun_line_magic\u001b[49m\u001b[43m(\u001b[49m\u001b[38;5;124;43m'\u001b[39;49m\u001b[38;5;124;43mtimeit\u001b[39;49m\u001b[38;5;124;43m'\u001b[39;49m\u001b[43m,\u001b[49m\u001b[43m \u001b[49m\u001b[38;5;124;43m'\u001b[39;49m\u001b[38;5;124;43msum(x)\u001b[39;49m\u001b[38;5;124;43m'\u001b[39;49m\u001b[43m)\u001b[49m\n\u001b[0;32m     10\u001b[0m get_ipython()\u001b[38;5;241m.\u001b[39mrun_line_magic(\u001b[38;5;124m'\u001b[39m\u001b[38;5;124mtimeit\u001b[39m\u001b[38;5;124m'\u001b[39m, \u001b[38;5;124m'\u001b[39m\u001b[38;5;124mnp.sum(x)\u001b[39m\u001b[38;5;124m'\u001b[39m)\n",
      "File \u001b[1;32m~\\AppData\\Local\\Programs\\Python\\Python310\\lib\\site-packages\\IPython\\core\\interactiveshell.py:2304\u001b[0m, in \u001b[0;36mInteractiveShell.run_line_magic\u001b[1;34m(self, magic_name, line, _stack_depth)\u001b[0m\n\u001b[0;32m   2302\u001b[0m     kwargs[\u001b[38;5;124m'\u001b[39m\u001b[38;5;124mlocal_ns\u001b[39m\u001b[38;5;124m'\u001b[39m] \u001b[38;5;241m=\u001b[39m \u001b[38;5;28mself\u001b[39m\u001b[38;5;241m.\u001b[39mget_local_scope(stack_depth)\n\u001b[0;32m   2303\u001b[0m \u001b[38;5;28;01mwith\u001b[39;00m \u001b[38;5;28mself\u001b[39m\u001b[38;5;241m.\u001b[39mbuiltin_trap:\n\u001b[1;32m-> 2304\u001b[0m     result \u001b[38;5;241m=\u001b[39m fn(\u001b[38;5;241m*\u001b[39margs, \u001b[38;5;241m*\u001b[39m\u001b[38;5;241m*\u001b[39mkwargs)\n\u001b[0;32m   2305\u001b[0m \u001b[38;5;28;01mreturn\u001b[39;00m result\n",
      "File \u001b[1;32m~\\AppData\\Local\\Programs\\Python\\Python310\\lib\\site-packages\\IPython\\core\\magics\\execution.py:1162\u001b[0m, in \u001b[0;36mExecutionMagics.timeit\u001b[1;34m(self, line, cell, local_ns)\u001b[0m\n\u001b[0;32m   1160\u001b[0m \u001b[38;5;28;01mfor\u001b[39;00m index \u001b[38;5;129;01min\u001b[39;00m \u001b[38;5;28mrange\u001b[39m(\u001b[38;5;241m0\u001b[39m, \u001b[38;5;241m10\u001b[39m):\n\u001b[0;32m   1161\u001b[0m     number \u001b[38;5;241m=\u001b[39m \u001b[38;5;241m10\u001b[39m \u001b[38;5;241m*\u001b[39m\u001b[38;5;241m*\u001b[39m index\n\u001b[1;32m-> 1162\u001b[0m     time_number \u001b[38;5;241m=\u001b[39m \u001b[43mtimer\u001b[49m\u001b[38;5;241;43m.\u001b[39;49m\u001b[43mtimeit\u001b[49m\u001b[43m(\u001b[49m\u001b[43mnumber\u001b[49m\u001b[43m)\u001b[49m\n\u001b[0;32m   1163\u001b[0m     \u001b[38;5;28;01mif\u001b[39;00m time_number \u001b[38;5;241m>\u001b[39m\u001b[38;5;241m=\u001b[39m \u001b[38;5;241m0.2\u001b[39m:\n\u001b[0;32m   1164\u001b[0m         \u001b[38;5;28;01mbreak\u001b[39;00m\n",
      "File \u001b[1;32m~\\AppData\\Local\\Programs\\Python\\Python310\\lib\\site-packages\\IPython\\core\\magics\\execution.py:156\u001b[0m, in \u001b[0;36mTimer.timeit\u001b[1;34m(self, number)\u001b[0m\n\u001b[0;32m    154\u001b[0m gc\u001b[38;5;241m.\u001b[39mdisable()\n\u001b[0;32m    155\u001b[0m \u001b[38;5;28;01mtry\u001b[39;00m:\n\u001b[1;32m--> 156\u001b[0m     timing \u001b[38;5;241m=\u001b[39m \u001b[38;5;28;43mself\u001b[39;49m\u001b[38;5;241;43m.\u001b[39;49m\u001b[43minner\u001b[49m\u001b[43m(\u001b[49m\u001b[43mit\u001b[49m\u001b[43m,\u001b[49m\u001b[43m \u001b[49m\u001b[38;5;28;43mself\u001b[39;49m\u001b[38;5;241;43m.\u001b[39;49m\u001b[43mtimer\u001b[49m\u001b[43m)\u001b[49m\n\u001b[0;32m    157\u001b[0m \u001b[38;5;28;01mfinally\u001b[39;00m:\n\u001b[0;32m    158\u001b[0m     \u001b[38;5;28;01mif\u001b[39;00m gcold:\n",
      "File \u001b[1;32m<magic-timeit>:1\u001b[0m, in \u001b[0;36minner\u001b[1;34m(_it, _timer)\u001b[0m\n",
      "\u001b[1;31mTypeError\u001b[0m: 'int' object is not callable"
     ]
    }
   ],
   "source": [
    "# 유니버설 함수\n",
    "import numpy as np\n",
    "x = np.random.rand(3)\n",
    "print(x)\n",
    "x = np.random.rand(6)\n",
    "print(x)\n",
    "x = np.random.rand(1000000) # 0 ~ 1사이의 값을 가지는 1차원 배열\n",
    "print(x)\n",
    "%timeit sum(x) \n",
    "%timeit np.sum(x) "
   ]
  },
  {
   "cell_type": "code",
   "execution_count": 300,
   "id": "71c269f3",
   "metadata": {
    "scrolled": true
   },
   "outputs": [
    {
     "name": "stdout",
     "output_type": "stream",
     "text": [
      "[[0 5 4 3]\n",
      " [0 7 3 6]\n",
      " [0 5 6 5]]\n",
      "[[0.17233952 0.13397787 0.55977664 0.68138582]\n",
      " [0.97168765 0.07460222 0.91501464 0.31179399]\n",
      " [0.44609676 0.5322306  0.03488627 0.69125295]]\n"
     ]
    }
   ],
   "source": [
    "M = np.random.randint(10, size = (3,4))\n",
    "print(M)\n",
    "\n",
    "M = np.random.random(size = (3,4))\n",
    "print(M)"
   ]
  },
  {
   "cell_type": "code",
   "execution_count": 308,
   "id": "5d753daf",
   "metadata": {},
   "outputs": [
    {
     "name": "stdout",
     "output_type": "stream",
     "text": [
      "[0 1 2 3]\n",
      "[5 5 5 5]\n",
      "[5 6 7 8]\n"
     ]
    }
   ],
   "source": [
    "x = np.arange(4)\n",
    "print(x)\n",
    "y = np.array([5,5,5,5])\n",
    "print(y)\n",
    "z = x + y\n",
    "print(z)"
   ]
  },
  {
   "cell_type": "code",
   "execution_count": 319,
   "id": "0d086fba",
   "metadata": {},
   "outputs": [
    {
     "name": "stdout",
     "output_type": "stream",
     "text": [
      "[5 6 7 8]\n",
      "[5 6 7 8]\n",
      "[-2 -1  0  1]\n",
      "[-2 -1  0  1]\n",
      "[ 0  5 10 15]\n",
      "[ 0  5 10 15]\n"
     ]
    }
   ],
   "source": [
    "z = x + 5 # [5,5,5,5] 유니버설 함수 add 가 실행된다.\n",
    "print(z)\n",
    "z = np.add(x, 5) # 유니버설 함수\n",
    "z = np.arange(4) + np.array([5,5,5,5])\n",
    "print(z)\n",
    "z = x - 2 # [2,2,2,2] 유니버설 함수 subtract 가 실행된다.\n",
    "print(z)\n",
    "z = np.subtract(x, 2)\n",
    "print(z)\n",
    "z = x * 5\n",
    "print(z)\n",
    "z = np.multiply(x, 5)\n",
    "print(z)"
   ]
  },
  {
   "cell_type": "code",
   "execution_count": 325,
   "id": "7aa1e2da",
   "metadata": {},
   "outputs": [
    {
     "name": "stdout",
     "output_type": "stream",
     "text": [
      "[0 1 2]\n",
      "[[0]\n",
      " [1]\n",
      " [2]]\n",
      "[[0 1 2]\n",
      " [1 2 3]\n",
      " [2 3 4]]\n"
     ]
    }
   ],
   "source": [
    "a = np.arange(3)\n",
    "# [0 1 2]\n",
    "print(a)\n",
    "b = np.arange(3)[:, np.newaxis]\n",
    "# [[0]\n",
    "#  [1]\n",
    "#  [2]]\n",
    "print(b)\n",
    "z = a + b # 행과 열을 확장. 브로드캐스팅\n",
    "print(z)"
   ]
  },
  {
   "cell_type": "code",
   "execution_count": 329,
   "id": "87f89b25",
   "metadata": {
    "scrolled": true
   },
   "outputs": [
    {
     "name": "stdout",
     "output_type": "stream",
     "text": [
      "[[1. 1. 1.]\n",
      " [1. 1. 1.]\n",
      " [1. 1. 1.]]\n",
      "[0 1 2]\n",
      "[[1. 2. 3.]\n",
      " [1. 2. 3.]\n",
      " [1. 2. 3.]]\n"
     ]
    }
   ],
   "source": [
    "M = np.ones((3,3))\n",
    "print(M)\n",
    "print(a)\n",
    "z = M + a\n",
    "print(z)"
   ]
  },
  {
   "cell_type": "code",
   "execution_count": 337,
   "id": "e0df7072",
   "metadata": {},
   "outputs": [
    {
     "data": {
      "text/plain": [
       "(array([245.,  14.,  13.,  17.,   8.,   6.,   5.,   6.,   4.,   3.,   7.,\n",
       "          6.,   3.,   3.,   3.,   4.,   4.,   2.,   4.,   0.,   0.,   1.,\n",
       "          1.,   1.,   0.,   0.,   0.,   2.,   1.,   1.,   0.,   0.,   0.,\n",
       "          0.,   0.,   0.,   0.,   0.,   0.,   1.]),\n",
       " array([0.        , 0.04596457, 0.09192913, 0.1378937 , 0.18385827,\n",
       "        0.22982283, 0.2757874 , 0.32175197, 0.36771654, 0.4136811 ,\n",
       "        0.45964567, 0.50561024, 0.5515748 , 0.59753937, 0.64350394,\n",
       "        0.6894685 , 0.73543307, 0.78139764, 0.8273622 , 0.87332677,\n",
       "        0.91929134, 0.96525591, 1.01122047, 1.05718504, 1.10314961,\n",
       "        1.14911417, 1.19507874, 1.24104331, 1.28700787, 1.33297244,\n",
       "        1.37893701, 1.42490157, 1.47086614, 1.51683071, 1.56279528,\n",
       "        1.60875984, 1.65472441, 1.70068898, 1.74665354, 1.79261811,\n",
       "        1.83858268]),\n",
       " <BarContainer object of 40 artists>)"
      ]
     },
     "execution_count": 337,
     "metadata": {},
     "output_type": "execute_result"
    },
    {
     "data": {
      "image/png": "[encoded data removed]",
      "text/plain": [
       "<Figure size 432x288 with 1 Axes>"
      ]
     },
     "metadata": {
      "needs_background": "light"
     },
     "output_type": "display_data"
    }
   ],
   "source": [
    "import pandas as pd\n",
    "import matplotlib.pyplot as plt\n",
    "\n",
    "data = pd.read_csv(\"https://raw.githubusercontent.com/wikibook/python-ds-handbook/master/notebooks/data/Seattle2014.csv\")\n",
    "# 시애틀 강수량 PRCP\n",
    "nprain = data['PRCP']\n",
    "nprain = np.array(nprain)\n",
    "inches = nprain / 254\n",
    "inches\n",
    "plt.hist(inches, 40)\n"
   ]
  },
  {
   "cell_type": "code",
   "execution_count": 344,
   "id": "cf38e6d9",
   "metadata": {},
   "outputs": [
    {
     "name": "stdout",
     "output_type": "stream",
     "text": [
      "[[0.26234662 0.28166617 0.79955641 0.57230551]\n",
      " [0.73045288 0.76001563 0.11416948 0.47098462]\n",
      " [0.47926354 0.96421306 0.36925355 0.44535024]]\n"
     ]
    },
    {
     "data": {
      "text/plain": [
       "array([0.26234662, 0.28166617, 0.11416948, 0.44535024])"
      ]
     },
     "execution_count": 344,
     "metadata": {},
     "output_type": "execute_result"
    }
   ],
   "source": [
    "M = np.random.random((3, 4))\n",
    "M\n",
    "np.sum(M)\n",
    "M.sum()\n",
    "M.min()\n",
    "M.max()\n",
    "print(M)\n",
    "M.min(axis=0) # x축 최소값. 열기준\n",
    "M.mqx(axis=0)\n",
    "M.sum(axis=0)\n",
    "M.min(axis=1) # y축 최소값. 열기준\n",
    "M.mqx(axis=1)\n",
    "M.sum(axis=1)\n",
    "# axis = 2 # z축\n"
   ]
  },
  {
   "cell_type": "code",
   "execution_count": 357,
   "id": "2f2bd36a",
   "metadata": {},
   "outputs": [
    {
     "name": "stdout",
     "output_type": "stream",
     "text": [
      "182.0\n",
      "174.25\n",
      "183.0\n"
     ]
    }
   ],
   "source": [
    "import pandas as pd\n",
    "import matplotlib.pyplot as plt\n",
    "\n",
    "data = pd.read_csv(\"https://raw.githubusercontent.com/wikibook/python-ds-handbook/master/notebooks/data/president_heights.csv\")\n",
    "heights = np.array(data[\"height(cm)\"])\n",
    "heights\n",
    "heights.mean()\n",
    "np.mean(heights)\n",
    "heights.min() # 0 사분위\n",
    "heights.max() # 4 사분위\n",
    "heights.std()\n",
    "print(np.median(heights)) # 2사분위\n",
    "print(np.percentile(heights, 25)) # 1사분위\n",
    "print(np.percentile(heights, 75)) # 3사분위"
   ]
  }
 ],
 "metadata": {
  "kernelspec": {
   "display_name": "Python 3 (ipykernel)",
   "language": "python",
   "name": "python3"
  },
  "language_info": {
   "codemirror_mode": {
    "name": "ipython",
    "version": 3
   },
   "file_extension": ".py",
   "mimetype": "text/x-python",
   "name": "python",
   "nbconvert_exporter": "python",
   "pygments_lexer": "ipython3",
   "version": "3.10.4"
  }
 },
 "nbformat": 4,
 "nbformat_minor": 5
}
