{
 "cells": [
  {
   "cell_type": "code",
   "execution_count": null,
   "id": "d3413234",
   "metadata": {},
   "outputs": [],
   "source": [
    "제어문 : 조건식 if, if ~ else, if ~ elif ~ else\n",
    "         반복문 while, for\n",
    "함수"
   ]
  },
  {
   "cell_type": "code",
   "execution_count": null,
   "id": "5c28bf21",
   "metadata": {},
   "outputs": [],
   "source": [
    "print(\"나무를 1번 찍었습니다.\")\n",
    "print(\"나무를 2번 찍었습니다.\")\n",
    "print(\"나무를 3번 찍었습니다.\")\n",
    "print(\"나무를 4번 찍었습니다.\")\n",
    "print(\"나무를 5번 찍었습니다.\")\n",
    "print(\"나무를 6번 찍었습니다.\")\n",
    "print(\"나무를 7번 찍었습니다.\")\n",
    "print(\"나무를 8번 찍었습니다.\")\n",
    "print(\"나무를 9번 찍었습니다.\")\n",
    "print(\"나무를 10번 찍었습니다.\")\n",
    "print(\"나무가 넘어갑니다.\")"
   ]
  },
  {
   "cell_type": "code",
   "execution_count": 8,
   "id": "f42ded74",
   "metadata": {},
   "outputs": [
    {
     "name": "stdout",
     "output_type": "stream",
     "text": [
      "나무를 1번 찍었습니다.\n",
      "나무를 2번 찍었습니다.\n",
      "나무를 3번 찍었습니다.\n",
      "나무를 4번 찍었습니다.\n",
      "나무를 5번 찍었습니다.\n",
      "나무를 6번 찍었습니다.\n",
      "나무를 7번 찍었습니다.\n",
      "나무를 8번 찍었습니다.\n",
      "나무를 9번 찍었습니다.\n",
      "나무를 10번 찍었습니다.\n",
      "나무가 넘어갑니다.\n"
     ]
    }
   ],
   "source": [
    "i = 1 \n",
    "while i <= 10: # 1\n",
    "    #print(f\"나무를 {i}번 찍었습니다.\") # 2\n",
    "    #print(\"나무를 {0}번 찍었습니다.\".format(i))\n",
    "    print(\"나무를 %d번 찍었습니다.\" % (i))\n",
    "    # 3\n",
    "    i = i + 1 # i = 1 + 1, i = 2 + 1, ... i = 10 + 1\n",
    "    # 1 - 2 - 3 - 1 - 2 - 3 - ... - 1\n",
    "print(\"나무가 넘어갑니다.\")"
   ]
  },
  {
   "cell_type": "code",
   "execution_count": 1,
   "id": "8f8b9981",
   "metadata": {},
   "outputs": [
    {
     "name": "stdout",
     "output_type": "stream",
     "text": [
      "8 * 1 = 8\n",
      "8 * 2 = 16\n",
      "8 * 3 = 24\n",
      "8 * 4 = 32\n",
      "8 * 5 = 40\n",
      "8 * 6 = 48\n",
      "8 * 7 = 56\n",
      "8 * 8 = 64\n",
      "8 * 9 = 72\n",
      "==============================\n",
      "8 * 1 = 8\n",
      "8 * 2 = 16\n",
      "8 * 3 = 24\n",
      "8 * 4 = 32\n",
      "8 * 5 = 40\n",
      "8 * 6 = 48\n",
      "8 * 7 = 56\n",
      "8 * 8 = 64\n",
      "8 * 9 = 72\n"
     ]
    }
   ],
   "source": [
    "# 8단 출력\n",
    "print(f\"8 * 1 = {8 * 1}\")\n",
    "print(f\"8 * 2 = {8 * 2}\")\n",
    "print(f\"8 * 3 = {8 * 3}\")\n",
    "print(f\"8 * 4 = {8 * 4}\")\n",
    "print(f\"8 * 5 = {8 * 5}\")\n",
    "print(f\"8 * 6 = {8 * 6}\")\n",
    "print(f\"8 * 7 = {8 * 7}\")\n",
    "print(f\"8 * 8 = {8 * 8}\")\n",
    "print(f\"8 * 9 = {8 * 9}\")\n",
    "\n",
    "print(\"=\" * 30)\n",
    "\n",
    "i = 1\n",
    "while i <= 9:\n",
    "    print(f\"8 * {i} = {8 * i}\")\n",
    "    #i = i + 1\n",
    "    i += 1"
   ]
  },
  {
   "cell_type": "code",
   "execution_count": 4,
   "id": "590874f7",
   "metadata": {},
   "outputs": [
    {
     "name": "stdout",
     "output_type": "stream",
     "text": [
      "단을 입력하세요.5\n",
      "5 * 1 = 5\n",
      "5 * 2 = 10\n",
      "5 * 3 = 15\n",
      "5 * 4 = 20\n",
      "5 * 5 = 25\n",
      "5 * 6 = 30\n",
      "5 * 7 = 35\n",
      "5 * 8 = 40\n",
      "5 * 9 = 45\n"
     ]
    }
   ],
   "source": [
    "dan = int(input(\"단을 입력하세요.\"))\n",
    "\n",
    "i = 1\n",
    "while i <= 9:\n",
    "    print(f\"{dan} * {i} = {dan * i}\")\n",
    "    i += 1"
   ]
  },
  {
   "cell_type": "code",
   "execution_count": 7,
   "id": "e508ce5b",
   "metadata": {},
   "outputs": [
    {
     "name": "stdout",
     "output_type": "stream",
     "text": [
      "5 * 1 = 5\n",
      "5 * 2 = 10\n",
      "5 * 3 = 15\n",
      "5 * 4 = 20\n",
      "5 * 5 = 25\n",
      "5 * 6 = 30\n",
      "5 * 7 = 35\n",
      "5 * 8 = 40\n",
      "5 * 9 = 45\n",
      "==============================\n",
      "6 * 1 = 6\n",
      "6 * 2 = 12\n",
      "6 * 3 = 18\n",
      "6 * 4 = 24\n",
      "6 * 5 = 30\n",
      "6 * 6 = 36\n",
      "6 * 7 = 42\n",
      "6 * 8 = 48\n",
      "6 * 9 = 54\n",
      "==============================\n",
      "7 * 1 = 7\n",
      "7 * 2 = 14\n",
      "7 * 3 = 21\n",
      "7 * 4 = 28\n",
      "7 * 5 = 35\n",
      "7 * 6 = 42\n",
      "7 * 7 = 49\n",
      "7 * 8 = 56\n",
      "7 * 9 = 63\n"
     ]
    }
   ],
   "source": [
    "# 5단 출력\n",
    "i = 1\n",
    "while i <= 9:\n",
    "    print(f\"5 * {i} = {5 * i}\")\n",
    "    i += 1\n",
    "\n",
    "print(\"=\" * 30)\n",
    "\n",
    "# 6단 출력\n",
    "i = 1\n",
    "while i <= 9:\n",
    "    print(f\"6 * {i} = {6 * i}\")\n",
    "    i += 1\n",
    "\n",
    "print(\"=\" * 30)\n",
    "\n",
    "# 7단 출력\n",
    "i = 1\n",
    "while i <= 9:\n",
    "    print(f\"7 * {i} = {7 * i}\")\n",
    "    i += 1"
   ]
  },
  {
   "cell_type": "code",
   "execution_count": 11,
   "id": "3eb3c6cf",
   "metadata": {},
   "outputs": [
    {
     "name": "stdout",
     "output_type": "stream",
     "text": [
      "5 * 1 =  5\n",
      "5 * 2 = 10\n",
      "5 * 3 = 15\n",
      "5 * 4 = 20\n",
      "5 * 5 = 25\n",
      "5 * 6 = 30\n",
      "5 * 7 = 35\n",
      "5 * 8 = 40\n",
      "5 * 9 = 45\n",
      "==============================\n",
      "6 * 1 =  6\n",
      "6 * 2 = 12\n",
      "6 * 3 = 18\n",
      "6 * 4 = 24\n",
      "6 * 5 = 30\n",
      "6 * 6 = 36\n",
      "6 * 7 = 42\n",
      "6 * 8 = 48\n",
      "6 * 9 = 54\n",
      "==============================\n",
      "7 * 1 =  7\n",
      "7 * 2 = 14\n",
      "7 * 3 = 21\n",
      "7 * 4 = 28\n",
      "7 * 5 = 35\n",
      "7 * 6 = 42\n",
      "7 * 7 = 49\n",
      "7 * 8 = 56\n",
      "7 * 9 = 63\n",
      "==============================\n"
     ]
    }
   ],
   "source": [
    "dan = 5\n",
    "while dan <= 7:\n",
    "    i = 1\n",
    "    while i <= 9:\n",
    "        print(f\"{dan} * {i} = {dan * i:>2}\")\n",
    "        i += 1\n",
    "    print(\"=\" * 30)\n",
    "    dan += 1"
   ]
  },
  {
   "cell_type": "code",
   "execution_count": 12,
   "id": "b451c218",
   "metadata": {},
   "outputs": [
    {
     "name": "stdout",
     "output_type": "stream",
     "text": [
      "시작단을 입력하세요3\n",
      "마지막단을 입력하세요5\n",
      "시작곱을 입력하세요4\n",
      "마지막곱을 입력하세요8\n",
      "3 * 4 = 12\n",
      "3 * 5 = 15\n",
      "3 * 6 = 18\n",
      "3 * 7 = 21\n",
      "3 * 8 = 24\n",
      "==============================\n",
      "4 * 4 = 16\n",
      "4 * 5 = 20\n",
      "4 * 6 = 24\n",
      "4 * 7 = 28\n",
      "4 * 8 = 32\n",
      "==============================\n",
      "5 * 4 = 20\n",
      "5 * 5 = 25\n",
      "5 * 6 = 30\n",
      "5 * 7 = 35\n",
      "5 * 8 = 40\n",
      "==============================\n"
     ]
    }
   ],
   "source": [
    "startDan = int(input(\"시작단을 입력하세요\"))\n",
    "endDan = int(input(\"마지막단을 입력하세요\"))\n",
    "\n",
    "startGop = int(input(\"시작곱을 입력하세요\"))\n",
    "endGop = int(input(\"마지막곱을 입력하세요\"))\n",
    "\n",
    "dan = startDan\n",
    "while dan <= endDan:\n",
    "    i = startGop\n",
    "    while i <= endGop:\n",
    "        print(f\"{dan} * {i} = {dan * i:>2}\")\n",
    "        i += 1\n",
    "    print(\"=\" * 30)\n",
    "    dan += 1"
   ]
  },
  {
   "cell_type": "code",
   "execution_count": 35,
   "id": "f90e1936",
   "metadata": {},
   "outputs": [
    {
     "name": "stdout",
     "output_type": "stream",
     "text": [
      "[1, 2, 3, 4, 5, 6, 7, 8, 9, 10, 11, 12, 13, 14, 15, 16, 17, 18, 19, 20, 21, 22, 23, 24, 25, 26, 27, 28, 29, 30, 31, 32, 33, 34, 35, 36, 37, 38, 39, 40, 41, 42, 43, 44, 45]\n",
      "10,26,20,41,25,28,"
     ]
    }
   ],
   "source": [
    "import random\n",
    "\n",
    "lotto = [] # 빈 리스트\n",
    "i = 1\n",
    "\n",
    "while i <= 45:\n",
    "    lotto.append(i)\n",
    "    i += 1\n",
    "\n",
    "print(lotto)\n",
    "\n",
    "# rnd = random.randint(0, 44)\n",
    "# print(rnd)\n",
    "# print(lotto[rnd])\n",
    "\n",
    "lottosize = len(lotto)\n",
    "i = 1\n",
    "while i <= 6:\n",
    "    lottosize -= 1\n",
    "    idx = random.randint(0, lottosize)\n",
    "    lottonum = lotto.pop(idx)\n",
    "    print(lottonum, end = \",\")\n",
    "    i += 1"
   ]
  },
  {
   "cell_type": "code",
   "execution_count": 44,
   "id": "17dc9085",
   "metadata": {},
   "outputs": [
    {
     "name": "stdout",
     "output_type": "stream",
     "text": [
      "구매 수량을 입력하세요5\n",
      "44, 22, 13, 17, 36,  8, \n",
      "28, 25, 40,  6, 39, 10, \n",
      " 4, 11, 41, 20, 27, 26, \n",
      "24, 11, 19, 13, 36, 28, \n",
      " 3, 18, 16, 23, 20,  1, \n"
     ]
    }
   ],
   "source": [
    "import random\n",
    "\n",
    "icnt = int(input(\"구매 수량을 입력하세요\"))\n",
    "j = 1\n",
    "while j <= icnt:\n",
    "    lotto = [] # 빈 리스트\n",
    "    l = 1\n",
    "    while l <= 45:\n",
    "        lotto.append(l)\n",
    "        l += 1\n",
    "    lottosize = len(lotto)\n",
    "    i = 1\n",
    "    while i <= 6:\n",
    "        lottosize -= 1\n",
    "        idx = random.randint(0, lottosize)\n",
    "        lottonum = lotto.pop(idx)\n",
    "        print(f\"{lottonum:>2}\", end = \", \")\n",
    "        i += 1\n",
    "    print()\n",
    "    j += 1"
   ]
  },
  {
   "cell_type": "code",
   "execution_count": 45,
   "id": "05035e41",
   "metadata": {},
   "outputs": [
    {
     "name": "stdout",
     "output_type": "stream",
     "text": [
      "5050\n"
     ]
    }
   ],
   "source": [
    "# 1 ~ 100까지 합을 구하시오\n",
    "\n",
    "i = 1\n",
    "sum = 0\n",
    "\n",
    "while i <= 100:\n",
    "    sum += i\n",
    "    i += 1\n",
    "\n",
    "print(sum)"
   ]
  },
  {
   "cell_type": "code",
   "execution_count": 47,
   "id": "a63b459e",
   "metadata": {},
   "outputs": [
    {
     "name": "stdout",
     "output_type": "stream",
     "text": [
      "5050\n"
     ]
    }
   ],
   "source": [
    "# 1 ~ 100까지 합을 구하시오\n",
    "\n",
    "i = 1\n",
    "sum = 0\n",
    "\n",
    "while True:\n",
    "    if i > 100:\n",
    "        break\n",
    "    sum += i\n",
    "    i += 1\n",
    "\n",
    "print(sum)"
   ]
  },
  {
   "cell_type": "code",
   "execution_count": 51,
   "id": "257ea029",
   "metadata": {},
   "outputs": [
    {
     "name": "stdout",
     "output_type": "stream",
     "text": [
      "2\n",
      "4\n",
      "6\n",
      "8\n",
      "10\n",
      "12\n",
      "14\n",
      "16\n",
      "18\n",
      "20\n"
     ]
    }
   ],
   "source": [
    "# 1  20중 찍수만 출력하시오.\n",
    "\n",
    "i = 0\n",
    "\n",
    "while i < 20:\n",
    "    i += 1\n",
    "    if i % 2 != 0:\n",
    "        continue\n",
    "    print(i)"
   ]
  },
  {
   "cell_type": "code",
   "execution_count": 54,
   "id": "72624c4f",
   "metadata": {},
   "outputs": [
    {
     "name": "stdout",
     "output_type": "stream",
     "text": [
      "2500\n"
     ]
    }
   ],
   "source": [
    "# 1 ~ 100중 홀수의 합을 구하시오.\n",
    "\n",
    "i = 0\n",
    "sum = 0\n",
    "while i < 100:\n",
    "    i += 1\n",
    "    if i % 2 == 0:\n",
    "        continue\n",
    "    sum += i\n",
    "\n",
    "print(sum)"
   ]
  },
  {
   "cell_type": "code",
   "execution_count": 55,
   "id": "682281d7",
   "metadata": {},
   "outputs": [
    {
     "name": "stdout",
     "output_type": "stream",
     "text": [
      "2500\n"
     ]
    }
   ],
   "source": [
    "# 1 ~ 100중 홀수의 합을 구하시오.\n",
    "\n",
    "i = 1\n",
    "sum = 0\n",
    "while i <= 100:\n",
    "    if i % 2 != 0:\n",
    "        sum += i\n",
    "    i += 1\n",
    "print(sum)"
   ]
  },
  {
   "cell_type": "code",
   "execution_count": 56,
   "id": "a609c523",
   "metadata": {},
   "outputs": [
    {
     "name": "stdout",
     "output_type": "stream",
     "text": [
      "2500\n"
     ]
    }
   ],
   "source": [
    "# 1 ~ 100중 홀수의 합을 구하시오.\n",
    "\n",
    "i = 1\n",
    "sum = 0\n",
    "while True:\n",
    "    if i > 100:\n",
    "        break\n",
    "    if i % 2 != 0:\n",
    "        sum += i\n",
    "    i += 1\n",
    "print(sum)"
   ]
  },
  {
   "cell_type": "code",
   "execution_count": 62,
   "id": "1d150eed",
   "metadata": {},
   "outputs": [
    {
     "name": "stdout",
     "output_type": "stream",
     "text": [
      "105\n",
      "105\n",
      "105\n"
     ]
    }
   ],
   "source": [
    "# 리스트에 있는 합을 구하시오\n",
    "l = [1,43,5,56]\n",
    "idx = 0\n",
    "listsize = len(l)\n",
    "sum = 0\n",
    "\n",
    "while idx < listsize:\n",
    "    sum += l[idx]\n",
    "    idx += 1\n",
    "\n",
    "print(sum)\n",
    "\n",
    "# for 문으로 변경\n",
    "sum = 0\n",
    "\n",
    "for num in l:\n",
    "    sum += num\n",
    "print(sum)\n",
    "\n",
    "t = (1,43,5,56)\n",
    "sum = 0\n",
    "for num in t:\n",
    "    sum += num\n",
    "print(sum)"
   ]
  },
  {
   "cell_type": "code",
   "execution_count": 66,
   "id": "798c19eb",
   "metadata": {},
   "outputs": [
    {
     "name": "stdout",
     "output_type": "stream",
     "text": [
      "(1, 2)\n",
      "(3, 4)\n",
      "(5, 6)\n",
      "1 2\n",
      "3\n",
      "3 4\n",
      "7\n",
      "5 6\n",
      "11\n"
     ]
    }
   ],
   "source": [
    "l1 = [(1,2), (3,4), (5,6)]\n",
    "\n",
    "for num in l1:\n",
    "    print(num)\n",
    "\n",
    "for (a, b) in l1:\n",
    "    print(a, b)\n",
    "    print(a + b)"
   ]
  },
  {
   "cell_type": "code",
   "execution_count": 67,
   "id": "e909feea",
   "metadata": {},
   "outputs": [
    {
     "name": "stdout",
     "output_type": "stream",
     "text": [
      "6\n",
      "12\n",
      "18\n"
     ]
    }
   ],
   "source": [
    "l1 = [(1,2,3), (3,4,5), (5,6,7)]\n",
    "\n",
    "for (a, b, c) in l1:\n",
    "    print(a + b + c)"
   ]
  },
  {
   "cell_type": "code",
   "execution_count": 68,
   "id": "d3ba3bf1",
   "metadata": {},
   "outputs": [
    {
     "ename": "ValueError",
     "evalue": "too many values to unpack (expected 2)",
     "output_type": "error",
     "traceback": [
      "\u001b[1;31m---------------------------------------------------------------------------\u001b[0m",
      "\u001b[1;31mValueError\u001b[0m                                Traceback (most recent call last)",
      "Input \u001b[1;32mIn [68]\u001b[0m, in \u001b[0;36m<cell line: 3>\u001b[1;34m()\u001b[0m\n\u001b[0;32m      1\u001b[0m l1 \u001b[38;5;241m=\u001b[39m [(\u001b[38;5;241m1\u001b[39m,\u001b[38;5;241m2\u001b[39m,\u001b[38;5;241m3\u001b[39m), (\u001b[38;5;241m3\u001b[39m,\u001b[38;5;241m4\u001b[39m), (\u001b[38;5;241m5\u001b[39m,\u001b[38;5;241m6\u001b[39m,\u001b[38;5;241m7\u001b[39m)]\n\u001b[1;32m----> 3\u001b[0m \u001b[38;5;28;01mfor\u001b[39;00m (a, b) \u001b[38;5;129;01min\u001b[39;00m l1:\n\u001b[0;32m      4\u001b[0m     \u001b[38;5;28mprint\u001b[39m(a \u001b[38;5;241m+\u001b[39m b \u001b[38;5;241m+\u001b[39m c)\n",
      "\u001b[1;31mValueError\u001b[0m: too many values to unpack (expected 2)"
     ]
    }
   ],
   "source": [
    "l1 = [(1,2,3), (3,4), (5,6,7)]\n",
    "\n",
    "for (a, b) in l1:\n",
    "    print(a + b + c)"
   ]
  },
  {
   "cell_type": "code",
   "execution_count": 72,
   "id": "848981e7",
   "metadata": {},
   "outputs": [
    {
     "name": "stdout",
     "output_type": "stream",
     "text": [
      "5050\n",
      "5050\n",
      "2550\n"
     ]
    }
   ],
   "source": [
    "i = 1\n",
    "sum = 0\n",
    "while i <= 100:\n",
    "    sum += i\n",
    "    i += 1\n",
    "print(sum)\n",
    "\n",
    "sum = 0\n",
    "for num in range(1, 1 + 100):\n",
    "    sum += num\n",
    "print(sum)\n",
    "\n",
    "# 1 ~ 100 중 짝수만 더하시오. for 문\n",
    "sum = 0\n",
    "for num in range(1, 1 + 100):\n",
    "    if num % 2 != 0:\n",
    "        continue\n",
    "    sum += num\n",
    "print(sum)"
   ]
  },
  {
   "cell_type": "code",
   "execution_count": 75,
   "id": "cb25c52f",
   "metadata": {},
   "outputs": [
    {
     "name": "stdout",
     "output_type": "stream",
     "text": [
      "[3, 6, 9, 12]\n",
      "==============================\n",
      "[3, 6, 9, 12]\n"
     ]
    }
   ],
   "source": [
    "# a튜플에 있는 값에 3을 더한 값을 빈 리스트에 저장하시오.\n",
    "a = (1,2,3,4)\n",
    "result = []\n",
    "\n",
    "for num in a:\n",
    "    result.append(num * 3)\n",
    "print(result)\n",
    "\n",
    "print(\"=\" * 30)\n",
    "result = [num * 3 for num in a]\n",
    "print(result)"
   ]
  },
  {
   "cell_type": "code",
   "execution_count": 78,
   "id": "474316a5",
   "metadata": {},
   "outputs": [
    {
     "name": "stdout",
     "output_type": "stream",
     "text": [
      "[6, 12]\n",
      "==============================\n",
      "[6, 12]\n"
     ]
    }
   ],
   "source": [
    "# a튜플에서 값이 짝수인 것만 3을 곱한 값을 리스트에 추가하시오.\n",
    "a = (1,2,3,4)\n",
    "result = []\n",
    "\n",
    "for num in a:\n",
    "    if num % 2 == 0:\n",
    "        result.append(num * 3)\n",
    "print(result)\n",
    "\n",
    "print(\"=\" * 30)\n",
    "result = [num * 3 for num in a if num % 2 == 0]\n",
    "print(result)"
   ]
  },
  {
   "cell_type": "code",
   "execution_count": 81,
   "id": "5a46c40d",
   "metadata": {},
   "outputs": [
    {
     "name": "stdout",
     "output_type": "stream",
     "text": [
      "18\n",
      "34\n"
     ]
    }
   ],
   "source": [
    "# 함수\n",
    "# f(x, y) = 2x + 3y \n",
    "# z = f(3,4)\n",
    "def f(x, y):\n",
    "    return 2*x + 3*y\n",
    "\n",
    "z = f(3,4)\n",
    "print(z)\n",
    "\n",
    "z = f(5,8)\n",
    "print(z)"
   ]
  },
  {
   "cell_type": "code",
   "execution_count": 91,
   "id": "aa98c220",
   "metadata": {},
   "outputs": [
    {
     "name": "stdout",
     "output_type": "stream",
     "text": [
      "5 * 1 =  5\n",
      "5 * 2 = 10\n",
      "5 * 3 = 15\n",
      "5 * 4 = 20\n",
      "5 * 5 = 25\n",
      "5 * 6 = 30\n",
      "5 * 7 = 35\n",
      "5 * 8 = 40\n",
      "5 * 9 = 45\n",
      "==============================\n",
      "3 * 1 =  3\n",
      "3 * 2 =  6\n",
      "3 * 3 =  9\n",
      "3 * 4 = 12\n",
      "3 * 5 = 15\n",
      "3 * 6 = 18\n",
      "3 * 7 = 21\n",
      "3 * 8 = 24\n",
      "3 * 9 = 27\n",
      "==============================\n",
      "5 * 1 =  5\n",
      "5 * 2 = 10\n",
      "5 * 3 = 15\n",
      "5 * 4 = 20\n",
      "5 * 5 = 25\n",
      "5 * 6 = 30\n",
      "5 * 7 = 35\n",
      "5 * 8 = 40\n",
      "5 * 9 = 45\n",
      "==============================\n",
      "9 * 1 =  9\n",
      "9 * 2 = 18\n",
      "9 * 3 = 27\n",
      "9 * 4 = 36\n",
      "9 * 5 = 45\n",
      "9 * 6 = 54\n",
      "9 * 7 = 63\n",
      "9 * 8 = 72\n",
      "9 * 9 = 81\n"
     ]
    }
   ],
   "source": [
    "# 3단\n",
    "# 5단\n",
    "# 9단\n",
    "\n",
    "for gop in range(1, 10):\n",
    "    print(f\"5 * {gop} = {5 * gop:>2}\")\n",
    "print(\"=\" * 30)\n",
    "\n",
    "def guguDan(dan):\n",
    "    for gop in range(1, 10):\n",
    "        print(f\"{dan} * {gop} = {dan * gop:>2}\")\n",
    "\n",
    "guguDan(3)\n",
    "print(\"=\" * 30)\n",
    "guguDan(5)\n",
    "print(\"=\" * 30)\n",
    "guguDan(9)"
   ]
  },
  {
   "cell_type": "code",
   "execution_count": 94,
   "id": "490a9c87",
   "metadata": {},
   "outputs": [
    {
     "name": "stdout",
     "output_type": "stream",
     "text": [
      "3 * 1 =  3\n",
      "3 * 2 =  6\n",
      "3 * 3 =  9\n",
      "3 * 4 = 12\n",
      "3 * 5 = 15\n",
      "3 * 6 = 18\n",
      "3 * 7 = 21\n",
      "3 * 8 = 24\n",
      "3 * 9 = 27\n",
      "8 * 1 =  8\n",
      "8 * 2 = 16\n",
      "8 * 3 = 24\n",
      "8 * 4 = 32\n",
      "8 * 5 = 40\n",
      "8 * 6 = 48\n",
      "8 * 7 = 56\n",
      "8 * 8 = 64\n",
      "8 * 9 = 72\n"
     ]
    }
   ],
   "source": [
    "# 3단출력\n",
    "def dan3():\n",
    "    for gop in range(1, 10):\n",
    "        print(f\"3 * {gop} = {3 * gop:>2}\")\n",
    "def dan8():\n",
    "    for gop in range(1, 10):\n",
    "        print(f\"8 * {gop} = {8 * gop:>2}\")\n",
    "\n",
    "dan3()\n",
    "dan8()"
   ]
  },
  {
   "cell_type": "code",
   "execution_count": null,
   "id": "a2e64cf9",
   "metadata": {},
   "outputs": [],
   "source": [
    "# 함수를 만드는 4가지 형식\n",
    "# def 함수명(매개변수):\n",
    "#     명령어1\n",
    "#     명령어2\n",
    "#     ...\n",
    "#     return 결과값\n",
    "\n",
    "# 함수명(argument) : 인자, 인수 : 실제 값을 가지고 있는것"
   ]
  },
  {
   "cell_type": "code",
   "execution_count": 96,
   "id": "6f43c224",
   "metadata": {},
   "outputs": [
    {
     "name": "stdout",
     "output_type": "stream",
     "text": [
      "28\n"
     ]
    }
   ],
   "source": [
    "'''1. 일반적인 함수 : parameter도 있고 결과값이 있다.'''\n",
    "\n",
    "def f(x): # 피호출함수\n",
    "    return 3 + x *5 # return은 결과값을 호출함수에게 전달\n",
    "\n",
    "z= f(5) # 호출함수\n",
    "print(z)"
   ]
  },
  {
   "cell_type": "code",
   "execution_count": 98,
   "id": "616cf4fb",
   "metadata": {},
   "outputs": [
    {
     "name": "stdout",
     "output_type": "stream",
     "text": [
      "7\n"
     ]
    }
   ],
   "source": [
    "def add(x, y):\n",
    "    return x + y\n",
    "\n",
    "z = add(3, 4)\n",
    "\n",
    "print(z)"
   ]
  }
 ],
 "metadata": {
  "kernelspec": {
   "display_name": "Python 3 (ipykernel)",
   "language": "python",
   "name": "python3"
  },
  "language_info": {
   "codemirror_mode": {
    "name": "ipython",
    "version": 3
   },
   "file_extension": ".py",
   "mimetype": "text/x-python",
   "name": "python",
   "nbconvert_exporter": "python",
   "pygments_lexer": "ipython3",
   "version": "3.10.4"
  }
 },
 "nbformat": 4,
 "nbformat_minor": 5
}
