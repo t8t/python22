{
 "cells": [
  {
   "cell_type": "code",
   "execution_count": null,
   "id": "d3413234",
   "metadata": {},
   "outputs": [],
   "source": [
    "제어문 : 조건식 if, if ~ else, if ~ elif ~ else\n",
    "         반복문 while, for\n",
    "함수"
   ]
  },
  {
   "cell_type": "code",
   "execution_count": null,
   "id": "5c28bf21",
   "metadata": {},
   "outputs": [],
   "source": [
    "print(\"나무를 1번 찍었습니다.\")\n",
    "print(\"나무를 2번 찍었습니다.\")\n",
    "print(\"나무를 3번 찍었습니다.\")\n",
    "print(\"나무를 4번 찍었습니다.\")\n",
    "print(\"나무를 5번 찍었습니다.\")\n",
    "print(\"나무를 6번 찍었습니다.\")\n",
    "print(\"나무를 7번 찍었습니다.\")\n",
    "print(\"나무를 8번 찍었습니다.\")\n",
    "print(\"나무를 9번 찍었습니다.\")\n",
    "print(\"나무를 10번 찍었습니다.\")\n",
    "print(\"나무가 넘어갑니다.\")"
   ]
  },
  {
   "cell_type": "code",
   "execution_count": 8,
   "id": "f42ded74",
   "metadata": {},
   "outputs": [
    {
     "name": "stdout",
     "output_type": "stream",
     "text": [
      "나무를 1번 찍었습니다.\n",
      "나무를 2번 찍었습니다.\n",
      "나무를 3번 찍었습니다.\n",
      "나무를 4번 찍었습니다.\n",
      "나무를 5번 찍었습니다.\n",
      "나무를 6번 찍었습니다.\n",
      "나무를 7번 찍었습니다.\n",
      "나무를 8번 찍었습니다.\n",
      "나무를 9번 찍었습니다.\n",
      "나무를 10번 찍었습니다.\n",
      "나무가 넘어갑니다.\n"
     ]
    }
   ],
   "source": [
    "i = 1 \n",
    "while i <= 10: # 1\n",
    "    #print(f\"나무를 {i}번 찍었습니다.\") # 2\n",
    "    #print(\"나무를 {0}번 찍었습니다.\".format(i))\n",
    "    print(\"나무를 %d번 찍었습니다.\" % (i))\n",
    "    # 3\n",
    "    i = i + 1 # i = 1 + 1, i = 2 + 1, ... i = 10 + 1\n",
    "    # 1 - 2 - 3 - 1 - 2 - 3 - ... - 1\n",
    "print(\"나무가 넘어갑니다.\")"
   ]
  },
  {
   "cell_type": "code",
   "execution_count": 1,
   "id": "8f8b9981",
   "metadata": {},
   "outputs": [
    {
     "name": "stdout",
     "output_type": "stream",
     "text": [
      "8 * 1 = 8\n",
      "8 * 2 = 16\n",
      "8 * 3 = 24\n",
      "8 * 4 = 32\n",
      "8 * 5 = 40\n",
      "8 * 6 = 48\n",
      "8 * 7 = 56\n",
      "8 * 8 = 64\n",
      "8 * 9 = 72\n",
      "==============================\n",
      "8 * 1 = 8\n",
      "8 * 2 = 16\n",
      "8 * 3 = 24\n",
      "8 * 4 = 32\n",
      "8 * 5 = 40\n",
      "8 * 6 = 48\n",
      "8 * 7 = 56\n",
      "8 * 8 = 64\n",
      "8 * 9 = 72\n"
     ]
    }
   ],
   "source": [
    "# 8단 출력\n",
    "print(f\"8 * 1 = {8 * 1}\")\n",
    "print(f\"8 * 2 = {8 * 2}\")\n",
    "print(f\"8 * 3 = {8 * 3}\")\n",
    "print(f\"8 * 4 = {8 * 4}\")\n",
    "print(f\"8 * 5 = {8 * 5}\")\n",
    "print(f\"8 * 6 = {8 * 6}\")\n",
    "print(f\"8 * 7 = {8 * 7}\")\n",
    "print(f\"8 * 8 = {8 * 8}\")\n",
    "print(f\"8 * 9 = {8 * 9}\")\n",
    "\n",
    "print(\"=\" * 30)\n",
    "\n",
    "i = 1\n",
    "while i <= 9:\n",
    "    print(f\"8 * {i} = {8 * i}\")\n",
    "    #i = i + 1\n",
    "    i += 1"
   ]
  },
  {
   "cell_type": "code",
   "execution_count": 4,
   "id": "590874f7",
   "metadata": {},
   "outputs": [
    {
     "name": "stdout",
     "output_type": "stream",
     "text": [
      "단을 입력하세요.5\n",
      "5 * 1 = 5\n",
      "5 * 2 = 10\n",
      "5 * 3 = 15\n",
      "5 * 4 = 20\n",
      "5 * 5 = 25\n",
      "5 * 6 = 30\n",
      "5 * 7 = 35\n",
      "5 * 8 = 40\n",
      "5 * 9 = 45\n"
     ]
    }
   ],
   "source": [
    "dan = int(input(\"단을 입력하세요.\"))\n",
    "\n",
    "i = 1\n",
    "while i <= 9:\n",
    "    print(f\"{dan} * {i} = {dan * i}\")\n",
    "    i += 1"
   ]
  },
  {
   "cell_type": "code",
   "execution_count": 7,
   "id": "0a2d0e8b",
   "metadata": {},
   "outputs": [
    {
     "name": "stdout",
     "output_type": "stream",
     "text": [
      "5 * 1 = 5\n",
      "5 * 2 = 10\n",
      "5 * 3 = 15\n",
      "5 * 4 = 20\n",
      "5 * 5 = 25\n",
      "5 * 6 = 30\n",
      "5 * 7 = 35\n",
      "5 * 8 = 40\n",
      "5 * 9 = 45\n",
      "==============================\n",
      "6 * 1 = 6\n",
      "6 * 2 = 12\n",
      "6 * 3 = 18\n",
      "6 * 4 = 24\n",
      "6 * 5 = 30\n",
      "6 * 6 = 36\n",
      "6 * 7 = 42\n",
      "6 * 8 = 48\n",
      "6 * 9 = 54\n",
      "==============================\n",
      "7 * 1 = 7\n",
      "7 * 2 = 14\n",
      "7 * 3 = 21\n",
      "7 * 4 = 28\n",
      "7 * 5 = 35\n",
      "7 * 6 = 42\n",
      "7 * 7 = 49\n",
      "7 * 8 = 56\n",
      "7 * 9 = 63\n"
     ]
    }
   ],
   "source": [
    "# 5단 출력\n",
    "i = 1\n",
    "while i <= 9:\n",
    "    print(f\"5 * {i} = {5 * i}\")\n",
    "    i += 1\n",
    "\n",
    "print(\"=\" * 30)\n",
    "\n",
    "# 6단 출력\n",
    "i = 1\n",
    "while i <= 9:\n",
    "    print(f\"6 * {i} = {6 * i}\")\n",
    "    i += 1\n",
    "\n",
    "print(\"=\" * 30)\n",
    "\n",
    "# 7단 출력\n",
    "i = 1\n",
    "while i <= 9:\n",
    "    print(f\"7 * {i} = {7 * i}\")\n",
    "    i += 1"
   ]
  },
  {
   "cell_type": "code",
   "execution_count": 11,
   "id": "88fdef71",
   "metadata": {},
   "outputs": [
    {
     "name": "stdout",
     "output_type": "stream",
     "text": [
      "5 * 1 =  5\n",
      "5 * 2 = 10\n",
      "5 * 3 = 15\n",
      "5 * 4 = 20\n",
      "5 * 5 = 25\n",
      "5 * 6 = 30\n",
      "5 * 7 = 35\n",
      "5 * 8 = 40\n",
      "5 * 9 = 45\n",
      "==============================\n",
      "6 * 1 =  6\n",
      "6 * 2 = 12\n",
      "6 * 3 = 18\n",
      "6 * 4 = 24\n",
      "6 * 5 = 30\n",
      "6 * 6 = 36\n",
      "6 * 7 = 42\n",
      "6 * 8 = 48\n",
      "6 * 9 = 54\n",
      "==============================\n",
      "7 * 1 =  7\n",
      "7 * 2 = 14\n",
      "7 * 3 = 21\n",
      "7 * 4 = 28\n",
      "7 * 5 = 35\n",
      "7 * 6 = 42\n",
      "7 * 7 = 49\n",
      "7 * 8 = 56\n",
      "7 * 9 = 63\n",
      "==============================\n"
     ]
    }
   ],
   "source": [
    "dan = 5\n",
    "while dan <= 7:\n",
    "    i = 1\n",
    "    while i <= 9:\n",
    "        print(f\"{dan} * {i} = {dan * i:>2}\")\n",
    "        i += 1\n",
    "    print(\"=\" * 30)\n",
    "    dan += 1"
   ]
  },
  {
   "cell_type": "code",
   "execution_count": 12,
   "id": "fa9fd6c2",
   "metadata": {},
   "outputs": [
    {
     "name": "stdout",
     "output_type": "stream",
     "text": [
      "시작단을 입력하세요3\n",
      "마지막단을 입력하세요5\n",
      "시작곱을 입력하세요4\n",
      "마지막곱을 입력하세요8\n",
      "3 * 4 = 12\n",
      "3 * 5 = 15\n",
      "3 * 6 = 18\n",
      "3 * 7 = 21\n",
      "3 * 8 = 24\n",
      "==============================\n",
      "4 * 4 = 16\n",
      "4 * 5 = 20\n",
      "4 * 6 = 24\n",
      "4 * 7 = 28\n",
      "4 * 8 = 32\n",
      "==============================\n",
      "5 * 4 = 20\n",
      "5 * 5 = 25\n",
      "5 * 6 = 30\n",
      "5 * 7 = 35\n",
      "5 * 8 = 40\n",
      "==============================\n"
     ]
    }
   ],
   "source": [
    "startDan = int(input(\"시작단을 입력하세요\"))\n",
    "endDan = int(input(\"마지막단을 입력하세요\"))\n",
    "\n",
    "startGop = int(input(\"시작곱을 입력하세요\"))\n",
    "endGop = int(input(\"마지막곱을 입력하세요\"))\n",
    "\n",
    "dan = startDan\n",
    "while dan <= endDan:\n",
    "    i = startGop\n",
    "    while i <= endGop:\n",
    "        print(f\"{dan} * {i} = {dan * i:>2}\")\n",
    "        i += 1\n",
    "    print(\"=\" * 30)\n",
    "    dan += 1"
   ]
  },
  {
   "cell_type": "code",
   "execution_count": 35,
   "id": "ad08f08f",
   "metadata": {},
   "outputs": [
    {
     "name": "stdout",
     "output_type": "stream",
     "text": [
      "[1, 2, 3, 4, 5, 6, 7, 8, 9, 10, 11, 12, 13, 14, 15, 16, 17, 18, 19, 20, 21, 22, 23, 24, 25, 26, 27, 28, 29, 30, 31, 32, 33, 34, 35, 36, 37, 38, 39, 40, 41, 42, 43, 44, 45]\n",
      "10,26,20,41,25,28,"
     ]
    }
   ],
   "source": [
    "import random\n",
    "\n",
    "lotto = [] # 빈 리스트\n",
    "i = 1\n",
    "\n",
    "while i <= 45:\n",
    "    lotto.append(i)\n",
    "    i += 1\n",
    "\n",
    "print(lotto)\n",
    "\n",
    "# rnd = random.randint(0, 44)\n",
    "# print(rnd)\n",
    "# print(lotto[rnd])\n",
    "\n",
    "lottosize = len(lotto)\n",
    "i = 1\n",
    "while i <= 6:\n",
    "    lottosize -= 1\n",
    "    idx = random.randint(0, lottosize)\n",
    "    lottonum = lotto.pop(idx)\n",
    "    print(lottonum, end = \",\")\n",
    "    i += 1"
   ]
  },
  {
   "cell_type": "code",
   "execution_count": 44,
   "id": "db4c1601",
   "metadata": {},
   "outputs": [
    {
     "name": "stdout",
     "output_type": "stream",
     "text": [
      "구매 수량을 입력하세요5\n",
      "44, 22, 13, 17, 36,  8, \n",
      "28, 25, 40,  6, 39, 10, \n",
      " 4, 11, 41, 20, 27, 26, \n",
      "24, 11, 19, 13, 36, 28, \n",
      " 3, 18, 16, 23, 20,  1, \n"
     ]
    }
   ],
   "source": [
    "import random\n",
    "\n",
    "icnt = int(input(\"구매 수량을 입력하세요\"))\n",
    "j = 1\n",
    "while j <= icnt:\n",
    "    lotto = [] # 빈 리스트\n",
    "    l = 1\n",
    "    while l <= 45:\n",
    "        lotto.append(l)\n",
    "        l += 1\n",
    "    lottosize = len(lotto)\n",
    "    i = 1\n",
    "    while i <= 6:\n",
    "        lottosize -= 1\n",
    "        idx = random.randint(0, lottosize)\n",
    "        lottonum = lotto.pop(idx)\n",
    "        print(f\"{lottonum:>2}\", end = \", \")\n",
    "        i += 1\n",
    "    print()\n",
    "    j += 1"
   ]
  },
  {
   "cell_type": "code",
   "execution_count": 45,
   "id": "e62169b1",
   "metadata": {},
   "outputs": [
    {
     "name": "stdout",
     "output_type": "stream",
     "text": [
      "5050\n"
     ]
    }
   ],
   "source": [
    "# 1 ~ 100까지 합을 구하시오\n",
    "\n",
    "i = 1\n",
    "sum = 0\n",
    "\n",
    "while i <= 100:\n",
    "    sum += i\n",
    "    i += 1\n",
    "\n",
    "print(sum)"
   ]
  },
  {
   "cell_type": "code",
   "execution_count": 47,
   "id": "97d546be",
   "metadata": {},
   "outputs": [
    {
     "name": "stdout",
     "output_type": "stream",
     "text": [
      "5050\n"
     ]
    }
   ],
   "source": [
    "# 1 ~ 100까지 합을 구하시오\n",
    "\n",
    "i = 1\n",
    "sum = 0\n",
    "\n",
    "while True:\n",
    "    if i > 100:\n",
    "        break\n",
    "    sum += i\n",
    "    i += 1\n",
    "\n",
    "print(sum)"
   ]
  },
  {
   "cell_type": "code",
   "execution_count": 51,
   "id": "e7ce8ca1",
   "metadata": {},
   "outputs": [
    {
     "name": "stdout",
     "output_type": "stream",
     "text": [
      "2\n",
      "4\n",
      "6\n",
      "8\n",
      "10\n",
      "12\n",
      "14\n",
      "16\n",
      "18\n",
      "20\n"
     ]
    }
   ],
   "source": [
    "# 1  20중 찍수만 출력하시오.\n",
    "\n",
    "i = 0\n",
    "\n",
    "while i < 20:\n",
    "    i += 1\n",
    "    if i % 2 != 0:\n",
    "        continue\n",
    "    print(i)"
   ]
  },
  {
   "cell_type": "code",
   "execution_count": 54,
   "id": "7155477a",
   "metadata": {},
   "outputs": [
    {
     "name": "stdout",
     "output_type": "stream",
     "text": [
      "2500\n"
     ]
    }
   ],
   "source": [
    "# 1 ~ 100중 홀수의 합을 구하시오.\n",
    "\n",
    "i = 0\n",
    "sum = 0\n",
    "while i < 100:\n",
    "    i += 1\n",
    "    if i % 2 == 0:\n",
    "        continue\n",
    "    sum += i\n",
    "\n",
    "print(sum)"
   ]
  },
  {
   "cell_type": "code",
   "execution_count": 55,
   "id": "0663cdb5",
   "metadata": {},
   "outputs": [
    {
     "name": "stdout",
     "output_type": "stream",
     "text": [
      "2500\n"
     ]
    }
   ],
   "source": [
    "# 1 ~ 100중 홀수의 합을 구하시오.\n",
    "\n",
    "i = 1\n",
    "sum = 0\n",
    "while i <= 100:\n",
    "    if i % 2 != 0:\n",
    "        sum += i\n",
    "    i += 1\n",
    "print(sum)"
   ]
  },
  {
   "cell_type": "code",
   "execution_count": 56,
   "id": "44bb0460",
   "metadata": {},
   "outputs": [
    {
     "name": "stdout",
     "output_type": "stream",
     "text": [
      "2500\n"
     ]
    }
   ],
   "source": [
    "# 1 ~ 100중 홀수의 합을 구하시오.\n",
    "\n",
    "i = 1\n",
    "sum = 0\n",
    "while True:\n",
    "    if i > 100:\n",
    "        break\n",
    "    if i % 2 != 0:\n",
    "        sum += i\n",
    "    i += 1\n",
    "print(sum)"
   ]
  },
  {
   "cell_type": "code",
   "execution_count": 62,
   "id": "65a2bec2",
   "metadata": {},
   "outputs": [
    {
     "name": "stdout",
     "output_type": "stream",
     "text": [
      "105\n",
      "105\n",
      "105\n"
     ]
    }
   ],
   "source": [
    "# 리스트에 있는 합을 구하시오\n",
    "l = [1,43,5,56]\n",
    "idx = 0\n",
    "listsize = len(l)\n",
    "sum = 0\n",
    "\n",
    "while idx < listsize:\n",
    "    sum += l[idx]\n",
    "    idx += 1\n",
    "\n",
    "print(sum)\n",
    "\n",
    "# for 문으로 변경\n",
    "sum = 0\n",
    "\n",
    "for num in l:\n",
    "    sum += num\n",
    "print(sum)\n",
    "\n",
    "t = (1,43,5,56)\n",
    "sum = 0\n",
    "for num in t:\n",
    "    sum += num\n",
    "print(sum)"
   ]
  },
  {
   "cell_type": "code",
   "execution_count": 66,
   "id": "8e42e06a",
   "metadata": {},
   "outputs": [
    {
     "name": "stdout",
     "output_type": "stream",
     "text": [
      "(1, 2)\n",
      "(3, 4)\n",
      "(5, 6)\n",
      "1 2\n",
      "3\n",
      "3 4\n",
      "7\n",
      "5 6\n",
      "11\n"
     ]
    }
   ],
   "source": [
    "l1 = [(1,2), (3,4), (5,6)]\n",
    "\n",
    "for num in l1:\n",
    "    print(num)\n",
    "\n",
    "for (a, b) in l1:\n",
    "    print(a, b)\n",
    "    print(a + b)"
   ]
  },
  {
   "cell_type": "code",
   "execution_count": 67,
   "id": "75a9cb96",
   "metadata": {},
   "outputs": [
    {
     "name": "stdout",
     "output_type": "stream",
     "text": [
      "6\n",
      "12\n",
      "18\n"
     ]
    }
   ],
   "source": [
    "l1 = [(1,2,3), (3,4,5), (5,6,7)]\n",
    "\n",
    "for (a, b, c) in l1:\n",
    "    print(a + b + c)"
   ]
  },
  {
   "cell_type": "code",
   "execution_count": 68,
   "id": "0605b910",
   "metadata": {},
   "outputs": [
    {
     "ename": "ValueError",
     "evalue": "too many values to unpack (expected 2)",
     "output_type": "error",
     "traceback": [
      "\u001b[1;31m---------------------------------------------------------------------------\u001b[0m",
      "\u001b[1;31mValueError\u001b[0m                                Traceback (most recent call last)",
      "Input \u001b[1;32mIn [68]\u001b[0m, in \u001b[0;36m<cell line: 3>\u001b[1;34m()\u001b[0m\n\u001b[0;32m      1\u001b[0m l1 \u001b[38;5;241m=\u001b[39m [(\u001b[38;5;241m1\u001b[39m,\u001b[38;5;241m2\u001b[39m,\u001b[38;5;241m3\u001b[39m), (\u001b[38;5;241m3\u001b[39m,\u001b[38;5;241m4\u001b[39m), (\u001b[38;5;241m5\u001b[39m,\u001b[38;5;241m6\u001b[39m,\u001b[38;5;241m7\u001b[39m)]\n\u001b[1;32m----> 3\u001b[0m \u001b[38;5;28;01mfor\u001b[39;00m (a, b) \u001b[38;5;129;01min\u001b[39;00m l1:\n\u001b[0;32m      4\u001b[0m     \u001b[38;5;28mprint\u001b[39m(a \u001b[38;5;241m+\u001b[39m b \u001b[38;5;241m+\u001b[39m c)\n",
      "\u001b[1;31mValueError\u001b[0m: too many values to unpack (expected 2)"
     ]
    }
   ],
   "source": [
    "l1 = [(1,2,3), (3,4), (5,6,7)]\n",
    "\n",
    "for (a, b) in l1:\n",
    "    print(a + b + c)"
   ]
  },
  {
   "cell_type": "code",
   "execution_count": 72,
   "id": "b027bc42",
   "metadata": {},
   "outputs": [
    {
     "name": "stdout",
     "output_type": "stream",
     "text": [
      "5050\n",
      "5050\n",
      "2550\n"
     ]
    }
   ],
   "source": [
    "i = 1\n",
    "sum = 0\n",
    "while i <= 100:\n",
    "    sum += i\n",
    "    i += 1\n",
    "print(sum)\n",
    "\n",
    "sum = 0\n",
    "for num in range(1, 1 + 100):\n",
    "    sum += num\n",
    "print(sum)\n",
    "\n",
    "# 1 ~ 100 중 짝수만 더하시오. for 문\n",
    "sum = 0\n",
    "for num in range(1, 1 + 100):\n",
    "    if num % 2 != 0:\n",
    "        continue\n",
    "    sum += num\n",
    "print(sum)"
   ]
  },
  {
   "cell_type": "code",
   "execution_count": 75,
   "id": "f2ada091",
   "metadata": {},
   "outputs": [
    {
     "name": "stdout",
     "output_type": "stream",
     "text": [
      "[3, 6, 9, 12]\n",
      "==============================\n",
      "[3, 6, 9, 12]\n"
     ]
    }
   ],
   "source": [
    "# a튜플에 있는 값에 3을 더한 값을 빈 리스트에 저장하시오.\n",
    "a = (1,2,3,4)\n",
    "result = []\n",
    "\n",
    "for num in a:\n",
    "    result.append(num * 3)\n",
    "print(result)\n",
    "\n",
    "print(\"=\" * 30)\n",
    "result = [num * 3 for num in a]\n",
    "print(result)"
   ]
  },
  {
   "cell_type": "code",
   "execution_count": 78,
   "id": "b0f81d61",
   "metadata": {},
   "outputs": [
    {
     "name": "stdout",
     "output_type": "stream",
     "text": [
      "[6, 12]\n",
      "==============================\n",
      "[6, 12]\n"
     ]
    }
   ],
   "source": [
    "# a튜플에서 값이 짝수인 것만 3을 곱한 값을 리스트에 추가하시오.\n",
    "a = (1,2,3,4)\n",
    "result = []\n",
    "\n",
    "for num in a:\n",
    "    if num % 2 == 0:\n",
    "        result.append(num * 3)\n",
    "print(result)\n",
    "\n",
    "print(\"=\" * 30)\n",
    "result = [num * 3 for num in a if num % 2 == 0]\n",
    "print(result)"
   ]
  },
  {
   "cell_type": "code",
   "execution_count": 81,
   "id": "e5691d53",
   "metadata": {},
   "outputs": [
    {
     "name": "stdout",
     "output_type": "stream",
     "text": [
      "18\n",
      "34\n"
     ]
    }
   ],
   "source": [
    "# 함수\n",
    "# f(x, y) = 2x + 3y \n",
    "# z = f(3,4)\n",
    "def f(x, y):\n",
    "    return 2*x + 3*y\n",
    "\n",
    "z = f(3,4)\n",
    "print(z)\n",
    "\n",
    "z = f(5,8)\n",
    "print(z)"
   ]
  },
  {
   "cell_type": "code",
   "execution_count": 91,
   "id": "dee3532b",
   "metadata": {},
   "outputs": [
    {
     "name": "stdout",
     "output_type": "stream",
     "text": [
      "5 * 1 =  5\n",
      "5 * 2 = 10\n",
      "5 * 3 = 15\n",
      "5 * 4 = 20\n",
      "5 * 5 = 25\n",
      "5 * 6 = 30\n",
      "5 * 7 = 35\n",
      "5 * 8 = 40\n",
      "5 * 9 = 45\n",
      "==============================\n",
      "3 * 1 =  3\n",
      "3 * 2 =  6\n",
      "3 * 3 =  9\n",
      "3 * 4 = 12\n",
      "3 * 5 = 15\n",
      "3 * 6 = 18\n",
      "3 * 7 = 21\n",
      "3 * 8 = 24\n",
      "3 * 9 = 27\n",
      "==============================\n",
      "5 * 1 =  5\n",
      "5 * 2 = 10\n",
      "5 * 3 = 15\n",
      "5 * 4 = 20\n",
      "5 * 5 = 25\n",
      "5 * 6 = 30\n",
      "5 * 7 = 35\n",
      "5 * 8 = 40\n",
      "5 * 9 = 45\n",
      "==============================\n",
      "9 * 1 =  9\n",
      "9 * 2 = 18\n",
      "9 * 3 = 27\n",
      "9 * 4 = 36\n",
      "9 * 5 = 45\n",
      "9 * 6 = 54\n",
      "9 * 7 = 63\n",
      "9 * 8 = 72\n",
      "9 * 9 = 81\n"
     ]
    }
   ],
   "source": [
    "# 3단\n",
    "# 5단\n",
    "# 9단\n",
    "\n",
    "for gop in range(1, 10):\n",
    "    print(f\"5 * {gop} = {5 * gop:>2}\")\n",
    "print(\"=\" * 30)\n",
    "\n",
    "def guguDan(dan):\n",
    "    for gop in range(1, 10):\n",
    "        print(f\"{dan} * {gop} = {dan * gop:>2}\")\n",
    "\n",
    "guguDan(3)\n",
    "print(\"=\" * 30)\n",
    "guguDan(5)\n",
    "print(\"=\" * 30)\n",
    "guguDan(9)"
   ]
  },
  {
   "cell_type": "code",
   "execution_count": 94,
   "id": "15939a4d",
   "metadata": {},
   "outputs": [
    {
     "name": "stdout",
     "output_type": "stream",
     "text": [
      "3 * 1 =  3\n",
      "3 * 2 =  6\n",
      "3 * 3 =  9\n",
      "3 * 4 = 12\n",
      "3 * 5 = 15\n",
      "3 * 6 = 18\n",
      "3 * 7 = 21\n",
      "3 * 8 = 24\n",
      "3 * 9 = 27\n",
      "8 * 1 =  8\n",
      "8 * 2 = 16\n",
      "8 * 3 = 24\n",
      "8 * 4 = 32\n",
      "8 * 5 = 40\n",
      "8 * 6 = 48\n",
      "8 * 7 = 56\n",
      "8 * 8 = 64\n",
      "8 * 9 = 72\n"
     ]
    }
   ],
   "source": [
    "# 3단출력\n",
    "def dan3():\n",
    "    for gop in range(1, 10):\n",
    "        print(f\"3 * {gop} = {3 * gop:>2}\")\n",
    "def dan8():\n",
    "    for gop in range(1, 10):\n",
    "        print(f\"8 * {gop} = {8 * gop:>2}\")\n",
    "\n",
    "dan3()\n",
    "dan8()"
   ]
  },
  {
   "cell_type": "code",
   "execution_count": null,
   "id": "8e92d513",
   "metadata": {},
   "outputs": [],
   "source": [
    "# 함수를 만드는 4가지 형식\n",
    "# def 함수명(매개변수):\n",
    "#     명령어1\n",
    "#     명령어2\n",
    "#     ...\n",
    "#     return 결과값\n",
    "\n",
    "# 함수명(argument) : 인자, 인수 : 실제 값을 가지고 있는것"
   ]
  },
  {
   "cell_type": "code",
   "execution_count": 96,
   "id": "022a1ead",
   "metadata": {},
   "outputs": [
    {
     "name": "stdout",
     "output_type": "stream",
     "text": [
      "28\n"
     ]
    }
   ],
   "source": [
    "'''1. 일반적인 함수 : parameter도 있고 결과값이 있다.'''\n",
    "\n",
    "def f(x): # 피호출함수\n",
    "    return 3 + x *5 # return은 결과값을 호출함수에게 전달\n",
    "\n",
    "z= f(5) # 호출함수\n",
    "print(z)"
   ]
  },
  {
   "cell_type": "code",
   "execution_count": 98,
   "id": "dff5ad38",
   "metadata": {},
   "outputs": [
    {
     "name": "stdout",
     "output_type": "stream",
     "text": [
      "7\n"
     ]
    }
   ],
   "source": [
    "def add(x, y):\n",
    "    return x + y\n",
    "\n",
    "z = add(3, 4)\n",
    "\n",
    "print(z)"
   ]
  },
  {
   "cell_type": "code",
   "execution_count": 101,
   "id": "5fc2b709",
   "metadata": {},
   "outputs": [
    {
     "name": "stdout",
     "output_type": "stream",
     "text": [
      "40\n"
     ]
    }
   ],
   "source": [
    "'''2. 입력값은 없지만, 결과값이 있다.'''\n",
    "def add():\n",
    "    x = 10\n",
    "    y = 30\n",
    "    return x + y\n",
    "\n",
    "z = add()\n",
    "print(z)"
   ]
  },
  {
   "cell_type": "code",
   "execution_count": 103,
   "id": "1149dd87",
   "metadata": {},
   "outputs": [
    {
     "name": "stdout",
     "output_type": "stream",
     "text": [
      "숫자를 입력해 주세요.30\n",
      "숫자를 입력해 주세요.30\n",
      "60\n"
     ]
    }
   ],
   "source": [
    "def add():\n",
    "    x = int(input(\"숫자를 입력해 주세요.\"))\n",
    "    y = int(input(\"숫자를 입력해 주세요.\"))\n",
    "    return x + y\n",
    "\n",
    "z = add()\n",
    "print(z)"
   ]
  },
  {
   "cell_type": "code",
   "execution_count": 105,
   "id": "0a3a86d4",
   "metadata": {},
   "outputs": [
    {
     "name": "stdout",
     "output_type": "stream",
     "text": [
      "50\n",
      "None\n"
     ]
    }
   ],
   "source": [
    "'''3. 입력값은 있으나 결과값이 없다.'''\n",
    "\n",
    "def add2(x, y):\n",
    "    result = x + y\n",
    "    print(result)\n",
    "    \n",
    "z = add2(30, 20)\n",
    "print(z)"
   ]
  },
  {
   "cell_type": "code",
   "execution_count": 107,
   "id": "6d01a7f8",
   "metadata": {},
   "outputs": [
    {
     "name": "stdout",
     "output_type": "stream",
     "text": [
      "숫자를 입력해 주세요30\n",
      "숫자를 입력해 주세요20\n",
      "50\n",
      "None\n"
     ]
    }
   ],
   "source": [
    "'''4. 입력값도 없고 결과값도 없다'''\n",
    "def add3():\n",
    "    x = int(input(\"숫자를 입력해 주세요\"))\n",
    "    y = int(input(\"숫자를 입력해 주세요\"))\n",
    "    print(x + y)\n",
    "\n",
    "z = add3()\n",
    "print(z)"
   ]
  },
  {
   "cell_type": "code",
   "execution_count": 111,
   "id": "30fcd299",
   "metadata": {},
   "outputs": [
    {
     "name": "stdout",
     "output_type": "stream",
     "text": [
      "39, 17, 31, 28, 22, 33, "
     ]
    }
   ],
   "source": [
    "import random\n",
    "\n",
    "lotto = []\n",
    "for n in range(1, 1+45):\n",
    "    lotto.append(n)\n",
    "# print(lotto)\n",
    "\n",
    "lottosize = len(lotto)\n",
    "j = 1\n",
    "while j <= 6:\n",
    "    lottosize -= 1\n",
    "    idx = random.randint(0, lottosize)\n",
    "    num = lotto.pop(idx)\n",
    "    print(num, end=\", \")\n",
    "    j += 1"
   ]
  },
  {
   "cell_type": "code",
   "execution_count": 121,
   "id": "a4902113",
   "metadata": {},
   "outputs": [],
   "source": [
    "import random\n",
    "\n",
    "def lottoFnc():\n",
    "    lotto = []\n",
    "    for n in range(1, 1+45):\n",
    "        lotto.append(n)\n",
    "    # print(lotto)\n",
    "\n",
    "    lottosize = len(lotto)\n",
    "    j = 1\n",
    "    while j <= 6:\n",
    "        lottosize -= 1\n",
    "        idx = random.randint(0, lottosize)\n",
    "        num = lotto.pop(idx)\n",
    "        print(f\"{num:>2}\", end=\", \")\n",
    "        j += 1"
   ]
  },
  {
   "cell_type": "code",
   "execution_count": 125,
   "id": "4c6cbc31",
   "metadata": {},
   "outputs": [
    {
     "name": "stdout",
     "output_type": "stream",
     "text": [
      "수량을 입력하세요.5\n",
      "16, 15, 36, 40, 18, 4 , \n",
      "33, 22, 11, 36, 43, 40, \n",
      "26, 34, 7 , 16, 10, 22, \n",
      "26, 32, 43, 11, 22, 36, \n",
      "39, 33, 18, 22, 44, 20, \n"
     ]
    }
   ],
   "source": [
    "num = int(input(\"수량을 입력하세요.\"))\n",
    "i = 1\n",
    "while i <= num:\n",
    "    lottoFnc()\n",
    "    print()\n",
    "    i += 1"
   ]
  },
  {
   "cell_type": "code",
   "execution_count": 128,
   "id": "20aab0c1",
   "metadata": {},
   "outputs": [
    {
     "name": "stdout",
     "output_type": "stream",
     "text": [
      "5050\n"
     ]
    }
   ],
   "source": [
    "# 1~100, 1~1000, 50~1000 에 해당하는 합계 값을 구하시오.\n",
    "sum = 0\n",
    "for i in range(1, 1+100):\n",
    "    sum += i\n",
    "print(sum)"
   ]
  },
  {
   "cell_type": "code",
   "execution_count": 135,
   "id": "ec66d870",
   "metadata": {},
   "outputs": [],
   "source": [
    "def sum1(start, end):\n",
    "    sum = 0\n",
    "    for i in range(start, 1 + end):\n",
    "        sum += i\n",
    "    print(sum)"
   ]
  },
  {
   "cell_type": "code",
   "execution_count": 137,
   "id": "e8bae5ab",
   "metadata": {},
   "outputs": [
    {
     "name": "stdout",
     "output_type": "stream",
     "text": [
      "5050\n",
      "500500\n",
      "499275\n"
     ]
    }
   ],
   "source": [
    "sum1(1, 100)\n",
    "sum1(1, 1000)\n",
    "sum1(50, 1000)"
   ]
  },
  {
   "cell_type": "code",
   "execution_count": 140,
   "id": "4a1ad744",
   "metadata": {},
   "outputs": [],
   "source": [
    "def sum1(start, end):\n",
    "    sum = 0\n",
    "    for i in range(start, 1 + end):\n",
    "        sum += i\n",
    "    return sum"
   ]
  },
  {
   "cell_type": "code",
   "execution_count": 141,
   "id": "541fa002",
   "metadata": {},
   "outputs": [
    {
     "name": "stdout",
     "output_type": "stream",
     "text": [
      "500455\n"
     ]
    }
   ],
   "source": [
    "z = sum1(10, 1000)\n",
    "print(z)"
   ]
  },
  {
   "cell_type": "code",
   "execution_count": 142,
   "id": "8c3202d8",
   "metadata": {},
   "outputs": [
    {
     "name": "stdout",
     "output_type": "stream",
     "text": [
      "500500\n"
     ]
    }
   ],
   "source": [
    "z = sum1(end = 1000, start = 1)\n",
    "print(z)"
   ]
  },
  {
   "cell_type": "code",
   "execution_count": 144,
   "id": "c46065b3",
   "metadata": {},
   "outputs": [
    {
     "name": "stdout",
     "output_type": "stream",
     "text": [
      "4\n",
      "7\n",
      "11\n",
      "56\n"
     ]
    }
   ],
   "source": [
    "def sum11(*para):\n",
    "    sum = 1\n",
    "    for num in para:\n",
    "        sum += num\n",
    "    print(sum)\n",
    "\n",
    "sum11(1, 2)\n",
    "sum11(1, 2, 3)\n",
    "sum11(1, 2, 3, 4)\n",
    "sum11(1,2,3,4,5,6,7,8,9,10)"
   ]
  },
  {
   "cell_type": "code",
   "execution_count": 161,
   "id": "235c5637",
   "metadata": {},
   "outputs": [],
   "source": [
    "def sum11(opt, *para):\n",
    "    sum = 0\n",
    "    if opt == \"add\":\n",
    "        for num in para:\n",
    "            sum += num\n",
    "    elif opt == \"mul\":\n",
    "         for num in para:\n",
    "            sum *= num\n",
    "    print(sum)"
   ]
  },
  {
   "cell_type": "code",
   "execution_count": 163,
   "id": "8442b903",
   "metadata": {},
   "outputs": [
    {
     "name": "stdout",
     "output_type": "stream",
     "text": [
      "10\n",
      "0\n"
     ]
    }
   ],
   "source": [
    "sum11(\"add\", 1,2,3,4)\n",
    "sum11(\"mul\", 1,2,3,4,45,5,5)"
   ]
  },
  {
   "cell_type": "code",
   "execution_count": 164,
   "id": "48b364ed",
   "metadata": {},
   "outputs": [
    {
     "name": "stdout",
     "output_type": "stream",
     "text": [
      "10 20\n"
     ]
    }
   ],
   "source": [
    "a, b = (10, 20)\n",
    "print(a, b)"
   ]
  },
  {
   "cell_type": "code",
   "execution_count": 165,
   "id": "18b4c39f",
   "metadata": {},
   "outputs": [],
   "source": [
    "# return문에 의해 전달 되는 값은 오로지 하나이다.\n",
    "def add_mul(x, y):\n",
    "    i = x + y\n",
    "    j = x * y\n",
    "    return i, j"
   ]
  },
  {
   "cell_type": "code",
   "execution_count": 168,
   "id": "7feccdb7",
   "metadata": {},
   "outputs": [
    {
     "name": "stdout",
     "output_type": "stream",
     "text": [
      "(50, 600)\n",
      "70 1000\n"
     ]
    }
   ],
   "source": [
    "z = add_mul(20, 30)\n",
    "print(z)\n",
    "\n",
    "x, y = add_mul(20, 50)\n",
    "print(x, y)"
   ]
  },
  {
   "cell_type": "code",
   "execution_count": 169,
   "id": "f814344c",
   "metadata": {},
   "outputs": [],
   "source": [
    "def add_mul(x, y):\n",
    "    i = x + y\n",
    "    j = x * y\n",
    "    return i # return은 함수 종료\n",
    "    return j"
   ]
  },
  {
   "cell_type": "code",
   "execution_count": 170,
   "id": "ac01692b",
   "metadata": {},
   "outputs": [],
   "source": [
    "# 매개변수에 초기값 미리 설정하기\n",
    "def say_myself(name, old, man = True):\n",
    "    print(\"나의 이름은 %s입니다.\" % name)\n",
    "    print(\"나이는 %d살입니다.\" % old)\n",
    "    if man:\n",
    "        print(\"남자입니다\")\n",
    "    else:\n",
    "        print(\"여자입니다\")"
   ]
  },
  {
   "cell_type": "code",
   "execution_count": 172,
   "id": "5019b919",
   "metadata": {},
   "outputs": [
    {
     "name": "stdout",
     "output_type": "stream",
     "text": [
      "나의 이름은 TONY입니다.\n",
      "나이는 40살입니다.\n",
      "남자입니다\n",
      "나의 이름은 FREDDIE입니다.\n",
      "나이는 40살입니다.\n",
      "여자입니다\n"
     ]
    }
   ],
   "source": [
    "say_myself(\"TONY\", 40)\n",
    "say_myself(\"FREDDIE\", 40, False)"
   ]
  },
  {
   "cell_type": "code",
   "execution_count": 175,
   "id": "4b1bec82",
   "metadata": {},
   "outputs": [
    {
     "ename": "SyntaxError",
     "evalue": "non-default argument follows default argument (964291170.py, line 1)",
     "output_type": "error",
     "traceback": [
      "\u001b[1;36m  Input \u001b[1;32mIn [175]\u001b[1;36m\u001b[0m\n\u001b[1;33m    def say_myself(name, old = 25, man):\u001b[0m\n\u001b[1;37m                                   ^\u001b[0m\n\u001b[1;31mSyntaxError\u001b[0m\u001b[1;31m:\u001b[0m non-default argument follows default argument\n"
     ]
    }
   ],
   "source": [
    "def say_myself(name, old = 25, man):\n",
    "    print(\"나의 이름은 %s입니다.\" % name)\n",
    "    print(\"나이는 %d살입니다.\" % old)\n",
    "    if man:\n",
    "        print(\"남자입니다\")\n",
    "    else:\n",
    "        print(\"여자입니다\")\n",
    "\n",
    "say_myself(\"TONY\", False)"
   ]
  },
  {
   "cell_type": "code",
   "execution_count": 182,
   "id": "74af379c",
   "metadata": {},
   "outputs": [
    {
     "name": "stdout",
     "output_type": "stream",
     "text": [
      "나의 이름은 TONY입니다.\n",
      "나이는 25살입니다.\n",
      "남자입니다\n",
      "나의 이름은 TONY입니다.\n",
      "나이는 25살입니다.\n",
      "여자입니다\n"
     ]
    }
   ],
   "source": [
    "def say_myself(name, old = 25, man = True):\n",
    "    print(\"나의 이름은 %s입니다.\" % name)\n",
    "    print(\"나이는 %d살입니다.\" % old)\n",
    "    if man:\n",
    "        print(\"남자입니다\")\n",
    "    else:\n",
    "        print(\"여자입니다\")\n",
    "        \n",
    "say_myself(\"TONY\")\n",
    "say_myself(\"TONY\", man = False)"
   ]
  },
  {
   "cell_type": "code",
   "execution_count": null,
   "id": "e62e6c84",
   "metadata": {},
   "outputs": [],
   "source": [
    "파이썬 기본 자료형 : 숫자, 문자열, 리스트, 튜플, 딕셔너리, 집합, 부울\n",
    "제어문 : if, if ~ else, if ~ elif ~ else, 조건문\n",
    "         while, for, break, continue : 반복문\n",
    "함수"
   ]
  }
 ],
 "metadata": {
  "kernelspec": {
   "display_name": "Python 3 (ipykernel)",
   "language": "python",
   "name": "python3"
  },
  "language_info": {
   "codemirror_mode": {
    "name": "ipython",
    "version": 3
   },
   "file_extension": ".py",
   "mimetype": "text/x-python",
   "name": "python",
   "nbconvert_exporter": "python",
   "pygments_lexer": "ipython3",
   "version": "3.10.4"
  }
 },
 "nbformat": 4,
 "nbformat_minor": 5
}
